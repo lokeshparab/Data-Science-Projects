{
 "cells": [
  {
   "cell_type": "markdown",
   "id": "451499a6",
   "metadata": {},
   "source": [
    "# Import Library"
   ]
  },
  {
   "cell_type": "code",
   "execution_count": 1,
   "id": "74303ccd",
   "metadata": {},
   "outputs": [],
   "source": [
    "import numpy    as np # linear algebra\n",
    "import pandas   as pd # data processing, CSV file I/O (e.g. pd.read_csv)\n",
    "import requests as rq\n",
    "\n",
    "from bs4  import BeautifulSoup as BS\n",
    "from tqdm import tqdm\n",
    "import re"
   ]
  },
  {
   "cell_type": "markdown",
   "id": "1bed74e3",
   "metadata": {},
   "source": [
    "# Function"
   ]
  },
  {
   "cell_type": "code",
   "execution_count": 2,
   "id": "d6ff93ab",
   "metadata": {},
   "outputs": [],
   "source": [
    "def force_bs_content(link):\n",
    "    res  = rq.get(link)\n",
    "    \n",
    "    while not res.ok : res = rq.get(link)\n",
    "    \n",
    "    return BS(res.content,'html.parser')"
   ]
  },
  {
   "cell_type": "markdown",
   "id": "917fefa3",
   "metadata": {},
   "source": [
    "# Webscraping Top 250 IMDb Shows"
   ]
  },
  {
   "cell_type": "code",
   "execution_count": 12,
   "id": "7542f0fb",
   "metadata": {},
   "outputs": [
    {
     "name": "stderr",
     "output_type": "stream",
     "text": [
      "100%|████████████████████████████████████████████████████████████████████████████████████| 5/5 [00:16<00:00,  3.25s/it]\n"
     ]
    }
   ],
   "source": [
    "link = '?title_type=tvSeries'\n",
    "\n",
    "columns = ['id','name','year','certificate','runtime(minutes)','genre','ratings']\n",
    "shows = { k: [] for k in columns }\n",
    "\n",
    "for _ in tqdm(range(5)):\n",
    "    \n",
    "    link    = link.get('href') if type(link) != str else link\n",
    "    link    = \"https://www.imdb.com/search/keyword/\" + link\n",
    "    \n",
    "    content = force_bs_content(link)\n",
    "    \n",
    "    for show in content.find_all('div',class_ ='lister-item mode-detail'):\n",
    "        \n",
    "        tag         = 'lister-item-year text-muted unbold'\n",
    "        \n",
    "        id_         = show.find('div').get('data-tconst')\n",
    "        details     = show.find('div', class_ = 'lister-item-content')\n",
    "        \n",
    "        \n",
    "        name_year   = details.find('h3')\n",
    "        name        = name_year.find('a')\n",
    "        year        = name_year.find('span', class_ = tag)\n",
    "        \n",
    "        certificate = details.find('span',class_ = 'certificate')\n",
    "        runtime     = details.find('span',class_ = 'runtime'    )\n",
    "        genre       = details.find('span',class_ = 'genre'      )\n",
    "        ratings     = details.find('strong')\n",
    "        \n",
    "        name        = float('nan') if name        == None else name.text\n",
    "        year        = float('nan') if certificate == None else year.text\n",
    "        certificate = float('nan') if certificate == None else certificate.text\n",
    "        runtime     = float('nan') if runtime     == None else runtime.text\n",
    "        genre       = float('nan') if genre       == None else genre.text\n",
    "        ratings     = float('nan') if ratings     == None else float(ratings.text)\n",
    "        \n",
    "        \n",
    "        shows['id'              ].append(id_)\n",
    "        shows['name'            ].append(name)\n",
    "        shows['year'            ].append(year)\n",
    "        shows['certificate'     ].append(certificate)\n",
    "        shows['runtime(minutes)'].append(runtime)\n",
    "        shows['genre'           ].append(genre)\n",
    "        shows['ratings'         ].append(ratings)\n",
    "        \n",
    "    link = content.find('div' , class_= 'desc')\n",
    "    \n",
    "    if link is None: break\n",
    "    \n",
    "    link = link.find('a')\n",
    "        \n"
   ]
  },
  {
   "cell_type": "code",
   "execution_count": 13,
   "id": "ef44f3b6",
   "metadata": {},
   "outputs": [],
   "source": [
    "shows = pd.DataFrame(shows)"
   ]
  },
  {
   "cell_type": "code",
   "execution_count": 14,
   "id": "6c5c0765",
   "metadata": {},
   "outputs": [
    {
     "data": {
      "text/html": [
       "<div>\n",
       "<style scoped>\n",
       "    .dataframe tbody tr th:only-of-type {\n",
       "        vertical-align: middle;\n",
       "    }\n",
       "\n",
       "    .dataframe tbody tr th {\n",
       "        vertical-align: top;\n",
       "    }\n",
       "\n",
       "    .dataframe thead th {\n",
       "        text-align: right;\n",
       "    }\n",
       "</style>\n",
       "<table border=\"1\" class=\"dataframe\">\n",
       "  <thead>\n",
       "    <tr style=\"text-align: right;\">\n",
       "      <th></th>\n",
       "      <th>id</th>\n",
       "      <th>name</th>\n",
       "      <th>year</th>\n",
       "      <th>certificate</th>\n",
       "      <th>runtime(minutes)</th>\n",
       "      <th>genre</th>\n",
       "      <th>ratings</th>\n",
       "    </tr>\n",
       "  </thead>\n",
       "  <tbody>\n",
       "    <tr>\n",
       "      <th>0</th>\n",
       "      <td>tt3581920</td>\n",
       "      <td>The Last of Us</td>\n",
       "      <td>(2023– )</td>\n",
       "      <td>UA 16+</td>\n",
       "      <td>50 min</td>\n",
       "      <td>\\nAction, Adventure, Drama</td>\n",
       "      <td>9.2</td>\n",
       "    </tr>\n",
       "    <tr>\n",
       "      <th>1</th>\n",
       "      <td>tt14269590</td>\n",
       "      <td>Poker Face</td>\n",
       "      <td>NaN</td>\n",
       "      <td>NaN</td>\n",
       "      <td>58 min</td>\n",
       "      <td>\\nCrime, Drama, Mystery</td>\n",
       "      <td>8.2</td>\n",
       "    </tr>\n",
       "    <tr>\n",
       "      <th>2</th>\n",
       "      <td>tt13406094</td>\n",
       "      <td>The White Lotus</td>\n",
       "      <td>(2021–2023)</td>\n",
       "      <td>18</td>\n",
       "      <td>60 min</td>\n",
       "      <td>\\nComedy, Drama</td>\n",
       "      <td>7.9</td>\n",
       "    </tr>\n",
       "    <tr>\n",
       "      <th>3</th>\n",
       "      <td>tt13802576</td>\n",
       "      <td>Lockwood &amp; Co</td>\n",
       "      <td>(2023– )</td>\n",
       "      <td>UA 13+</td>\n",
       "      <td>44 min</td>\n",
       "      <td>\\nAction, Adventure, Drama</td>\n",
       "      <td>7.5</td>\n",
       "    </tr>\n",
       "    <tr>\n",
       "      <th>4</th>\n",
       "      <td>tt4236770</td>\n",
       "      <td>Yellowstone</td>\n",
       "      <td>(2018–2023)</td>\n",
       "      <td>18</td>\n",
       "      <td>60 min</td>\n",
       "      <td>\\nDrama, Western</td>\n",
       "      <td>8.7</td>\n",
       "    </tr>\n",
       "  </tbody>\n",
       "</table>\n",
       "</div>"
      ],
      "text/plain": [
       "           id             name         year certificate runtime(minutes)  \\\n",
       "0   tt3581920   The Last of Us     (2023– )      UA 16+           50 min   \n",
       "1  tt14269590       Poker Face          NaN         NaN           58 min   \n",
       "2  tt13406094  The White Lotus  (2021–2023)          18           60 min   \n",
       "3  tt13802576    Lockwood & Co     (2023– )      UA 13+           44 min   \n",
       "4   tt4236770      Yellowstone  (2018–2023)          18           60 min   \n",
       "\n",
       "                                    genre  ratings  \n",
       "0  \\nAction, Adventure, Drama                  9.2  \n",
       "1     \\nCrime, Drama, Mystery                  8.2  \n",
       "2             \\nComedy, Drama                  7.9  \n",
       "3  \\nAction, Adventure, Drama                  7.5  \n",
       "4            \\nDrama, Western                  8.7  "
      ]
     },
     "execution_count": 14,
     "metadata": {},
     "output_type": "execute_result"
    }
   ],
   "source": [
    "shows.head()"
   ]
  },
  {
   "cell_type": "code",
   "execution_count": 15,
   "id": "f53352d5",
   "metadata": {},
   "outputs": [
    {
     "name": "stdout",
     "output_type": "stream",
     "text": [
      "<class 'pandas.core.frame.DataFrame'>\n",
      "RangeIndex: 250 entries, 0 to 249\n",
      "Data columns (total 7 columns):\n",
      " #   Column            Non-Null Count  Dtype  \n",
      "---  ------            --------------  -----  \n",
      " 0   id                250 non-null    object \n",
      " 1   name              250 non-null    object \n",
      " 2   year              204 non-null    object \n",
      " 3   certificate       204 non-null    object \n",
      " 4   runtime(minutes)  230 non-null    object \n",
      " 5   genre             250 non-null    object \n",
      " 6   ratings           250 non-null    float64\n",
      "dtypes: float64(1), object(6)\n",
      "memory usage: 13.8+ KB\n"
     ]
    }
   ],
   "source": [
    "shows.info()"
   ]
  },
  {
   "cell_type": "markdown",
   "id": "6c156ae6",
   "metadata": {},
   "source": [
    "# Data Preprocesing"
   ]
  },
  {
   "cell_type": "code",
   "execution_count": 16,
   "id": "67df9475",
   "metadata": {},
   "outputs": [],
   "source": [
    "def runtime(data):\n",
    "    if type(data) == str:\n",
    "        return int(data.split()[0])\n",
    "    else: return data"
   ]
  },
  {
   "cell_type": "code",
   "execution_count": 17,
   "id": "e6cd8425",
   "metadata": {},
   "outputs": [],
   "source": [
    "def year(data):\n",
    "    if type(data) == str:\n",
    "        if 'II' in data :return data[6:-1]\n",
    "        else: return data[1:-1]\n",
    "    else:\n",
    "        return data"
   ]
  },
  {
   "cell_type": "code",
   "execution_count": 18,
   "id": "5c7084d6",
   "metadata": {},
   "outputs": [],
   "source": [
    "shows['year'            ] = shows['year'            ].apply( year                )\n",
    "shows['runtime(minutes)'] = shows['runtime(minutes)'].apply( runtime             )\n",
    "shows['genre'           ] = shows['genre'           ].apply( lambda x: x.strip() )"
   ]
  },
  {
   "cell_type": "code",
   "execution_count": 19,
   "id": "81f7da5b",
   "metadata": {},
   "outputs": [
    {
     "data": {
      "text/html": [
       "<div>\n",
       "<style scoped>\n",
       "    .dataframe tbody tr th:only-of-type {\n",
       "        vertical-align: middle;\n",
       "    }\n",
       "\n",
       "    .dataframe tbody tr th {\n",
       "        vertical-align: top;\n",
       "    }\n",
       "\n",
       "    .dataframe thead th {\n",
       "        text-align: right;\n",
       "    }\n",
       "</style>\n",
       "<table border=\"1\" class=\"dataframe\">\n",
       "  <thead>\n",
       "    <tr style=\"text-align: right;\">\n",
       "      <th></th>\n",
       "      <th>id</th>\n",
       "      <th>name</th>\n",
       "      <th>year</th>\n",
       "      <th>certificate</th>\n",
       "      <th>runtime(minutes)</th>\n",
       "      <th>genre</th>\n",
       "      <th>ratings</th>\n",
       "    </tr>\n",
       "  </thead>\n",
       "  <tbody>\n",
       "    <tr>\n",
       "      <th>0</th>\n",
       "      <td>tt3581920</td>\n",
       "      <td>The Last of Us</td>\n",
       "      <td>2023–</td>\n",
       "      <td>UA 16+</td>\n",
       "      <td>50.0</td>\n",
       "      <td>Action, Adventure, Drama</td>\n",
       "      <td>9.2</td>\n",
       "    </tr>\n",
       "    <tr>\n",
       "      <th>1</th>\n",
       "      <td>tt14269590</td>\n",
       "      <td>Poker Face</td>\n",
       "      <td>NaN</td>\n",
       "      <td>NaN</td>\n",
       "      <td>58.0</td>\n",
       "      <td>Crime, Drama, Mystery</td>\n",
       "      <td>8.2</td>\n",
       "    </tr>\n",
       "    <tr>\n",
       "      <th>2</th>\n",
       "      <td>tt13406094</td>\n",
       "      <td>The White Lotus</td>\n",
       "      <td>2021–2023</td>\n",
       "      <td>18</td>\n",
       "      <td>60.0</td>\n",
       "      <td>Comedy, Drama</td>\n",
       "      <td>7.9</td>\n",
       "    </tr>\n",
       "    <tr>\n",
       "      <th>3</th>\n",
       "      <td>tt13802576</td>\n",
       "      <td>Lockwood &amp; Co</td>\n",
       "      <td>2023–</td>\n",
       "      <td>UA 13+</td>\n",
       "      <td>44.0</td>\n",
       "      <td>Action, Adventure, Drama</td>\n",
       "      <td>7.5</td>\n",
       "    </tr>\n",
       "    <tr>\n",
       "      <th>4</th>\n",
       "      <td>tt4236770</td>\n",
       "      <td>Yellowstone</td>\n",
       "      <td>2018–2023</td>\n",
       "      <td>18</td>\n",
       "      <td>60.0</td>\n",
       "      <td>Drama, Western</td>\n",
       "      <td>8.7</td>\n",
       "    </tr>\n",
       "  </tbody>\n",
       "</table>\n",
       "</div>"
      ],
      "text/plain": [
       "           id             name       year certificate  runtime(minutes)  \\\n",
       "0   tt3581920   The Last of Us     2023–       UA 16+              50.0   \n",
       "1  tt14269590       Poker Face        NaN         NaN              58.0   \n",
       "2  tt13406094  The White Lotus  2021–2023          18              60.0   \n",
       "3  tt13802576    Lockwood & Co     2023–       UA 13+              44.0   \n",
       "4   tt4236770      Yellowstone  2018–2023          18              60.0   \n",
       "\n",
       "                      genre  ratings  \n",
       "0  Action, Adventure, Drama      9.2  \n",
       "1     Crime, Drama, Mystery      8.2  \n",
       "2             Comedy, Drama      7.9  \n",
       "3  Action, Adventure, Drama      7.5  \n",
       "4            Drama, Western      8.7  "
      ]
     },
     "execution_count": 19,
     "metadata": {},
     "output_type": "execute_result"
    }
   ],
   "source": [
    "shows.head()"
   ]
  },
  {
   "cell_type": "code",
   "execution_count": null,
   "id": "c2ccf56c",
   "metadata": {},
   "outputs": [],
   "source": [
    "shows.to_csv('Top_250_Shows.csv', index = False)"
   ]
  }
 ],
 "metadata": {
  "kernelspec": {
   "display_name": "Python 3 (ipykernel)",
   "language": "python",
   "name": "python3"
  },
  "language_info": {
   "codemirror_mode": {
    "name": "ipython",
    "version": 3
   },
   "file_extension": ".py",
   "mimetype": "text/x-python",
   "name": "python",
   "nbconvert_exporter": "python",
   "pygments_lexer": "ipython3",
   "version": "3.9.12"
  }
 },
 "nbformat": 4,
 "nbformat_minor": 5
}
