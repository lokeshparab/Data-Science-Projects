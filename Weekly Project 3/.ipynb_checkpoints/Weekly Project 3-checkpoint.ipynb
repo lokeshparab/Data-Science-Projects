{
 "cells": [
  {
   "cell_type": "markdown",
   "id": "505b12fe",
   "metadata": {},
   "source": [
    "# A program to create 100 files in a folder named from \"Ashish 1\" to \"Ashish 100\"."
   ]
  },
  {
   "cell_type": "markdown",
   "id": "a1a23194",
   "metadata": {},
   "source": [
    "## creating Folder name Ashish"
   ]
  },
  {
   "cell_type": "code",
   "execution_count": 1,
   "id": "6b7ec265",
   "metadata": {},
   "outputs": [],
   "source": [
    "!mkdir Ashish"
   ]
  },
  {
   "cell_type": "markdown",
   "id": "602ffc67",
   "metadata": {},
   "source": [
    "## Importing OS library"
   ]
  },
  {
   "cell_type": "code",
   "execution_count": 2,
   "id": "46ec4b6e",
   "metadata": {},
   "outputs": [
    {
     "data": {
      "text/plain": [
       "['.ipynb_checkpoints', 'Ashish', 'Untitled.ipynb']"
      ]
     },
     "execution_count": 2,
     "metadata": {},
     "output_type": "execute_result"
    }
   ],
   "source": [
    "import os\n",
    "os.listdir()"
   ]
  },
  {
   "cell_type": "markdown",
   "id": "0727f9e0",
   "metadata": {},
   "source": [
    "## Main Program"
   ]
  },
  {
   "cell_type": "code",
   "execution_count": 4,
   "id": "3638ed1e",
   "metadata": {},
   "outputs": [],
   "source": [
    "# creating for loop from 1 to 100\n",
    "for i in range(1,101):\n",
    "    # Create text file name \n",
    "    file = 'Ashish ' + str(i) + '.txt'\n",
    "    # Adding path to Folder name Ashish\n",
    "    path = 'Ashish/'+ file\n",
    "    # Opening and creating file in write mode\n",
    "    fd = open( path ,'w')\n",
    "    # Write data inside file\n",
    "    fd.write('This is a file contains about '+ file)\n",
    "    # Closing the file\n",
    "    fd.close()"
   ]
  }
 ],
 "metadata": {
  "kernelspec": {
   "display_name": "Python 3 (ipykernel)",
   "language": "python",
   "name": "python3"
  },
  "language_info": {
   "codemirror_mode": {
    "name": "ipython",
    "version": 3
   },
   "file_extension": ".py",
   "mimetype": "text/x-python",
   "name": "python",
   "nbconvert_exporter": "python",
   "pygments_lexer": "ipython3",
   "version": "3.9.12"
  }
 },
 "nbformat": 4,
 "nbformat_minor": 5
}
