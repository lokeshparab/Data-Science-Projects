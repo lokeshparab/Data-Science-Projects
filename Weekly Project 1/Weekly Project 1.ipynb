{
 "cells": [
  {
   "cell_type": "markdown",
   "id": "14e41ee9",
   "metadata": {},
   "source": [
    "# A program to write data on a text file."
   ]
  },
  {
   "cell_type": "markdown",
   "id": "62d2af97",
   "metadata": {},
   "source": [
    "## Print the text file in system "
   ]
  },
  {
   "cell_type": "code",
   "execution_count": 1,
   "id": "7040b6f6",
   "metadata": {},
   "outputs": [],
   "source": [
    "def file_names():\n",
    "    import os\n",
    "    print('Available Files','-' * 40,sep='\\n')\n",
    "    for i in os.listdir():\n",
    "        if i[-4:] == '.txt':\n",
    "            print(i[:-4])\n",
    "    print('-' * 40 )"
   ]
  },
  {
   "cell_type": "markdown",
   "id": "38d1fc95",
   "metadata": {},
   "source": [
    "## Read and Write Function"
   ]
  },
  {
   "cell_type": "code",
   "execution_count": 7,
   "id": "c57c1a98",
   "metadata": {},
   "outputs": [],
   "source": [
    "def write_file(data,file_name):\n",
    "    file = file_name + '.txt'\n",
    "    fd = open( file , 'w' )\n",
    "    fd.write( data )\n",
    "    fd.write('\\n')\n",
    "    print('')\n",
    "    print('Data has been saved sucessfully in',file)\n",
    "    fd.close()\n",
    "    \n",
    "def append_file(data,file_name):\n",
    "    file = file_name + '.txt'\n",
    "    fd = open( file , 'a' )\n",
    "    fd.write( data )\n",
    "    fd.write('\\n')\n",
    "    print('Data has been append sucessfully in',file)\n",
    "    fd.close()\n",
    "    \n",
    "def read_file(file_name):\n",
    "    file = file_name + '.txt'\n",
    "    try:\n",
    "        fd = open( file , 'r')\n",
    "        data = fd.read()\n",
    "        print('Data in',file_name,':')\n",
    "        print(data)\n",
    "        fd.close()\n",
    "        return True\n",
    "    except FileNotFoundError :\n",
    "        print('No such file or directory named',file)\n",
    "        print('Try again ....','-' * 40,sep='\\n')\n",
    "        file_names()\n",
    "        return False"
   ]
  },
  {
   "cell_type": "markdown",
   "id": "cbf7d83d",
   "metadata": {},
   "source": [
    "## Choice funtion"
   ]
  },
  {
   "cell_type": "code",
   "execution_count": 3,
   "id": "b10f0740",
   "metadata": {},
   "outputs": [],
   "source": [
    "def choices():\n",
    "    choice = input('Enter your choice number: ')\n",
    "    try:\n",
    "        choice = int(choice)\n",
    "        if 0 < choice < 5:\n",
    "            return choice\n",
    "        else :\n",
    "            print('Enter valid number try again ....')\n",
    "            print('-'*40)\n",
    "            return False\n",
    "    except:\n",
    "        print('Invalid input try again ....')\n",
    "        print('-'*40)\n",
    "        return False"
   ]
  },
  {
   "cell_type": "markdown",
   "id": "41a757e9",
   "metadata": {},
   "source": [
    "## Main Program"
   ]
  },
  {
   "cell_type": "code",
   "execution_count": 10,
   "id": "3855765a",
   "metadata": {},
   "outputs": [
    {
     "name": "stdout",
     "output_type": "stream",
     "text": [
      "********************User option********************\n",
      "1. Write File\n",
      "2. Read File\n",
      "3. Append File\n",
      "4. Exit\n",
      "----------------------------------------\n",
      "Enter your choice number: 2\n",
      "****************************************\n",
      "Available Files\n",
      "----------------------------------------\n",
      "Lokesh\n",
      "Lokeshq\n",
      "Partik\n",
      "Suyash\n",
      "----------------------------------------\n",
      "Enter the file name or type exit: exit\n",
      "********************User option********************\n",
      "1. Write File\n",
      "2. Read File\n",
      "3. Append File\n",
      "4. Exit\n",
      "----------------------------------------\n",
      "Enter your choice number: 2\n",
      "****************************************\n",
      "Available Files\n",
      "----------------------------------------\n",
      "Lokesh\n",
      "Lokeshq\n",
      "Partik\n",
      "Suyash\n",
      "----------------------------------------\n",
      "Enter the file name or type exit: Exit \n",
      "********************User option********************\n",
      "1. Write File\n",
      "2. Read File\n",
      "3. Append File\n",
      "4. Exit\n",
      "----------------------------------------\n",
      "Enter your choice number: 2\n",
      "****************************************\n",
      "Available Files\n",
      "----------------------------------------\n",
      "Lokesh\n",
      "Lokeshq\n",
      "Partik\n",
      "Suyash\n",
      "----------------------------------------\n",
      "Enter the file name or type exit: ExIT\n",
      "********************User option********************\n",
      "1. Write File\n",
      "2. Read File\n",
      "3. Append File\n",
      "4. Exit\n",
      "----------------------------------------\n",
      "Enter your choice number: 4\n",
      "****************************************\n"
     ]
    }
   ],
   "source": [
    "if __name__ == '__main__':\n",
    "    while True:\n",
    "        # print the information of operation to be performed\n",
    "        print( '*' * 20 +'User option' + '*' *20 )\n",
    "        print('1. Write File')\n",
    "        print('2. Read File')\n",
    "        print('3. Append File')\n",
    "        print('4. Exit','-' * 40 , sep='\\n')\n",
    "        # getting output from choice function\n",
    "        choice = choices()  \n",
    "        \n",
    "        # if choice== False then divert back again\n",
    "        if not choice: continue\n",
    "        print('*'*40)\n",
    "        # exit while loop function\n",
    "        if choice == 4: break\n",
    "        # print available file name function\n",
    "        file_names()\n",
    "        # choice for  write file\n",
    "        if choice == 1:\n",
    "            # Taking file name and data\n",
    "            file_name = input('Enter the file name: ')\n",
    "            data = input('Enter the data: ')\n",
    "            # write file function\n",
    "            write_file(data,file_name)\n",
    "            \n",
    "        # choice for read and append file\n",
    "        else:\n",
    "            while True:\n",
    "                # Taking file name from user\n",
    "                file_name = input('Enter the file name or type exit: ')\n",
    "                \n",
    "                exit = file_name.strip().lower()\n",
    "                if exit == 'exit': break\n",
    "            \n",
    "                # For Read file\n",
    "                if choice == 2:\n",
    "                    # read file function\n",
    "                    if read_file(file_name): break\n",
    "                \n",
    "                # For Append file\n",
    "                else:\n",
    "                    # Taking data from user \n",
    "                    data = input('Enter the data: ')\n",
    "                    # append file function\n",
    "                    append_file(data,file_name)\n",
    "                    break"
   ]
  },
  {
   "cell_type": "code",
   "execution_count": null,
   "id": "47c2f020",
   "metadata": {},
   "outputs": [],
   "source": []
  }
 ],
 "metadata": {
  "kernelspec": {
   "display_name": "Python 3 (ipykernel)",
   "language": "python",
   "name": "python3"
  },
  "language_info": {
   "codemirror_mode": {
    "name": "ipython",
    "version": 3
   },
   "file_extension": ".py",
   "mimetype": "text/x-python",
   "name": "python",
   "nbconvert_exporter": "python",
   "pygments_lexer": "ipython3",
   "version": "3.9.12"
  }
 },
 "nbformat": 4,
 "nbformat_minor": 5
}
