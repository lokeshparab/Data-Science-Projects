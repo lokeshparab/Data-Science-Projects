{
 "cells": [
  {
   "cell_type": "markdown",
   "id": "85aee72f",
   "metadata": {},
   "source": [
    "# Based on the Baseball_ball data.csv dataset answer the following questions:\n",
    "\n",
    "## 1.  Who are the Top 5 players having height more than average?\n",
    "\n",
    "![](question_1.PNG)\n",
    "\n",
    "## 2.  Name 2 players having least weight and must be left handed?\n",
    "\n",
    "![](question_2.PNG)"
   ]
  }
 ],
 "metadata": {
  "kernelspec": {
   "display_name": "Python 3 (ipykernel)",
   "language": "python",
   "name": "python3"
  },
  "language_info": {
   "codemirror_mode": {
    "name": "ipython",
    "version": 3
   },
   "file_extension": ".py",
   "mimetype": "text/x-python",
   "name": "python",
   "nbconvert_exporter": "python",
   "pygments_lexer": "ipython3",
   "version": "3.9.12"
  }
 },
 "nbformat": 4,
 "nbformat_minor": 5
}
