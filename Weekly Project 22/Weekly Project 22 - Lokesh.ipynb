{
 "cells": [
  {
   "cell_type": "code",
   "execution_count": 1,
   "id": "7376232b",
   "metadata": {
    "_cell_guid": "b1076dfc-b9ad-4769-8c92-a6c4dae69d19",
    "_uuid": "8f2839f25d086af736a60e9eeb907d3b93b6e0e5",
    "execution": {
     "iopub.execute_input": "2023-03-05T15:01:11.038828Z",
     "iopub.status.busy": "2023-03-05T15:01:11.038093Z",
     "iopub.status.idle": "2023-03-05T15:01:11.059259Z",
     "shell.execute_reply": "2023-03-05T15:01:11.057760Z"
    },
    "papermill": {
     "duration": 0.036369,
     "end_time": "2023-03-05T15:01:11.062281",
     "exception": false,
     "start_time": "2023-03-05T15:01:11.025912",
     "status": "completed"
    },
    "tags": []
   },
   "outputs": [
    {
     "name": "stdout",
     "output_type": "stream",
     "text": [
      "/kaggle/input/imdb-tv-show-webscraping/__results__.html\n",
      "/kaggle/input/imdb-tv-show-webscraping/Shows.csv\n",
      "/kaggle/input/imdb-tv-show-webscraping/__notebook__.ipynb\n",
      "/kaggle/input/imdb-tv-show-webscraping/__output__.json\n",
      "/kaggle/input/imdb-tv-show-webscraping/custom.css\n"
     ]
    }
   ],
   "source": [
    "# This Python 3 environment comes with many helpful analytics libraries installed\n",
    "# It is defined by the kaggle/python Docker image: https://github.com/kaggle/docker-python\n",
    "# For example, here's several helpful packages to load\n",
    "\n",
    "import numpy as np # linear algebra\n",
    "import pandas as pd # data processing, CSV file I/O (e.g. pd.read_csv)\n",
    "\n",
    "# Input data files are available in the read-only \"../input/\" directory\n",
    "# For example, running this (by clicking run or pressing Shift+Enter) will list all files under the input directory\n",
    "\n",
    "import os\n",
    "for dirname, _, filenames in os.walk('/kaggle/input'):\n",
    "    for filename in filenames:\n",
    "        print(os.path.join(dirname, filename))\n",
    "\n",
    "# You can write up to 20GB to the current directory (/kaggle/working/) that gets preserved as output when you create a version using \"Save & Run All\" \n",
    "# You can also write temporary files to /kaggle/temp/, but they won't be saved outside of the current session"
   ]
  },
  {
   "cell_type": "markdown",
   "id": "1793ff68",
   "metadata": {
    "papermill": {
     "duration": 0.008005,
     "end_time": "2023-03-05T15:01:11.079247",
     "exception": false,
     "start_time": "2023-03-05T15:01:11.071242",
     "status": "completed"
    },
    "tags": []
   },
   "source": [
    "# Import library"
   ]
  },
  {
   "cell_type": "code",
   "execution_count": 2,
   "id": "057dae73",
   "metadata": {
    "execution": {
     "iopub.execute_input": "2023-03-05T15:01:11.097667Z",
     "iopub.status.busy": "2023-03-05T15:01:11.097192Z",
     "iopub.status.idle": "2023-03-05T15:01:11.309058Z",
     "shell.execute_reply": "2023-03-05T15:01:11.307953Z"
    },
    "papermill": {
     "duration": 0.224067,
     "end_time": "2023-03-05T15:01:11.311691",
     "exception": false,
     "start_time": "2023-03-05T15:01:11.087624",
     "status": "completed"
    },
    "tags": []
   },
   "outputs": [],
   "source": [
    "import numpy    as np # linear algebra\n",
    "import pandas   as pd # data processing, CSV file I/O (e.g. pd.read_csv)\n",
    "import requests as rq\n",
    "\n",
    "from bs4  import BeautifulSoup as BS\n",
    "from tqdm import tqdm"
   ]
  },
  {
   "cell_type": "markdown",
   "id": "72dd457a",
   "metadata": {
    "papermill": {
     "duration": 0.008106,
     "end_time": "2023-03-05T15:01:11.328204",
     "exception": false,
     "start_time": "2023-03-05T15:01:11.320098",
     "status": "completed"
    },
    "tags": []
   },
   "source": [
    "# Loading Dataset"
   ]
  },
  {
   "cell_type": "code",
   "execution_count": 3,
   "id": "e5ea4378",
   "metadata": {
    "execution": {
     "iopub.execute_input": "2023-03-05T15:01:11.347000Z",
     "iopub.status.busy": "2023-03-05T15:01:11.346342Z",
     "iopub.status.idle": "2023-03-05T15:01:11.970405Z",
     "shell.execute_reply": "2023-03-05T15:01:11.969607Z"
    },
    "papermill": {
     "duration": 0.636496,
     "end_time": "2023-03-05T15:01:11.972969",
     "exception": false,
     "start_time": "2023-03-05T15:01:11.336473",
     "status": "completed"
    },
    "tags": []
   },
   "outputs": [
    {
     "data": {
      "text/html": [
       "<div>\n",
       "<style scoped>\n",
       "    .dataframe tbody tr th:only-of-type {\n",
       "        vertical-align: middle;\n",
       "    }\n",
       "\n",
       "    .dataframe tbody tr th {\n",
       "        vertical-align: top;\n",
       "    }\n",
       "\n",
       "    .dataframe thead th {\n",
       "        text-align: right;\n",
       "    }\n",
       "</style>\n",
       "<table border=\"1\" class=\"dataframe\">\n",
       "  <thead>\n",
       "    <tr style=\"text-align: right;\">\n",
       "      <th></th>\n",
       "      <th>id</th>\n",
       "      <th>name</th>\n",
       "      <th>year</th>\n",
       "      <th>certificate</th>\n",
       "      <th>runtime</th>\n",
       "      <th>genre</th>\n",
       "      <th>ratings</th>\n",
       "    </tr>\n",
       "  </thead>\n",
       "  <tbody>\n",
       "    <tr>\n",
       "      <th>0</th>\n",
       "      <td>tt3581920</td>\n",
       "      <td>The Last of Us</td>\n",
       "      <td>(2023– )</td>\n",
       "      <td>TV-MA</td>\n",
       "      <td>50 min</td>\n",
       "      <td>\\nAction, Adventure, Drama</td>\n",
       "      <td>9.3</td>\n",
       "    </tr>\n",
       "    <tr>\n",
       "      <th>1</th>\n",
       "      <td>tt14153790</td>\n",
       "      <td>Velma</td>\n",
       "      <td>(2023– )</td>\n",
       "      <td>TV-MA</td>\n",
       "      <td>NaN</td>\n",
       "      <td>\\nAnimation, Adventure, Comedy</td>\n",
       "      <td>1.3</td>\n",
       "    </tr>\n",
       "    <tr>\n",
       "      <th>2</th>\n",
       "      <td>tt15591076</td>\n",
       "      <td>That '90s Show</td>\n",
       "      <td>(2023– )</td>\n",
       "      <td>TV-14</td>\n",
       "      <td>30 min</td>\n",
       "      <td>\\nComedy, Drama, Romance</td>\n",
       "      <td>6.5</td>\n",
       "    </tr>\n",
       "    <tr>\n",
       "      <th>3</th>\n",
       "      <td>tt13406094</td>\n",
       "      <td>The White Lotus</td>\n",
       "      <td>(2021–2023)</td>\n",
       "      <td>TV-MA</td>\n",
       "      <td>60 min</td>\n",
       "      <td>\\nComedy, Drama</td>\n",
       "      <td>7.9</td>\n",
       "    </tr>\n",
       "    <tr>\n",
       "      <th>4</th>\n",
       "      <td>tt4236770</td>\n",
       "      <td>Yellowstone</td>\n",
       "      <td>(2018– )</td>\n",
       "      <td>TV-MA</td>\n",
       "      <td>60 min</td>\n",
       "      <td>\\nDrama, Western</td>\n",
       "      <td>8.7</td>\n",
       "    </tr>\n",
       "  </tbody>\n",
       "</table>\n",
       "</div>"
      ],
      "text/plain": [
       "           id             name         year certificate runtime  \\\n",
       "0   tt3581920   The Last of Us     (2023– )       TV-MA  50 min   \n",
       "1  tt14153790            Velma     (2023– )       TV-MA     NaN   \n",
       "2  tt15591076   That '90s Show     (2023– )       TV-14  30 min   \n",
       "3  tt13406094  The White Lotus  (2021–2023)       TV-MA  60 min   \n",
       "4   tt4236770      Yellowstone     (2018– )       TV-MA  60 min   \n",
       "\n",
       "                                        genre  ratings  \n",
       "0      \\nAction, Adventure, Drama                  9.3  \n",
       "1  \\nAnimation, Adventure, Comedy                  1.3  \n",
       "2        \\nComedy, Drama, Romance                  6.5  \n",
       "3                 \\nComedy, Drama                  7.9  \n",
       "4                \\nDrama, Western                  8.7  "
      ]
     },
     "execution_count": 3,
     "metadata": {},
     "output_type": "execute_result"
    }
   ],
   "source": [
    "shows = pd.read_csv('/kaggle/input/imdb-tv-show-webscraping/Shows.csv')\n",
    "del shows['Unnamed: 0']\n",
    "shows.head()"
   ]
  },
  {
   "cell_type": "code",
   "execution_count": 4,
   "id": "142a89c9",
   "metadata": {
    "execution": {
     "iopub.execute_input": "2023-03-05T15:01:11.993356Z",
     "iopub.status.busy": "2023-03-05T15:01:11.992909Z",
     "iopub.status.idle": "2023-03-05T15:01:12.075182Z",
     "shell.execute_reply": "2023-03-05T15:01:12.073812Z"
    },
    "papermill": {
     "duration": 0.095141,
     "end_time": "2023-03-05T15:01:12.077735",
     "exception": false,
     "start_time": "2023-03-05T15:01:11.982594",
     "status": "completed"
    },
    "tags": []
   },
   "outputs": [
    {
     "name": "stdout",
     "output_type": "stream",
     "text": [
      "<class 'pandas.core.frame.DataFrame'>\n",
      "RangeIndex: 235450 entries, 0 to 235449\n",
      "Data columns (total 7 columns):\n",
      " #   Column       Non-Null Count   Dtype  \n",
      "---  ------       --------------   -----  \n",
      " 0   id           235450 non-null  object \n",
      " 1   name         235450 non-null  object \n",
      " 2   year         235450 non-null  object \n",
      " 3   certificate  235450 non-null  object \n",
      " 4   runtime      209551 non-null  object \n",
      " 5   genre        235450 non-null  object \n",
      " 6   ratings      235450 non-null  float64\n",
      "dtypes: float64(1), object(6)\n",
      "memory usage: 12.6+ MB\n"
     ]
    }
   ],
   "source": [
    "shows.info()"
   ]
  },
  {
   "cell_type": "markdown",
   "id": "56da64a5",
   "metadata": {
    "papermill": {
     "duration": 0.008469,
     "end_time": "2023-03-05T15:01:12.095421",
     "exception": false,
     "start_time": "2023-03-05T15:01:12.086952",
     "status": "completed"
    },
    "tags": []
   },
   "source": [
    "# DataPreprocessing"
   ]
  },
  {
   "cell_type": "code",
   "execution_count": 5,
   "id": "8881b7f1",
   "metadata": {
    "execution": {
     "iopub.execute_input": "2023-03-05T15:01:12.115019Z",
     "iopub.status.busy": "2023-03-05T15:01:12.114525Z",
     "iopub.status.idle": "2023-03-05T15:01:12.119860Z",
     "shell.execute_reply": "2023-03-05T15:01:12.118937Z"
    },
    "papermill": {
     "duration": 0.017821,
     "end_time": "2023-03-05T15:01:12.122038",
     "exception": false,
     "start_time": "2023-03-05T15:01:12.104217",
     "status": "completed"
    },
    "tags": []
   },
   "outputs": [],
   "source": [
    "def runtime(data):\n",
    "    if type(data) == str:\n",
    "        return int(data.split()[0])\n",
    "    else: return data"
   ]
  },
  {
   "cell_type": "code",
   "execution_count": 6,
   "id": "afbbffc8",
   "metadata": {
    "execution": {
     "iopub.execute_input": "2023-03-05T15:01:12.142917Z",
     "iopub.status.busy": "2023-03-05T15:01:12.142172Z",
     "iopub.status.idle": "2023-03-05T15:01:12.147672Z",
     "shell.execute_reply": "2023-03-05T15:01:12.146788Z"
    },
    "papermill": {
     "duration": 0.019153,
     "end_time": "2023-03-05T15:01:12.150043",
     "exception": false,
     "start_time": "2023-03-05T15:01:12.130890",
     "status": "completed"
    },
    "tags": []
   },
   "outputs": [],
   "source": [
    "def year(data):\n",
    "    if type(data) == str:\n",
    "        if 'II' in data :return data[6:-1]\n",
    "        else: return data[1:-1]\n",
    "    else:\n",
    "        return data"
   ]
  },
  {
   "cell_type": "code",
   "execution_count": 7,
   "id": "aea804af",
   "metadata": {
    "execution": {
     "iopub.execute_input": "2023-03-05T15:01:12.169787Z",
     "iopub.status.busy": "2023-03-05T15:01:12.169061Z",
     "iopub.status.idle": "2023-03-05T15:01:12.592565Z",
     "shell.execute_reply": "2023-03-05T15:01:12.591183Z"
    },
    "papermill": {
     "duration": 0.436732,
     "end_time": "2023-03-05T15:01:12.595527",
     "exception": false,
     "start_time": "2023-03-05T15:01:12.158795",
     "status": "completed"
    },
    "tags": []
   },
   "outputs": [],
   "source": [
    "shows['year'   ] = shows['year'   ].apply( year                )\n",
    "shows['runtime'] = shows['runtime'].apply( runtime             )\n",
    "shows['genre'  ] = shows['genre'  ].apply( lambda x: x.strip() )"
   ]
  },
  {
   "cell_type": "code",
   "execution_count": 8,
   "id": "0f405184",
   "metadata": {
    "execution": {
     "iopub.execute_input": "2023-03-05T15:01:12.615896Z",
     "iopub.status.busy": "2023-03-05T15:01:12.614751Z",
     "iopub.status.idle": "2023-03-05T15:01:12.631119Z",
     "shell.execute_reply": "2023-03-05T15:01:12.629803Z"
    },
    "papermill": {
     "duration": 0.029302,
     "end_time": "2023-03-05T15:01:12.633813",
     "exception": false,
     "start_time": "2023-03-05T15:01:12.604511",
     "status": "completed"
    },
    "tags": []
   },
   "outputs": [
    {
     "data": {
      "text/html": [
       "<div>\n",
       "<style scoped>\n",
       "    .dataframe tbody tr th:only-of-type {\n",
       "        vertical-align: middle;\n",
       "    }\n",
       "\n",
       "    .dataframe tbody tr th {\n",
       "        vertical-align: top;\n",
       "    }\n",
       "\n",
       "    .dataframe thead th {\n",
       "        text-align: right;\n",
       "    }\n",
       "</style>\n",
       "<table border=\"1\" class=\"dataframe\">\n",
       "  <thead>\n",
       "    <tr style=\"text-align: right;\">\n",
       "      <th></th>\n",
       "      <th>id</th>\n",
       "      <th>name</th>\n",
       "      <th>year</th>\n",
       "      <th>certificate</th>\n",
       "      <th>runtime</th>\n",
       "      <th>genre</th>\n",
       "      <th>ratings</th>\n",
       "    </tr>\n",
       "  </thead>\n",
       "  <tbody>\n",
       "    <tr>\n",
       "      <th>0</th>\n",
       "      <td>tt3581920</td>\n",
       "      <td>The Last of Us</td>\n",
       "      <td>2023–</td>\n",
       "      <td>TV-MA</td>\n",
       "      <td>50.0</td>\n",
       "      <td>Action, Adventure, Drama</td>\n",
       "      <td>9.3</td>\n",
       "    </tr>\n",
       "    <tr>\n",
       "      <th>1</th>\n",
       "      <td>tt14153790</td>\n",
       "      <td>Velma</td>\n",
       "      <td>2023–</td>\n",
       "      <td>TV-MA</td>\n",
       "      <td>NaN</td>\n",
       "      <td>Animation, Adventure, Comedy</td>\n",
       "      <td>1.3</td>\n",
       "    </tr>\n",
       "    <tr>\n",
       "      <th>2</th>\n",
       "      <td>tt15591076</td>\n",
       "      <td>That '90s Show</td>\n",
       "      <td>2023–</td>\n",
       "      <td>TV-14</td>\n",
       "      <td>30.0</td>\n",
       "      <td>Comedy, Drama, Romance</td>\n",
       "      <td>6.5</td>\n",
       "    </tr>\n",
       "    <tr>\n",
       "      <th>3</th>\n",
       "      <td>tt13406094</td>\n",
       "      <td>The White Lotus</td>\n",
       "      <td>2021–2023</td>\n",
       "      <td>TV-MA</td>\n",
       "      <td>60.0</td>\n",
       "      <td>Comedy, Drama</td>\n",
       "      <td>7.9</td>\n",
       "    </tr>\n",
       "    <tr>\n",
       "      <th>4</th>\n",
       "      <td>tt4236770</td>\n",
       "      <td>Yellowstone</td>\n",
       "      <td>2018–</td>\n",
       "      <td>TV-MA</td>\n",
       "      <td>60.0</td>\n",
       "      <td>Drama, Western</td>\n",
       "      <td>8.7</td>\n",
       "    </tr>\n",
       "  </tbody>\n",
       "</table>\n",
       "</div>"
      ],
      "text/plain": [
       "           id             name       year certificate  runtime  \\\n",
       "0   tt3581920   The Last of Us     2023–        TV-MA     50.0   \n",
       "1  tt14153790            Velma     2023–        TV-MA      NaN   \n",
       "2  tt15591076   That '90s Show     2023–        TV-14     30.0   \n",
       "3  tt13406094  The White Lotus  2021–2023       TV-MA     60.0   \n",
       "4   tt4236770      Yellowstone     2018–        TV-MA     60.0   \n",
       "\n",
       "                          genre  ratings  \n",
       "0      Action, Adventure, Drama      9.3  \n",
       "1  Animation, Adventure, Comedy      1.3  \n",
       "2        Comedy, Drama, Romance      6.5  \n",
       "3                 Comedy, Drama      7.9  \n",
       "4                Drama, Western      8.7  "
      ]
     },
     "execution_count": 8,
     "metadata": {},
     "output_type": "execute_result"
    }
   ],
   "source": [
    "shows.head()"
   ]
  },
  {
   "cell_type": "code",
   "execution_count": 9,
   "id": "820a3f32",
   "metadata": {
    "execution": {
     "iopub.execute_input": "2023-03-05T15:01:12.654001Z",
     "iopub.status.busy": "2023-03-05T15:01:12.652988Z",
     "iopub.status.idle": "2023-03-05T15:01:12.660985Z",
     "shell.execute_reply": "2023-03-05T15:01:12.659695Z"
    },
    "papermill": {
     "duration": 0.020962,
     "end_time": "2023-03-05T15:01:12.663619",
     "exception": false,
     "start_time": "2023-03-05T15:01:12.642657",
     "status": "completed"
    },
    "tags": []
   },
   "outputs": [
    {
     "data": {
      "text/plain": [
       "(235450, 7)"
      ]
     },
     "execution_count": 9,
     "metadata": {},
     "output_type": "execute_result"
    }
   ],
   "source": [
    "shows.shape"
   ]
  },
  {
   "cell_type": "markdown",
   "id": "5c16747e",
   "metadata": {
    "papermill": {
     "duration": 0.013697,
     "end_time": "2023-03-05T15:01:12.926268",
     "exception": false,
     "start_time": "2023-03-05T15:01:12.912571",
     "status": "completed"
    },
    "tags": []
   },
   "source": [
    "# Show Scraping Star , Director , Actor ( Requests )"
   ]
  },
  {
   "cell_type": "code",
   "execution_count": 18,
   "id": "f26c9f49",
   "metadata": {
    "execution": {
     "iopub.execute_input": "2023-03-05T15:01:12.947349Z",
     "iopub.status.busy": "2023-03-05T15:01:12.946873Z",
     "iopub.status.idle": "2023-03-05T15:01:12.952855Z",
     "shell.execute_reply": "2023-03-05T15:01:12.951819Z"
    },
    "papermill": {
     "duration": 0.019247,
     "end_time": "2023-03-05T15:01:12.955233",
     "exception": false,
     "start_time": "2023-03-05T15:01:12.935986",
     "status": "completed"
    },
    "tags": []
   },
   "outputs": [],
   "source": [
    "def bs_content(link):\n",
    "    res       = rq.get(link)\n",
    "    \n",
    "    if res.ok:\n",
    "        return BS(res.content,'html.parser')\n",
    "    else: False"
   ]
  },
  {
   "cell_type": "code",
   "execution_count": 19,
   "id": "232d71b7",
   "metadata": {
    "execution": {
     "iopub.execute_input": "2023-03-05T15:01:12.979446Z",
     "iopub.status.busy": "2023-03-05T15:01:12.978984Z",
     "iopub.status.idle": "2023-03-05T15:01:12.995844Z",
     "shell.execute_reply": "2023-03-05T15:01:12.994640Z"
    },
    "papermill": {
     "duration": 0.033705,
     "end_time": "2023-03-05T15:01:12.998584",
     "exception": false,
     "start_time": "2023-03-05T15:01:12.964879",
     "status": "completed"
    },
    "tags": []
   },
   "outputs": [],
   "source": [
    "def moviescrap(start,end,file_name):\n",
    "    columns = ['show_id','director_ids','directors', 'writer_ids', 'writers', 'cast_ids', 'casts','characters']\n",
    "    data    = { k : [] for k in columns }\n",
    "\n",
    "\n",
    "    for id_ in tqdm(shows.loc[start:end,'id']):\n",
    "\n",
    "        link = 'https://www.imdb.com/title/' + id_ + '/fullcredits/'\n",
    "\n",
    "        content = bs_content(link)\n",
    "\n",
    "        if not content: continue\n",
    "\n",
    "        cast_list       = content.find('table', class_ = 'cast_list')\n",
    "        director_writer = content.find_all('table', class_ ='simpleTable simpleCreditsTable')[:2]\n",
    "\n",
    "        directors       = director_writer[0].find_all('a')\n",
    "        writers         = director_writer[1].find_all('a')\n",
    "\n",
    "        cast_names      = cast_list.find_all('td', class_ = 'primary_photo')\n",
    "        char_names      = cast_list.find_all('td', class_ = 'character')\n",
    "\n",
    "        dir_id          = [ i.get('href')[1:-1].split('/')[-1] for i in directors  ]\n",
    "        dir_name        = [ i.text.strip()                     for i in directors  ]\n",
    "\n",
    "        writer_id       = [ i.get('href')[1:-1].split('/')[-1] for i in writers    ]\n",
    "        writer_name     = [ i.text.strip()                     for i in writers    ]\n",
    "\n",
    "        cast_names      = [ i.find('a')                        for i in cast_names ]\n",
    "\n",
    "        cast_id         = [ i.get('href')[1:-1].split('/')[-1] for i in cast_names ]\n",
    "        cast_names      = [ i.find('img').get('alt')           for i in cast_names ]\n",
    "\n",
    "        char_names      = [ i.find('a').text                   for i in char_names ]\n",
    "\n",
    "\n",
    "        dir_id          = ','.join(dir_id)\n",
    "        dir_name        = ','.join(dir_name)\n",
    "        writer_id       = ','.join(writer_id)\n",
    "        writer_name     = ','.join(writer_name)\n",
    "        cast_id         = ','.join(cast_id)\n",
    "        cast_names      = ','.join(cast_names)\n",
    "        char_names      = ','.join(char_names)\n",
    "\n",
    "        data['show_id'     ].append(id_)\n",
    "        data['director_ids'].append(dir_id)\n",
    "        data['directors'   ].append(dir_name)\n",
    "        data['writer_ids'  ].append(writer_id)\n",
    "        data['writers'     ].append(writer_name)\n",
    "        data['cast_ids'    ].append(cast_id)\n",
    "        data['casts'       ].append(cast_names)\n",
    "        data['characters'  ].append(char_names)\n",
    "        \n",
    "    data = pd.DataFrame(data)\n",
    "    data.to_csv(f\"{file_name}.csv\", index = False)"
   ]
  },
  {
   "cell_type": "code",
   "execution_count": 20,
   "id": "5994d1a5",
   "metadata": {
    "execution": {
     "iopub.execute_input": "2023-03-05T15:01:13.020680Z",
     "iopub.status.busy": "2023-03-05T15:01:13.019970Z",
     "iopub.status.idle": "2023-03-05T15:01:13.029293Z",
     "shell.execute_reply": "2023-03-05T15:01:13.028301Z"
    },
    "papermill": {
     "duration": 0.02269,
     "end_time": "2023-03-05T15:01:13.031476",
     "exception": false,
     "start_time": "2023-03-05T15:01:13.008786",
     "status": "completed"
    },
    "tags": []
   },
   "outputs": [],
   "source": [
    "import multiprocessing as m\n",
    "\n",
    "p1 = m.Process(target = moviescrap, args =(0, 4709, 'show_1.csv'))\n",
    "p2 = m.Process(target = moviescrap, args =(4709, 9418, 'show_2.csv'))\n",
    "p3 = m.Process(target = moviescrap, args =(9418, 14127, 'show_3.csv'))\n",
    "p4 = m.Process(target = moviescrap, args =(14127, 18836, 'show_4.csv'))\n",
    "p5 = m.Process(target = moviescrap, args =(18836, 23545, 'show_5.csv'))\n",
    "p6 = m.Process(target = moviescrap, args =(23545, 28254, 'show_6.csv'))\n",
    "p7 = m.Process(target = moviescrap, args =(28254, 32963, 'show_7.csv'))\n",
    "p8 = m.Process(target = moviescrap, args =(32963, 37672, 'show_8.csv'))\n",
    "p9 = m.Process(target = moviescrap, args =(37672, 42381, 'show_9.csv'))\n",
    "p10 = m.Process(target = moviescrap, args =(42381, 47090, 'show_10.csv'))\n"
   ]
  },
  {
   "cell_type": "code",
   "execution_count": 21,
   "id": "cd668bb7",
   "metadata": {
    "execution": {
     "iopub.execute_input": "2023-03-05T15:01:13.053067Z",
     "iopub.status.busy": "2023-03-05T15:01:13.051591Z",
     "iopub.status.idle": "2023-03-05T23:04:37.761982Z",
     "shell.execute_reply": "2023-03-05T23:04:37.760530Z"
    },
    "papermill": {
     "duration": 29005.046914,
     "end_time": "2023-03-05T23:04:38.087879",
     "exception": false,
     "start_time": "2023-03-05T15:01:13.040965",
     "status": "completed"
    },
    "tags": []
   },
   "outputs": [
    {
     "name": "stderr",
     "output_type": "stream",
     "text": [
      "100%|██████████| 4710/4710 [7:57:33<00:00,  6.08s/it]\n",
      "100%|██████████| 4710/4710 [7:58:05<00:00,  6.09s/it]\n",
      "100%|██████████| 4710/4710 [7:58:57<00:00,  6.10s/it]\n",
      "100%|██████████| 4710/4710 [7:59:55<00:00,  6.11s/it]\n",
      "100%|██████████| 4710/4710 [8:00:31<00:00,  6.12s/it]\n",
      "100%|██████████| 4710/4710 [8:01:21<00:00,  6.13s/it]\n",
      "100%|██████████| 4710/4710 [8:01:52<00:00,  6.14s/it]\n",
      "100%|██████████| 4710/4710 [8:02:19<00:00,  6.14s/it]\n",
      "100%|██████████| 4710/4710 [8:02:48<00:00,  6.15s/it]\n",
      "100%|██████████| 4710/4710 [8:03:21<00:00,  6.16s/it]\n"
     ]
    }
   ],
   "source": [
    "p1.start()\n",
    "p2.start()\n",
    "p3.start()\n",
    "p4.start()\n",
    "p5.start()\n",
    "p6.start()\n",
    "p7.start()\n",
    "p8.start()\n",
    "p9.start()\n",
    "p10.start()\n",
    "\n",
    "\n",
    "p1.join()\n",
    "p2.join()\n",
    "p3.join()\n",
    "p4.join()\n",
    "p5.join()\n",
    "p6.join()\n",
    "p7.join()\n",
    "p8.join()\n",
    "p9.join()\n",
    "p10.join()"
   ]
  }
 ],
 "metadata": {
  "kernelspec": {
   "display_name": "Python 3",
   "language": "python",
   "name": "python3"
  },
  "language_info": {
   "codemirror_mode": {
    "name": "ipython",
    "version": 3
   },
   "file_extension": ".py",
   "mimetype": "text/x-python",
   "name": "python",
   "nbconvert_exporter": "python",
   "pygments_lexer": "ipython3",
   "version": "3.7.12"
  },
  "papermill": {
   "default_parameters": {},
   "duration": 29075.148458,
   "end_time": "2023-03-05T23:05:36.256807",
   "environment_variables": {},
   "exception": null,
   "input_path": "__notebook__.ipynb",
   "output_path": "__notebook__.ipynb",
   "parameters": {},
   "start_time": "2023-03-05T15:01:01.108349",
   "version": "2.3.4"
  }
 },
 "nbformat": 4,
 "nbformat_minor": 5
}
