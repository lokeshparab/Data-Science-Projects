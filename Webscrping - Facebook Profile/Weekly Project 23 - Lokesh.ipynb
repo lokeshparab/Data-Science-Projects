{
 "cells": [
  {
   "cell_type": "markdown",
   "id": "12bd5529",
   "metadata": {},
   "source": [
    "# Import Libraries"
   ]
  },
  {
   "cell_type": "code",
   "execution_count": 8,
   "id": "b4b22827",
   "metadata": {},
   "outputs": [],
   "source": [
    "import pandas as pd\n",
    "import numpy  as np\n",
    "import json   as js\n",
    "\n",
    "from bs4       import BeautifulSoup as BS\n",
    "from selenium import webdriver     as wb\n",
    "from tqdm     import tqdm"
   ]
  },
  {
   "cell_type": "code",
   "execution_count": 9,
   "id": "9e9b58e2",
   "metadata": {},
   "outputs": [],
   "source": [
    "# Username eg\n",
    "#link  = \"https://www.facebook.com/lokesh.parab.17\"\n",
    "#link  = \"https://www.facebook.com/lokesh.parab.96\"\n"
   ]
  },
  {
   "cell_type": "code",
   "execution_count": 10,
   "id": "6a15d6ff",
   "metadata": {},
   "outputs": [
    {
     "name": "stderr",
     "output_type": "stream",
     "text": [
      "C:\\Users\\ASUS\\AppData\\Local\\Temp\\ipykernel_18456\\3273646516.py:6: DeprecationWarning: executable_path has been deprecated, please pass in a Service object\n",
      "  driver = wb.Chrome('webdrive/chromedriver.exe')\n"
     ]
    },
    {
     "data": {
      "text/plain": [
       "{'username': 'lokesh.parab.96',\n",
       " 'name': 'Lokesh Parab',\n",
       " 'cover image url': 'https://scontent.fbom65-1.fna.fbcdn.net/v/t39.30808-6/300061608_1493197611151768_8566865820836146011_n.jpg?stp=dst-jpg_s960x960&_nc_cat=107&ccb=1-7&_nc_sid=e3f864&_nc_ohc=gHOsyXiXMIAAX8bpkFK&_nc_oc=AQmTlHg8plUsKiDaYbbbYOEcvXxQk-9M8d6BHXoggGTM42jr4eMhLiDRwA1udFI6WqPxAFLInxP2f8qJlivVKHdU&_nc_ht=scontent.fbom65-1.fna&oh=00_AfDi7-Xbkwnh5uBWs84gh-8K4Wi-wvKL2Mj44zNB9tlOvg&oe=643724BE',\n",
       " 'profile image url': 'https://scontent.fbom65-1.fna.fbcdn.net/v/t39.30808-1/299999389_1493197941151735_999244948630989132_n.jpg?stp=c19.0.200.200a_dst-jpg_p200x200&_nc_cat=103&ccb=1-7&_nc_sid=7206a8&_nc_ohc=nU8evzD5CssAX8TKJ1F&_nc_ht=scontent.fbom65-1.fna&oh=00_AfDtQapJUPfFDpu0PJGI3WoGOGAm15g_XFqpwQy9SUTLfQ&oe=64370E4A',\n",
       " 'about': 'No workplaces to show , No schools/universities to show , No schools/universities to show'}"
      ]
     },
     "execution_count": 10,
     "metadata": {},
     "output_type": "execute_result"
    }
   ],
   "source": [
    "dataset = {}\n",
    "dataset['username'] = input('Enter the username: ')\n",
    "\n",
    "link   = f\"https://www.facebook.com/{dataset['username']}\"\n",
    "\n",
    "driver = wb.Chrome('webdrive/chromedriver.exe')\n",
    "driver.get(link)\n",
    "\n",
    "soup =  BS(driver.page_source,'html.parser')\n",
    "\n",
    "cover_image   = soup.find_all('img', class_ = \"x1ey2m1c x9f619 xds687c x5yr21d x10l6tqk x17qophe x13vifvy xh8yej3\")[1].get('src')\n",
    "profile_image = soup.find('image').get('xlink:href')\n",
    "name          = soup.find('h1',class_ = 'x1heor9g x1qlqyl8 x1pd3egz x1a2a7pz').text\n",
    "\n",
    "about = soup.find('div', class_ = 'xyamay9 xqmdsaz x1gan7if x1swvt13')\n",
    "data  = [ i.text for i in about.find_all('span')[1::2] ]\n",
    "\n",
    "dataset['name'             ] = name\n",
    "dataset['cover image url'  ] = cover_image\n",
    "dataset['profile image url'] = profile_image\n",
    "dataset['about'            ] = \" , \".join(data)\n",
    "\n",
    "with open(f\"{dataset['username']}.json\",'w') as fd:\n",
    "    fd.write(js.dumps(dataset))\n",
    "    fd.close()\n",
    "\n",
    "dataset"
   ]
  }
 ],
 "metadata": {
  "kernelspec": {
   "display_name": "Python 3 (ipykernel)",
   "language": "python",
   "name": "python3"
  },
  "language_info": {
   "codemirror_mode": {
    "name": "ipython",
    "version": 3
   },
   "file_extension": ".py",
   "mimetype": "text/x-python",
   "name": "python",
   "nbconvert_exporter": "python",
   "pygments_lexer": "ipython3",
   "version": "3.9.12"
  }
 },
 "nbformat": 4,
 "nbformat_minor": 5
}
