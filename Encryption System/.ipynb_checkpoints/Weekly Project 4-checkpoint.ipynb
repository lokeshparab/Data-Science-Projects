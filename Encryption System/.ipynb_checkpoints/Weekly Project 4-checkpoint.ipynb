{
 "cells": [
  {
   "cell_type": "markdown",
   "id": "48ed253a",
   "metadata": {},
   "source": [
    "# A program to encrypt the files with reversing and shifting the text by 3 places"
   ]
  },
  {
   "cell_type": "markdown",
   "id": "8ec0b09e",
   "metadata": {},
   "source": [
    "## Importing Libraries"
   ]
  },
  {
   "cell_type": "code",
   "execution_count": 1,
   "id": "e34a780c",
   "metadata": {},
   "outputs": [],
   "source": [
    "import os"
   ]
  },
  {
   "cell_type": "markdown",
   "id": "87ee457d",
   "metadata": {},
   "source": [
    "## Read File and Write file function"
   ]
  },
  {
   "cell_type": "code",
   "execution_count": 2,
   "id": "f6edc85f",
   "metadata": {},
   "outputs": [],
   "source": [
    "def write_file(path,data):\n",
    "    \n",
    "    # open the text file in write mode and encoding in utf-8\n",
    "    fd = open(path,'w',encoding='utf-8')\n",
    "    \n",
    "    # write data in the file\n",
    "    fd.write(data)\n",
    "    \n",
    "    # close the file\n",
    "    fd.close()\n",
    "\n",
    "def read_file(path):\n",
    "    \n",
    "    # try for FileNotFoundError \n",
    "    try:\n",
    "        # open the text file in write mode and encoding in utf-8\n",
    "        fd = open(path,'r',encoding='utf-8')\n",
    "        \n",
    "        # Reading data of text file\n",
    "        data = fd.read()\n",
    "        \n",
    "        # close the file\n",
    "        fd.close()\n",
    "        \n",
    "        # return the data\n",
    "        return data\n",
    "    \n",
    "    # error handle \n",
    "    except FileNotFoundError :\n",
    "        # print message \n",
    "        print('No such file or directory named',path)\n",
    "        print('Try again ....','-' * 40,sep='\\n')\n",
    "        \n",
    "        # return false for This error\n",
    "        return False"
   ]
  },
  {
   "cell_type": "markdown",
   "id": "be63371b",
   "metadata": {},
   "source": [
    "## Encryption Function"
   ]
  },
  {
   "cell_type": "code",
   "execution_count": 3,
   "id": "28c51da9",
   "metadata": {},
   "outputs": [],
   "source": [
    "def encryption(file_name):\n",
    "    \n",
    "    # creating the path for file to be encrypt\n",
    "    path = 'Files/'+file_name+'.txt'\n",
    "    \n",
    "    # Getting data from  that text file\n",
    "    data = read_file(path)\n",
    "    \n",
    "    # data is presented then condition satisfies\n",
    "    if data:\n",
    "        \n",
    "        # intialised encrypt data \n",
    "        encrypt_data = ''\n",
    "        \n",
    "        \n",
    "        # getting each letter in reverse order\n",
    "        for i in data[::-1]:\n",
    "            \n",
    "            # skip encryption if letter are '\\n' and '\\r' \n",
    "            if i == '\\n' or i=='\\r' : encrypt_data += i\n",
    "                \n",
    "            # else apply encryption\n",
    "            else:\n",
    "                \n",
    "                # shift letter by place 3 forward\n",
    "                char = chr( ord(i) + 3 )\n",
    "                \n",
    "                # fetching encrypt data\n",
    "                encrypt_data += char\n",
    "        \n",
    "        # print encrypt data\n",
    "        print('Encrpted data:')      \n",
    "        print(encrypt_data)\n",
    "        print('-'*40)\n",
    "        \n",
    "        # writing the encrypted data in file\n",
    "        write_file(path,encrypt_data)\n",
    "        \n",
    "        # rename file with writtem as 'encrypted'\n",
    "        os.rename(path,path[:-4]+'-encrypted.txt')\n",
    "        \n",
    "        # print final statement\n",
    "        print('Encrypted data sucessfully in',file_name)\n",
    "    "
   ]
  },
  {
   "cell_type": "markdown",
   "id": "f4c32021",
   "metadata": {},
   "source": [
    "## Decryption Function"
   ]
  },
  {
   "cell_type": "code",
   "execution_count": 4,
   "id": "b9746743",
   "metadata": {},
   "outputs": [],
   "source": [
    "def decryption(file_name):\n",
    "    \n",
    "    # creating the path for file to be decrypt\n",
    "    path = 'Files/' + file_name + '.txt'\n",
    "    \n",
    "    # Getting data from  that text file\n",
    "    data = read_file(path)\n",
    "    \n",
    "    # data is presented then condition satisfies\n",
    "    if data:\n",
    "        \n",
    "        # intialised decrypt data\n",
    "        decrypt_data = ''\n",
    "        \n",
    "        \n",
    "        # getting each letter in reverse order\n",
    "        for i in data[::-1]:\n",
    "            \n",
    "            # skip encryption if letter are '\\n' and '\\r'\n",
    "            if i == '\\n' or i == '\\r': decrypt_data += i\n",
    "            \n",
    "            # else apply decryption\n",
    "            else:\n",
    "                \n",
    "                # shift letter by place 3 backward\n",
    "                char = chr( ord(i) - 3 )\n",
    "                \n",
    "                # fetching decrypt data\n",
    "                decrypt_data += char\n",
    "        \n",
    "        # print decrypt data\n",
    "        print('Encrpted data:')      \n",
    "        print(decrypt_data)\n",
    "        print('-'*40)\n",
    "        \n",
    "        # writing the decrypted data in file\n",
    "        write_file(path,decrypt_data)\n",
    "        \n",
    "        # rename file without writtem as 'encrypted'\n",
    "        os.rename(path,path.split('-')[0]+'.txt') \n",
    "        print('Decrypted data sucessfully in',file_name.split('-')[0])"
   ]
  },
  {
   "cell_type": "markdown",
   "id": "a41d8649",
   "metadata": {},
   "source": [
    "## Print Available files"
   ]
  },
  {
   "cell_type": "code",
   "execution_count": 5,
   "id": "75f3cee4",
   "metadata": {},
   "outputs": [],
   "source": [
    "def file_names():\n",
    "    import os\n",
    "    print('Available Files','-' * 40,sep='\\n')\n",
    "    for i in os.listdir('Files'):\n",
    "        if i[-4:] == '.txt':\n",
    "            print(i[:-4])\n",
    "    print('-' * 40 )"
   ]
  },
  {
   "cell_type": "code",
   "execution_count": 6,
   "id": "cf238415",
   "metadata": {},
   "outputs": [
    {
     "name": "stdout",
     "output_type": "stream",
     "text": [
      "Available Files\n",
      "----------------------------------------\n",
      "Lokesh\n",
      "Pratik\n",
      "Suyash\n",
      "----------------------------------------\n"
     ]
    }
   ],
   "source": [
    "file_names()"
   ]
  },
  {
   "cell_type": "markdown",
   "id": "5c927e5a",
   "metadata": {},
   "source": [
    "## Choice Function"
   ]
  },
  {
   "cell_type": "code",
   "execution_count": 7,
   "id": "2c10c0e1",
   "metadata": {},
   "outputs": [],
   "source": [
    "def choices():\n",
    "    choice = input('Enter your choice number: ')\n",
    "    try:\n",
    "        choice = int(choice)\n",
    "        if 0 < choice < 4:\n",
    "            return choice\n",
    "        else :\n",
    "            print('Enter valid number try again ....')\n",
    "            print('-'*40)\n",
    "            return False\n",
    "    except:\n",
    "        print('Invalid input try again ....')\n",
    "        print('-'*40)\n",
    "        return False"
   ]
  },
  {
   "cell_type": "markdown",
   "id": "b1c358d4",
   "metadata": {},
   "source": [
    "## Main Program"
   ]
  },
  {
   "cell_type": "code",
   "execution_count": 8,
   "id": "52abb0b6",
   "metadata": {},
   "outputs": [
    {
     "name": "stdout",
     "output_type": "stream",
     "text": [
      "********* Encrpyt and Decrypt *********\n",
      "1.Encrption\n",
      "2.Decryption\n",
      "3.Exit\n",
      "----------------------------------------\n",
      "Enter your choice number: 1\n",
      "****************************************\n",
      "Available Files\n",
      "----------------------------------------\n",
      "Lokesh\n",
      "Pratik\n",
      "Suyash\n",
      "----------------------------------------\n",
      "Enter the file name: Lokesh\n",
      "Encrpted data:\n",
      "\n",
      "ghwdxgudxj#pd#L\n",
      "gor#vudh|#55#pd#L\n",
      "edudS#kvhnrO#pd#L\n",
      "----------------------------------------\n",
      "Encrypted data sucessfully in Lokesh\n",
      "********* Encrpyt and Decrypt *********\n",
      "1.Encrption\n",
      "2.Decryption\n",
      "3.Exit\n",
      "----------------------------------------\n",
      "Enter your choice number: 1\n",
      "****************************************\n",
      "Available Files\n",
      "----------------------------------------\n",
      "Lokesh-encrypted\n",
      "Pratik\n",
      "Suyash\n",
      "----------------------------------------\n",
      "Enter the file name: Pratik\n",
      "Encrpted data:\n",
      "\n",
      "gor#vudh|#45#pd#L\n",
      "d|uxdP#nlwduS#pd#L\n",
      "----------------------------------------\n",
      "Encrypted data sucessfully in Pratik\n",
      "********* Encrpyt and Decrypt *********\n",
      "1.Encrption\n",
      "2.Decryption\n",
      "3.Exit\n",
      "----------------------------------------\n",
      "Enter your choice number: 2\n",
      "****************************************\n",
      "Available Files\n",
      "----------------------------------------\n",
      "Lokesh-encrypted\n",
      "Pratik-encrypted\n",
      "Suyash\n",
      "----------------------------------------\n",
      "Enter the file name: Pratik-encrypted\n",
      "Encrpted data:\n",
      "I am Pratik Maurya\n",
      "I am 21 years old\n",
      "\n",
      "----------------------------------------\n",
      "Decrypted data sucessfully in Pratik\n",
      "********* Encrpyt and Decrypt *********\n",
      "1.Encrption\n",
      "2.Decryption\n",
      "3.Exit\n",
      "----------------------------------------\n",
      "Enter your choice number: 2\n",
      "****************************************\n",
      "Available Files\n",
      "----------------------------------------\n",
      "Lokesh-encrypted\n",
      "Pratik\n",
      "Suyash\n",
      "----------------------------------------\n",
      "Enter the file name: Lokesh-encrypted\n",
      "Encrpted data:\n",
      "I am Lokesh Parab\n",
      "I am 22 years old\n",
      "I am guarduated\n",
      "\n",
      "----------------------------------------\n",
      "Decrypted data sucessfully in Lokesh\n",
      "********* Encrpyt and Decrypt *********\n",
      "1.Encrption\n",
      "2.Decryption\n",
      "3.Exit\n",
      "----------------------------------------\n",
      "Enter your choice number: 3\n",
      "****************************************\n"
     ]
    }
   ],
   "source": [
    "if __name__ == '__main__':\n",
    "    while True:\n",
    "        print('*'*9,'Encrpyt and Decrypt','*'*9)\n",
    "        print('1.Encrption')\n",
    "        print('2.Decryption')\n",
    "        print('3.Exit')\n",
    "        print('-'*40)\n",
    "        # getting output from choice function\n",
    "        choice = choices()  \n",
    "        \n",
    "        # if choice== False then divert back again\n",
    "        if not choice: continue\n",
    "        print('*'*40)\n",
    "        # exit while loop function\n",
    "        if choice == 3: break\n",
    "        # print available file name function\n",
    "        file_names()\n",
    "        \n",
    "        # For Encryption\n",
    "        if choice == 1:\n",
    "            file_name = input('Enter the file name: ')\n",
    "            encryption(file_name)\n",
    "        \n",
    "        # For Decryption\n",
    "        else:\n",
    "            file_name = input('Enter the file name: ')\n",
    "            decryption(file_name)"
   ]
  }
 ],
 "metadata": {
  "kernelspec": {
   "display_name": "Python 3 (ipykernel)",
   "language": "python",
   "name": "python3"
  },
  "language_info": {
   "codemirror_mode": {
    "name": "ipython",
    "version": 3
   },
   "file_extension": ".py",
   "mimetype": "text/x-python",
   "name": "python",
   "nbconvert_exporter": "python",
   "pygments_lexer": "ipython3",
   "version": "3.9.12"
  }
 },
 "nbformat": 4,
 "nbformat_minor": 5
}
