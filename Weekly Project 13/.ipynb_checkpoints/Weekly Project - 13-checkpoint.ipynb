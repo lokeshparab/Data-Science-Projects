{
 "cells": [
  {
   "cell_type": "markdown",
   "id": "64a44bc7",
   "metadata": {},
   "source": [
    "# COVID Analysis - Multi-Columns Analysis"
   ]
  },
  {
   "cell_type": "markdown",
   "id": "f0023f16",
   "metadata": {},
   "source": [
    "## Importing Library"
   ]
  },
  {
   "cell_type": "code",
   "execution_count": 1,
   "id": "0c475eb8",
   "metadata": {},
   "outputs": [],
   "source": [
    "import pandas as pd\n",
    "import numpy as np"
   ]
  },
  {
   "cell_type": "markdown",
   "id": "94a63b12",
   "metadata": {},
   "source": [
    "## Loading Dataset "
   ]
  },
  {
   "cell_type": "code",
   "execution_count": 2,
   "id": "fa8aa8bb",
   "metadata": {},
   "outputs": [
    {
     "data": {
      "text/html": [
       "<div>\n",
       "<style scoped>\n",
       "    .dataframe tbody tr th:only-of-type {\n",
       "        vertical-align: middle;\n",
       "    }\n",
       "\n",
       "    .dataframe tbody tr th {\n",
       "        vertical-align: top;\n",
       "    }\n",
       "\n",
       "    .dataframe thead th {\n",
       "        text-align: right;\n",
       "    }\n",
       "</style>\n",
       "<table border=\"1\" class=\"dataframe\">\n",
       "  <thead>\n",
       "    <tr style=\"text-align: right;\">\n",
       "      <th></th>\n",
       "      <th>country</th>\n",
       "      <th>iso_code</th>\n",
       "      <th>date</th>\n",
       "      <th>total_vaccinations</th>\n",
       "      <th>people_vaccinated</th>\n",
       "      <th>people_fully_vaccinated</th>\n",
       "      <th>daily_vaccinations_raw</th>\n",
       "      <th>daily_vaccinations</th>\n",
       "      <th>total_vaccinations_per_hundred</th>\n",
       "      <th>people_vaccinated_per_hundred</th>\n",
       "      <th>people_fully_vaccinated_per_hundred</th>\n",
       "      <th>daily_vaccinations_per_million</th>\n",
       "      <th>vaccines</th>\n",
       "      <th>source_name</th>\n",
       "      <th>source_website</th>\n",
       "      <th>year</th>\n",
       "      <th>month</th>\n",
       "      <th>day</th>\n",
       "      <th>month_name</th>\n",
       "    </tr>\n",
       "  </thead>\n",
       "  <tbody>\n",
       "    <tr>\n",
       "      <th>0</th>\n",
       "      <td>Afghanistan</td>\n",
       "      <td>AFG</td>\n",
       "      <td>2021-05-27</td>\n",
       "      <td>593313.0</td>\n",
       "      <td>479574.0</td>\n",
       "      <td>113739.0</td>\n",
       "      <td>2859.0</td>\n",
       "      <td>6487.0</td>\n",
       "      <td>1.49</td>\n",
       "      <td>1.20</td>\n",
       "      <td>0.29</td>\n",
       "      <td>163.0</td>\n",
       "      <td>Johnson&amp;Johnson, Oxford/AstraZeneca, Pfizer/Bi...</td>\n",
       "      <td>World Health Organization</td>\n",
       "      <td>https://covid19.who.int/</td>\n",
       "      <td>2021</td>\n",
       "      <td>5</td>\n",
       "      <td>27</td>\n",
       "      <td>May</td>\n",
       "    </tr>\n",
       "    <tr>\n",
       "      <th>1</th>\n",
       "      <td>Afghanistan</td>\n",
       "      <td>AFG</td>\n",
       "      <td>2021-06-03</td>\n",
       "      <td>630305.0</td>\n",
       "      <td>481800.0</td>\n",
       "      <td>148505.0</td>\n",
       "      <td>4015.0</td>\n",
       "      <td>5285.0</td>\n",
       "      <td>1.58</td>\n",
       "      <td>1.21</td>\n",
       "      <td>0.37</td>\n",
       "      <td>133.0</td>\n",
       "      <td>Johnson&amp;Johnson, Oxford/AstraZeneca, Pfizer/Bi...</td>\n",
       "      <td>World Health Organization</td>\n",
       "      <td>https://covid19.who.int/</td>\n",
       "      <td>2021</td>\n",
       "      <td>6</td>\n",
       "      <td>3</td>\n",
       "      <td>Jun</td>\n",
       "    </tr>\n",
       "    <tr>\n",
       "      <th>2</th>\n",
       "      <td>Afghanistan</td>\n",
       "      <td>AFG</td>\n",
       "      <td>2022-01-27</td>\n",
       "      <td>5081064.0</td>\n",
       "      <td>4517380.0</td>\n",
       "      <td>3868832.0</td>\n",
       "      <td>6868.0</td>\n",
       "      <td>9802.0</td>\n",
       "      <td>12.76</td>\n",
       "      <td>11.34</td>\n",
       "      <td>9.71</td>\n",
       "      <td>246.0</td>\n",
       "      <td>Johnson&amp;Johnson, Oxford/AstraZeneca, Pfizer/Bi...</td>\n",
       "      <td>World Health Organization</td>\n",
       "      <td>https://covid19.who.int/</td>\n",
       "      <td>2022</td>\n",
       "      <td>1</td>\n",
       "      <td>27</td>\n",
       "      <td>Jan</td>\n",
       "    </tr>\n",
       "    <tr>\n",
       "      <th>3</th>\n",
       "      <td>Albania</td>\n",
       "      <td>ALB</td>\n",
       "      <td>2021-02-18</td>\n",
       "      <td>3049.0</td>\n",
       "      <td>2438.0</td>\n",
       "      <td>611.0</td>\n",
       "      <td>1348.0</td>\n",
       "      <td>254.0</td>\n",
       "      <td>0.11</td>\n",
       "      <td>0.08</td>\n",
       "      <td>0.02</td>\n",
       "      <td>88.0</td>\n",
       "      <td>Oxford/AstraZeneca, Pfizer/BioNTech, Sinovac, ...</td>\n",
       "      <td>Ministry of Health</td>\n",
       "      <td>https://shendetesia.gov.al/vaksinimi-anticovid...</td>\n",
       "      <td>2021</td>\n",
       "      <td>2</td>\n",
       "      <td>18</td>\n",
       "      <td>Feb</td>\n",
       "    </tr>\n",
       "    <tr>\n",
       "      <th>4</th>\n",
       "      <td>Albania</td>\n",
       "      <td>ALB</td>\n",
       "      <td>2021-05-11</td>\n",
       "      <td>622507.0</td>\n",
       "      <td>440921.0</td>\n",
       "      <td>181586.0</td>\n",
       "      <td>9548.0</td>\n",
       "      <td>12160.0</td>\n",
       "      <td>21.67</td>\n",
       "      <td>15.35</td>\n",
       "      <td>6.32</td>\n",
       "      <td>4233.0</td>\n",
       "      <td>Oxford/AstraZeneca, Pfizer/BioNTech, Sinovac, ...</td>\n",
       "      <td>Ministry of Health</td>\n",
       "      <td>https://shendetesia.gov.al/vaksinimi-anticovid...</td>\n",
       "      <td>2021</td>\n",
       "      <td>5</td>\n",
       "      <td>11</td>\n",
       "      <td>May</td>\n",
       "    </tr>\n",
       "  </tbody>\n",
       "</table>\n",
       "</div>"
      ],
      "text/plain": [
       "       country iso_code        date  total_vaccinations  people_vaccinated  \\\n",
       "0  Afghanistan      AFG  2021-05-27            593313.0           479574.0   \n",
       "1  Afghanistan      AFG  2021-06-03            630305.0           481800.0   \n",
       "2  Afghanistan      AFG  2022-01-27           5081064.0          4517380.0   \n",
       "3      Albania      ALB  2021-02-18              3049.0             2438.0   \n",
       "4      Albania      ALB  2021-05-11            622507.0           440921.0   \n",
       "\n",
       "   people_fully_vaccinated  daily_vaccinations_raw  daily_vaccinations  \\\n",
       "0                 113739.0                  2859.0              6487.0   \n",
       "1                 148505.0                  4015.0              5285.0   \n",
       "2                3868832.0                  6868.0              9802.0   \n",
       "3                    611.0                  1348.0               254.0   \n",
       "4                 181586.0                  9548.0             12160.0   \n",
       "\n",
       "   total_vaccinations_per_hundred  people_vaccinated_per_hundred  \\\n",
       "0                            1.49                           1.20   \n",
       "1                            1.58                           1.21   \n",
       "2                           12.76                          11.34   \n",
       "3                            0.11                           0.08   \n",
       "4                           21.67                          15.35   \n",
       "\n",
       "   people_fully_vaccinated_per_hundred  daily_vaccinations_per_million  \\\n",
       "0                                 0.29                           163.0   \n",
       "1                                 0.37                           133.0   \n",
       "2                                 9.71                           246.0   \n",
       "3                                 0.02                            88.0   \n",
       "4                                 6.32                          4233.0   \n",
       "\n",
       "                                            vaccines  \\\n",
       "0  Johnson&Johnson, Oxford/AstraZeneca, Pfizer/Bi...   \n",
       "1  Johnson&Johnson, Oxford/AstraZeneca, Pfizer/Bi...   \n",
       "2  Johnson&Johnson, Oxford/AstraZeneca, Pfizer/Bi...   \n",
       "3  Oxford/AstraZeneca, Pfizer/BioNTech, Sinovac, ...   \n",
       "4  Oxford/AstraZeneca, Pfizer/BioNTech, Sinovac, ...   \n",
       "\n",
       "                 source_name  \\\n",
       "0  World Health Organization   \n",
       "1  World Health Organization   \n",
       "2  World Health Organization   \n",
       "3         Ministry of Health   \n",
       "4         Ministry of Health   \n",
       "\n",
       "                                      source_website  year  month  day  \\\n",
       "0                           https://covid19.who.int/  2021      5   27   \n",
       "1                           https://covid19.who.int/  2021      6    3   \n",
       "2                           https://covid19.who.int/  2022      1   27   \n",
       "3  https://shendetesia.gov.al/vaksinimi-anticovid...  2021      2   18   \n",
       "4  https://shendetesia.gov.al/vaksinimi-anticovid...  2021      5   11   \n",
       "\n",
       "  month_name  \n",
       "0        May  \n",
       "1        Jun  \n",
       "2        Jan  \n",
       "3        Feb  \n",
       "4        May  "
      ]
     },
     "execution_count": 2,
     "metadata": {},
     "output_type": "execute_result"
    }
   ],
   "source": [
    "df = pd.read_csv('input/country_vaccination_preprocessed.csv')\n",
    "df.head()"
   ]
  },
  {
   "cell_type": "code",
   "execution_count": 3,
   "id": "512abab0",
   "metadata": {},
   "outputs": [
    {
     "data": {
      "text/plain": [
       "(30847, 19)"
      ]
     },
     "execution_count": 3,
     "metadata": {},
     "output_type": "execute_result"
    }
   ],
   "source": [
    "df.shape"
   ]
  },
  {
   "cell_type": "markdown",
   "id": "53d1f6e0",
   "metadata": {},
   "source": [
    "## 1. How many people are totally vaccinated in India in May 2021?"
   ]
  },
  {
   "cell_type": "code",
   "execution_count": 4,
   "id": "1f4f4fcb",
   "metadata": {},
   "outputs": [
    {
     "name": "stdout",
     "output_type": "stream",
     "text": [
      "1092948112 people are totally vaccinated in India in May 2021\n"
     ]
    }
   ],
   "source": [
    "tot = 0\n",
    "for i in df.values:\n",
    "    if i[0] == 'India' and i[-1] == 'May' and i[-4] == 2021:\n",
    "        tot += int(i[5])\n",
    "print(tot,'people are totally vaccinated in India in May 2021')"
   ]
  },
  {
   "cell_type": "markdown",
   "id": "23cf63a7",
   "metadata": {},
   "source": [
    "## 2. How many people are vaccinated in Albania on 2022-01-12?"
   ]
  },
  {
   "cell_type": "code",
   "execution_count": 5,
   "id": "b6e05cd3",
   "metadata": {},
   "outputs": [
    {
     "name": "stdout",
     "output_type": "stream",
     "text": [
      "0 people are vaccinated in Albania on 2022-01-12\n"
     ]
    }
   ],
   "source": [
    "tot = 0\n",
    "for i in df.values:\n",
    "    if  i[0] == 'Albania' and i[2] == '2022-01-12':\n",
    "        tot += int(i[3])\n",
    "print(tot,'people are vaccinated in Albania on 2022-01-12')"
   ]
  }
 ],
 "metadata": {
  "kernelspec": {
   "display_name": "Python 3 (ipykernel)",
   "language": "python",
   "name": "python3"
  },
  "language_info": {
   "codemirror_mode": {
    "name": "ipython",
    "version": 3
   },
   "file_extension": ".py",
   "mimetype": "text/x-python",
   "name": "python",
   "nbconvert_exporter": "python",
   "pygments_lexer": "ipython3",
   "version": "3.9.12"
  }
 },
 "nbformat": 4,
 "nbformat_minor": 5
}
