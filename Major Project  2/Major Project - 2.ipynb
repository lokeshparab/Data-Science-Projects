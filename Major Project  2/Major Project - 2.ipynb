{
 "cells": [
  {
   "cell_type": "markdown",
   "id": "8f48471e",
   "metadata": {},
   "source": [
    "# Make a Library Management System which has the following functionalities:\n",
    "\n",
    "## Database of Books that Contains | Dictionary\n",
    "\n",
    "● Book Name\n",
    "\n",
    "● Book ID\n",
    "\n",
    "● Quantity\n",
    "\n",
    "● Genre\n",
    "\n",
    "● Price\n",
    "\n",
    "● Author\n",
    "\n",
    "## Database of Students\n",
    "● Student Name\n",
    "\n",
    "● Student ID\n",
    "\n",
    "● Graduation Year\n",
    "\n",
    "● Graduation Degree\n",
    "\n",
    "● Books Issued | List of Books ID with Issue and Expiry Date"
   ]
  },
  {
   "cell_type": "markdown",
   "id": "40ab16ec",
   "metadata": {},
   "source": [
    "**Dictionary structure of books.json**\n",
    "\n",
    "```python\n",
    "\n",
    "books = {\n",
    "    'book_id_1': {\n",
    "        'name'     : # string   value\n",
    "        'quantity' : # integer  value\n",
    "        'genre'    : # string   value\n",
    "        'price'    : # floating value\n",
    "        'author'   : # string   value\n",
    "    },\n",
    "    'book_id_2': { ... },\n",
    "    ...\n",
    "}\n",
    "```\n",
    "\n",
    "**Dictionary structure of students.json**\n",
    "\n",
    "```python\n",
    "\n",
    "students = {\n",
    "    'student_id_1': {\n",
    "        'name'            : # string   value\n",
    "        'graduation year' : # integer  value\n",
    "        'degree'          : # string   value\n",
    "        'issued'    : [ 'book_ids', ... ] # list of book ids may varies\n",
    "    },\n",
    "    'student_id_2': { ... },\n",
    "    ...\n",
    "}   \n",
    "```"
   ]
  },
  {
   "cell_type": "markdown",
   "id": "c94435b2",
   "metadata": {},
   "source": [
    "## Import Libraries"
   ]
  },
  {
   "cell_type": "code",
   "execution_count": null,
   "id": "2da4bc99",
   "metadata": {},
   "outputs": [],
   "source": [
    "import json as js\n",
    "import pandas as pd"
   ]
  },
  {
   "cell_type": "markdown",
   "id": "56e71d23",
   "metadata": {},
   "source": [
    "## Read and Write Json Files function"
   ]
  },
  {
   "cell_type": "code",
   "execution_count": null,
   "id": "15061e0d",
   "metadata": {},
   "outputs": [],
   "source": [
    "# reads json file and return dictionary \n",
    "def read_file( name = 'book' ):\n",
    "    \n",
    "    # writing extension of file as .json\n",
    "    name += 's.json'\n",
    "    \n",
    "    # Opening json file in read mode\n",
    "    fr    = open( name ,'r')\n",
    "\n",
    "    # Loading json file into dictionary\n",
    "    r     = js.loads( fr.read() )\n",
    "\n",
    "    # Closing the file\n",
    "    fr.close()\n",
    "    \n",
    "    # Return dictionary\n",
    "    return r"
   ]
  },
  {
   "cell_type": "code",
   "execution_count": null,
   "id": "08df048d",
   "metadata": {},
   "outputs": [],
   "source": [
    "# write dictionary data into json file \n",
    "def write_file(var, name = 'book' ):\n",
    "    \n",
    "    # writing extension of file as .json\n",
    "    name += 's.json'\n",
    "    \n",
    "    # Opening json file in write mode\n",
    "    fr    = open( name ,'w')\n",
    "\n",
    "    # Dumping dictionary into json file  \n",
    "    fw.write(js.dumps(var))\n",
    "\n",
    "    # Closing the file\n",
    "    fw.close()"
   ]
  }
 ],
 "metadata": {
  "kernelspec": {
   "display_name": "Python 3 (ipykernel)",
   "language": "python",
   "name": "python3"
  },
  "language_info": {
   "codemirror_mode": {
    "name": "ipython",
    "version": 3
   },
   "file_extension": ".py",
   "mimetype": "text/x-python",
   "name": "python",
   "nbconvert_exporter": "python",
   "pygments_lexer": "ipython3",
   "version": "3.9.12"
  }
 },
 "nbformat": 4,
 "nbformat_minor": 5
}
