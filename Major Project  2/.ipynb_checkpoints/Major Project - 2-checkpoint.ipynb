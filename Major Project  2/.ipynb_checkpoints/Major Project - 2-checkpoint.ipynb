{
 "cells": [
  {
   "cell_type": "markdown",
   "id": "8f48471e",
   "metadata": {},
   "source": [
    "# Make a Library Management System which has the following functionalities:\n",
    "\n",
    "## Database of Books that Contains | Dictionary\n",
    "\n",
    "● Book Name\n",
    "\n",
    "● Book ID\n",
    "\n",
    "● Quantity\n",
    "\n",
    "● Genre\n",
    "\n",
    "● Price\n",
    "\n",
    "● Author\n",
    "\n",
    "## Database of Students\n",
    "● Student Name\n",
    "\n",
    "● Student ID\n",
    "\n",
    "● Graduation Year\n",
    "\n",
    "● Graduation Degree\n",
    "\n",
    "● Books Taken\n",
    "\n",
    "● Books Issued | List of Books ID with Issue and Expiry Date"
   ]
  },
  {
   "cell_type": "markdown",
   "id": "40ab16ec",
   "metadata": {},
   "source": [
    "**Dictionary structure of books.json**\n",
    "\n",
    "```python\n",
    "\n",
    "books = {\n",
    "    'book_id_1': {\n",
    "        'name'     : # string   value\n",
    "        'quantity' : # integer  value\n",
    "        'genre'    : # string   value\n",
    "        'price'    : # floating value\n",
    "        'author'   : # string   value\n",
    "    },\n",
    "    'book_id_2': { ... },\n",
    "    ...\n",
    "}\n",
    "```\n",
    "\n",
    "**Dictionary structure of students.json**\n",
    "\n",
    "```python\n",
    "\n",
    "students = {\n",
    "    'student_id_1': {\n",
    "        'name'            : # string   value\n",
    "        'graduation year' : # integer  value\n",
    "        'degree'          : # string   value\n",
    "        'taken'           : # integer values --> 0, 1, 2\n",
    "        'issued'          : [ ('book_ids','expire_date'), ... ] # list of book ids may varies\n",
    "    },\n",
    "    'student_id_2': { ... },\n",
    "    ...\n",
    "}   \n",
    "```"
   ]
  },
  {
   "cell_type": "markdown",
   "id": "c94435b2",
   "metadata": {},
   "source": [
    "## Import Libraries"
   ]
  },
  {
   "cell_type": "code",
   "execution_count": 21,
   "id": "2da4bc99",
   "metadata": {},
   "outputs": [],
   "source": [
    "import json as js\n",
    "import pandas as pd\n",
    "from IPython.display import clear_output\n",
    "from datetime import datetime  as dt\n",
    "from datetime import timedelta as td"
   ]
  },
  {
   "cell_type": "markdown",
   "id": "56e71d23",
   "metadata": {},
   "source": [
    "## Read and Write Json Files function"
   ]
  },
  {
   "cell_type": "code",
   "execution_count": 2,
   "id": "15061e0d",
   "metadata": {},
   "outputs": [],
   "source": [
    "# reads json file and return dictionary \n",
    "def read_file( name = 'book' ):\n",
    "    \n",
    "    # writing extension of file as .json\n",
    "    name += 's.json'\n",
    "    \n",
    "    # Opening json file in read mode\n",
    "    fr    = open( name ,'r')\n",
    "\n",
    "    # Loading json file into dictionary\n",
    "    r     = js.loads( fr.read() )\n",
    "\n",
    "    # Closing the file\n",
    "    fr.close()\n",
    "    \n",
    "    # Return dictionary\n",
    "    return r"
   ]
  },
  {
   "cell_type": "code",
   "execution_count": 3,
   "id": "80668b4c",
   "metadata": {},
   "outputs": [],
   "source": [
    "# write dictionary data into json file \n",
    "def write_file(var, name = 'book' ):\n",
    "    \n",
    "    # writing extension of file as .json\n",
    "    name += 's.json'\n",
    "    \n",
    "    # Opening json file in write mode\n",
    "    fw    = open( name ,'w')\n",
    "\n",
    "    # Dumping dictionary into json file  \n",
    "    fw.write(js.dumps(var))\n",
    "\n",
    "    # Closing the file\n",
    "    fw.close()"
   ]
  },
  {
   "cell_type": "markdown",
   "id": "c6dbe66f",
   "metadata": {},
   "source": [
    "## Choice function"
   ]
  },
  {
   "cell_type": "code",
   "execution_count": 4,
   "id": "aaa7626f",
   "metadata": {},
   "outputs": [],
   "source": [
    "def choices():\n",
    "    \n",
    "    # Taking input of choice from user\n",
    "    choice = input('Enter your choice number: ')\n",
    "    \n",
    "    # try block to catch error for int function\n",
    "    try:\n",
    "        \n",
    "        # convert str to int if error then go to except block\n",
    "        choice = int(choice)\n",
    "        \n",
    "        # valid choice and return choice as o/p\n",
    "        if 0 < choice < 5:\n",
    "            return choice\n",
    "        \n",
    "        # invalid choice and return False as o/p\n",
    "        else :\n",
    "            print('Enter valid number try again ....')\n",
    "            print('-'*40)\n",
    "            return False\n",
    "        \n",
    "    # except block for int errors and return False as o/p\n",
    "    except:\n",
    "        print('Invalid input try again ....')\n",
    "        print('-'*40)\n",
    "        return False"
   ]
  },
  {
   "cell_type": "markdown",
   "id": "ff6b14cd",
   "metadata": {},
   "source": [
    "# Book Issue and Reissue Application"
   ]
  },
  {
   "cell_type": "code",
   "execution_count": 11,
   "id": "997cbfc2",
   "metadata": {},
   "outputs": [],
   "source": [
    "def book_avail():\n",
    "    # Loop this message until exit\n",
    "    while True:\n",
    "        # printing statement\n",
    "        print('Check Availiability')\n",
    "        print('1. Search by Name')\n",
    "        print('2. Search by Author')\n",
    "        print('3. Search by Genres')\n",
    "        print('4. Exit')\n",
    "        \n",
    "        choice = choices()\n",
    "        print('*'* 80)\n",
    "        \n",
    "        if not choice: continue\n",
    "        \n",
    "        elif choice == 4: break\n",
    "            \n",
    "        else:\n",
    "            \n",
    "            search(choice)\n",
    "\n",
    "def search(option):\n",
    "    \n",
    "    tag     = 'Name' if option == 1 else ( 'Author' if option == 2 else 'Genres' )\n",
    "    msg     = f'Enter the {tag}: '\n",
    "    \n",
    "    search  = input(msg)\n",
    "    \n",
    "    books    = read_file()\n",
    "    \n",
    "    max_len  = 0\n",
    "    \n",
    "    searched = []\n",
    "    for book in books.values():\n",
    "        \n",
    "        if type(book) == list    : continue \n",
    "        \n",
    "        tag = book['name'] if option == 1 else ( book['author'] if option == 2 else book['genres'])\n",
    "\n",
    "        \n",
    "        if search.lower() in tag.lower():\n",
    "            \n",
    "            name     = book['name'] if option != 1 else tag\n",
    "            \n",
    "            max_len  = len(name) if len(name) > max_len else max_len\n",
    "            \n",
    "            quantity = book['quantity']\n",
    "            \n",
    "            status   = '   AVAIL' if quantity > 0 else 'NOTAVAIL'\n",
    "            \n",
    "            searched.append( (name,status) )\n",
    "    \n",
    "    \n",
    "    if searched == []:\n",
    "        print('Book not found')\n",
    "        print('*'*80)\n",
    "        \n",
    "    else:\n",
    "        \n",
    "        if option != 1:\n",
    "            tag = 'AUTHORS' if option == 2 else 'GENRES'\n",
    "            \n",
    "            print(tag,':',search)\n",
    "            \n",
    "        print('-'*(max_len+14))\n",
    "        print('NAMES'.ljust(max_len),'  STATUS')\n",
    "        print('-'*(max_len+14))\n",
    "        for name,status in searched:\n",
    "            \n",
    "            print(name.ljust(max_len),status)\n",
    "        \n",
    "        print('*'*(max_len+14))\n",
    "        \n"
   ]
  },
  {
   "cell_type": "code",
   "execution_count": null,
   "id": "f86877ff",
   "metadata": {},
   "outputs": [],
   "source": [
    "def book_issue():\n",
    "    \n",
    "    books              = read_file()\n",
    "    students           = read_file('student')\n",
    "    \n",
    "    while True:\n",
    "        try:\n",
    "            book_id    = input('Scan / Type Book id: ').upper()\n",
    "            \n",
    "            if not book_id in books    :\n",
    "                \n",
    "                print('Book id not found')\n",
    "                continue\n",
    "                \n",
    "                \n",
    "            stud_id    = input('Scan / Type student id: ').upper()\n",
    "            \n",
    "            if not stud_id in students :\n",
    "                \n",
    "                print('Student id not found')\n",
    "                continue\n",
    "                \n",
    "                \n",
    "            else                       :\n",
    "                break\n",
    "        else:\n",
    "            print('Try Again ... ')\n",
    "    \n",
    "\n",
    "    \n",
    "    \n",
    "    \n",
    "    # Updating the quantity of that book\n",
    "    book               = books.get(book_id)\n",
    "    book ['quantity'] -=  1\n",
    "    books[ book_id  ]  = book\n",
    "    \n",
    "    \n",
    "    student            = students.get(stud_id)\n",
    "    expire             = dt.now() + td( days = 28)\n",
    "    expire             = expire.strftime('%d-%m-%y')\n",
    "    \n",
    "    student['taken']  += 1 \n",
    "    \n",
    "    issued             = student['issued']\n",
    "    \n",
    "    flag               = True\n",
    "    \n",
    "    for ix in range(len(issued)):\n",
    "        \n",
    "        if issued[ix][0] == book_id:\n",
    "            \n",
    "            flag          = False\n",
    "            \n",
    "            issued[ix][1] = expire\n",
    "    \n",
    "    if flag:\n",
    "        issued.append( (book_id,expire) )\n",
    "    \n",
    "    student ['issued']  = issued\n",
    "    \n",
    "    students[stud_id ]  = student\n",
    "    \n",
    "    \n",
    "    write_file( books              )\n",
    "    write_file( students, 'student')\n",
    "    \n",
    "    \n",
    "    \n",
    "    \n",
    "    \n",
    "            \n",
    "    \n",
    "    "
   ]
  },
  {
   "cell_type": "code",
   "execution_count": null,
   "id": "64a91b0f",
   "metadata": {},
   "outputs": [],
   "source": [
    "if __name__ = '__main__':\n",
    "    \n",
    "    while True:\n",
    "        \n",
    "        print('Welcome to Library Management')\n",
    "        print('1. Book Avail')\n",
    "        print('2. Book Issue')\n",
    "        print('3. Reissue')\n",
    "        print('4. Exit')\n",
    "        \n",
    "        choice = choices()\n",
    "        \n",
    "        if not choice: continue\n",
    "        \n",
    "        elif choice == 4: break\n",
    "        \n",
    "        elif choice == 1:\n",
    "            book_avail()\n",
    "        elif choice == 2:\n",
    "            book_issue()\n",
    "        else:\n",
    "            reissue()\n",
    "        \n",
    "        "
   ]
  },
  {
   "cell_type": "code",
   "execution_count": null,
   "id": "743c4592",
   "metadata": {},
   "outputs": [],
   "source": [
    "for i in book.values():\n",
    "    print(i)"
   ]
  },
  {
   "cell_type": "code",
   "execution_count": 13,
   "id": "173e8769",
   "metadata": {},
   "outputs": [
    {
     "data": {
      "text/plain": [
       "['07', '', '23']"
      ]
     },
     "execution_count": 13,
     "metadata": {},
     "output_type": "execute_result"
    }
   ],
   "source": [
    "day_year = dt.now().strftime('%d--%y')\n",
    "day_year.split('-')"
   ]
  },
  {
   "cell_type": "code",
   "execution_count": 16,
   "id": "d4844f24",
   "metadata": {},
   "outputs": [
    {
     "data": {
      "text/plain": [
       "datetime.datetime(2023, 1, 7, 20, 13, 49, 190173)"
      ]
     },
     "execution_count": 16,
     "metadata": {},
     "output_type": "execute_result"
    }
   ],
   "source": [
    "dt.now()"
   ]
  },
  {
   "cell_type": "code",
   "execution_count": 18,
   "id": "3ab1bc20",
   "metadata": {},
   "outputs": [
    {
     "name": "stdout",
     "output_type": "stream",
     "text": [
      "39\n"
     ]
    }
   ],
   "source": [
    "d0 = dt(2008, 8, 18)\n",
    "d1 = dt(2008, 9, 26)\n",
    "delta = d1 - d0\n",
    "print(delta.days)"
   ]
  },
  {
   "cell_type": "code",
   "execution_count": 19,
   "id": "48a500e3",
   "metadata": {},
   "outputs": [
    {
     "data": {
      "text/plain": [
       "datetime.datetime(2008, 8, 18, 0, 0)"
      ]
     },
     "execution_count": 19,
     "metadata": {},
     "output_type": "execute_result"
    }
   ],
   "source": [
    "d0"
   ]
  },
  {
   "cell_type": "code",
   "execution_count": 20,
   "id": "da31f84d",
   "metadata": {},
   "outputs": [
    {
     "data": {
      "text/plain": [
       "datetime.timedelta(days=39)"
      ]
     },
     "execution_count": 20,
     "metadata": {},
     "output_type": "execute_result"
    }
   ],
   "source": [
    "delta"
   ]
  },
  {
   "cell_type": "code",
   "execution_count": 25,
   "id": "bfa18094",
   "metadata": {},
   "outputs": [
    {
     "data": {
      "text/plain": [
       "'09-01-23'"
      ]
     },
     "execution_count": 25,
     "metadata": {},
     "output_type": "execute_result"
    }
   ],
   "source": [
    "expire = dt.now() + td(days=2)\n",
    "expire.strftime(\"%d-%m-%y\")"
   ]
  },
  {
   "cell_type": "code",
   "execution_count": null,
   "id": "0e93c7d6",
   "metadata": {},
   "outputs": [],
   "source": []
  }
 ],
 "metadata": {
  "kernelspec": {
   "display_name": "Python 3 (ipykernel)",
   "language": "python",
   "name": "python3"
  },
  "language_info": {
   "codemirror_mode": {
    "name": "ipython",
    "version": 3
   },
   "file_extension": ".py",
   "mimetype": "text/x-python",
   "name": "python",
   "nbconvert_exporter": "python",
   "pygments_lexer": "ipython3",
   "version": "3.9.12"
  }
 },
 "nbformat": 4,
 "nbformat_minor": 5
}
