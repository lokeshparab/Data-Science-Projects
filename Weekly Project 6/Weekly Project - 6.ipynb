{
 "cells": [
  {
   "cell_type": "markdown",
   "id": "88c4c300",
   "metadata": {},
   "source": [
    "# A program to convert text files with csv to numpy arrays."
   ]
  },
  {
   "cell_type": "markdown",
   "id": "9dd7a891",
   "metadata": {},
   "source": [
    "## Importing Library"
   ]
  },
  {
   "cell_type": "code",
   "execution_count": 1,
   "id": "381fbd4c",
   "metadata": {},
   "outputs": [],
   "source": [
    "import pandas as pd\n",
    "import numpy as np"
   ]
  },
  {
   "cell_type": "markdown",
   "id": "bdcde1fb",
   "metadata": {},
   "source": [
    "## Read and write function"
   ]
  },
  {
   "cell_type": "code",
   "execution_count": 2,
   "id": "fa2c14ee",
   "metadata": {},
   "outputs": [],
   "source": [
    "def write_file(path,data,mode):\n",
    "    \n",
    "    # open the text file in write mode\n",
    "    fd = open(path,mode)\n",
    "    \n",
    "    # write data in the file\n",
    "    fd.write(data)\n",
    "    \n",
    "    # close the file\n",
    "    fd.close()\n",
    "\n",
    "def read_file(path):\n",
    "\n",
    "    # open the text file in write mode\n",
    "    fd = open(path,'r')\n",
    "\n",
    "    # Reading data of text file\n",
    "    data = fd.read()\n",
    "\n",
    "    # close the file\n",
    "    fd.close()\n",
    "\n",
    "    # return the data\n",
    "    return data"
   ]
  },
  {
   "cell_type": "markdown",
   "id": "cf2479c7",
   "metadata": {},
   "source": [
    "## Converting text files to csv files"
   ]
  },
  {
   "cell_type": "code",
   "execution_count": 3,
   "id": "e01bacec",
   "metadata": {},
   "outputs": [],
   "source": [
    "data = read_file('Students Details.txt')\n",
    "\n",
    "for line in data.split('\\n'):\n",
    "    \n",
    "    format_data = ','.join(line.strip().split()) + '\\n'\n",
    "    \n",
    "    write_file('Students Details.csv',format_data,'a')\n",
    "    "
   ]
  },
  {
   "cell_type": "markdown",
   "id": "8cbfc1aa",
   "metadata": {},
   "source": [
    "## converting csv to numpy arrays"
   ]
  },
  {
   "cell_type": "markdown",
   "id": "cdd5fc89",
   "metadata": {},
   "source": [
    "### Loading csv file in dataframe"
   ]
  },
  {
   "cell_type": "code",
   "execution_count": 4,
   "id": "ff734b07",
   "metadata": {},
   "outputs": [
    {
     "data": {
      "text/html": [
       "<div>\n",
       "<style scoped>\n",
       "    .dataframe tbody tr th:only-of-type {\n",
       "        vertical-align: middle;\n",
       "    }\n",
       "\n",
       "    .dataframe tbody tr th {\n",
       "        vertical-align: top;\n",
       "    }\n",
       "\n",
       "    .dataframe thead th {\n",
       "        text-align: right;\n",
       "    }\n",
       "</style>\n",
       "<table border=\"1\" class=\"dataframe\">\n",
       "  <thead>\n",
       "    <tr style=\"text-align: right;\">\n",
       "      <th></th>\n",
       "      <th>id</th>\n",
       "      <th>name</th>\n",
       "      <th>division</th>\n",
       "      <th>gender</th>\n",
       "    </tr>\n",
       "  </thead>\n",
       "  <tbody>\n",
       "    <tr>\n",
       "      <th>0</th>\n",
       "      <td>vu000</td>\n",
       "      <td>Kelly,Mr.,James</td>\n",
       "      <td>3</td>\n",
       "      <td>male</td>\n",
       "    </tr>\n",
       "    <tr>\n",
       "      <th>1</th>\n",
       "      <td>vu001</td>\n",
       "      <td>Wilkes,Mrs.,James,(Ellen,Needs)</td>\n",
       "      <td>3</td>\n",
       "      <td>female</td>\n",
       "    </tr>\n",
       "    <tr>\n",
       "      <th>2</th>\n",
       "      <td>vu002</td>\n",
       "      <td>Myles,Mr.,Thomas,Francis</td>\n",
       "      <td>2</td>\n",
       "      <td>male</td>\n",
       "    </tr>\n",
       "    <tr>\n",
       "      <th>3</th>\n",
       "      <td>vu003</td>\n",
       "      <td>Wirz,Mr.,Albert</td>\n",
       "      <td>3</td>\n",
       "      <td>male</td>\n",
       "    </tr>\n",
       "    <tr>\n",
       "      <th>4</th>\n",
       "      <td>vu004</td>\n",
       "      <td>Hirvonen,Mrs.,Alexander,(Helga,E,Lindqvist)</td>\n",
       "      <td>3</td>\n",
       "      <td>female</td>\n",
       "    </tr>\n",
       "  </tbody>\n",
       "</table>\n",
       "</div>"
      ],
      "text/plain": [
       "      id                                         name division  gender\n",
       "0  vu000                              Kelly,Mr.,James        3    male\n",
       "1  vu001              Wilkes,Mrs.,James,(Ellen,Needs)        3  female\n",
       "2  vu002                     Myles,Mr.,Thomas,Francis        2    male\n",
       "3  vu003                              Wirz,Mr.,Albert        3    male\n",
       "4  vu004  Hirvonen,Mrs.,Alexander,(Helga,E,Lindqvist)        3  female"
      ]
     },
     "execution_count": 4,
     "metadata": {},
     "output_type": "execute_result"
    }
   ],
   "source": [
    "df = pd.read_csv('Students Details.csv')\n",
    "df.head()"
   ]
  },
  {
   "cell_type": "markdown",
   "id": "a0e984fa",
   "metadata": {},
   "source": [
    "### Saving file in .npy"
   ]
  },
  {
   "cell_type": "code",
   "execution_count": 10,
   "id": "8ddc7beb",
   "metadata": {},
   "outputs": [],
   "source": [
    "data = df.values\n",
    "\n",
    "with open(\"Students Details.npy\", 'wb') as fb:\n",
    "    np.save(fb, data)"
   ]
  },
  {
   "cell_type": "code",
   "execution_count": null,
   "id": "fb408554",
   "metadata": {},
   "outputs": [],
   "source": []
  }
 ],
 "metadata": {
  "kernelspec": {
   "display_name": "Python 3 (ipykernel)",
   "language": "python",
   "name": "python3"
  },
  "language_info": {
   "codemirror_mode": {
    "name": "ipython",
    "version": 3
   },
   "file_extension": ".py",
   "mimetype": "text/x-python",
   "name": "python",
   "nbconvert_exporter": "python",
   "pygments_lexer": "ipython3",
   "version": "3.9.12"
  }
 },
 "nbformat": 4,
 "nbformat_minor": 5
}
