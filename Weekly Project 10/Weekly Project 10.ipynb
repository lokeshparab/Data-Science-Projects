{
 "cells": [
  {
   "cell_type": "markdown",
   "id": "91d9d7c9",
   "metadata": {},
   "source": [
    "# 1. COVID Analysis"
   ]
  },
  {
   "cell_type": "markdown",
   "id": "62a99948",
   "metadata": {},
   "source": [
    "## Import libraries"
   ]
  },
  {
   "cell_type": "code",
   "execution_count": 1,
   "id": "b06b9f69",
   "metadata": {},
   "outputs": [],
   "source": [
    "import pandas as pd\n",
    "import numpy as np\n",
    "from sklearn.impute import SimpleImputer as si"
   ]
  },
  {
   "cell_type": "markdown",
   "id": "00492ae6",
   "metadata": {},
   "source": [
    "## Loading dataset"
   ]
  },
  {
   "cell_type": "code",
   "execution_count": 2,
   "id": "d5130ebd",
   "metadata": {},
   "outputs": [
    {
     "data": {
      "text/html": [
       "<div>\n",
       "<style scoped>\n",
       "    .dataframe tbody tr th:only-of-type {\n",
       "        vertical-align: middle;\n",
       "    }\n",
       "\n",
       "    .dataframe tbody tr th {\n",
       "        vertical-align: top;\n",
       "    }\n",
       "\n",
       "    .dataframe thead th {\n",
       "        text-align: right;\n",
       "    }\n",
       "</style>\n",
       "<table border=\"1\" class=\"dataframe\">\n",
       "  <thead>\n",
       "    <tr style=\"text-align: right;\">\n",
       "      <th></th>\n",
       "      <th>country</th>\n",
       "      <th>iso_code</th>\n",
       "      <th>date</th>\n",
       "      <th>total_vaccinations</th>\n",
       "      <th>people_vaccinated</th>\n",
       "      <th>people_fully_vaccinated</th>\n",
       "      <th>daily_vaccinations_raw</th>\n",
       "      <th>daily_vaccinations</th>\n",
       "      <th>total_vaccinations_per_hundred</th>\n",
       "      <th>people_vaccinated_per_hundred</th>\n",
       "      <th>people_fully_vaccinated_per_hundred</th>\n",
       "      <th>daily_vaccinations_per_million</th>\n",
       "      <th>vaccines</th>\n",
       "      <th>source_name</th>\n",
       "      <th>source_website</th>\n",
       "    </tr>\n",
       "  </thead>\n",
       "  <tbody>\n",
       "    <tr>\n",
       "      <th>0</th>\n",
       "      <td>Afghanistan</td>\n",
       "      <td>AFG</td>\n",
       "      <td>2021-02-22</td>\n",
       "      <td>0.0</td>\n",
       "      <td>0.0</td>\n",
       "      <td>NaN</td>\n",
       "      <td>NaN</td>\n",
       "      <td>NaN</td>\n",
       "      <td>0.0</td>\n",
       "      <td>0.0</td>\n",
       "      <td>NaN</td>\n",
       "      <td>NaN</td>\n",
       "      <td>Johnson&amp;Johnson, Oxford/AstraZeneca, Pfizer/Bi...</td>\n",
       "      <td>World Health Organization</td>\n",
       "      <td>https://covid19.who.int/</td>\n",
       "    </tr>\n",
       "    <tr>\n",
       "      <th>1</th>\n",
       "      <td>Afghanistan</td>\n",
       "      <td>AFG</td>\n",
       "      <td>2021-02-23</td>\n",
       "      <td>NaN</td>\n",
       "      <td>NaN</td>\n",
       "      <td>NaN</td>\n",
       "      <td>NaN</td>\n",
       "      <td>1367.0</td>\n",
       "      <td>NaN</td>\n",
       "      <td>NaN</td>\n",
       "      <td>NaN</td>\n",
       "      <td>34.0</td>\n",
       "      <td>Johnson&amp;Johnson, Oxford/AstraZeneca, Pfizer/Bi...</td>\n",
       "      <td>World Health Organization</td>\n",
       "      <td>https://covid19.who.int/</td>\n",
       "    </tr>\n",
       "    <tr>\n",
       "      <th>2</th>\n",
       "      <td>Afghanistan</td>\n",
       "      <td>AFG</td>\n",
       "      <td>2021-02-24</td>\n",
       "      <td>NaN</td>\n",
       "      <td>NaN</td>\n",
       "      <td>NaN</td>\n",
       "      <td>NaN</td>\n",
       "      <td>1367.0</td>\n",
       "      <td>NaN</td>\n",
       "      <td>NaN</td>\n",
       "      <td>NaN</td>\n",
       "      <td>34.0</td>\n",
       "      <td>Johnson&amp;Johnson, Oxford/AstraZeneca, Pfizer/Bi...</td>\n",
       "      <td>World Health Organization</td>\n",
       "      <td>https://covid19.who.int/</td>\n",
       "    </tr>\n",
       "    <tr>\n",
       "      <th>3</th>\n",
       "      <td>Afghanistan</td>\n",
       "      <td>AFG</td>\n",
       "      <td>2021-02-25</td>\n",
       "      <td>NaN</td>\n",
       "      <td>NaN</td>\n",
       "      <td>NaN</td>\n",
       "      <td>NaN</td>\n",
       "      <td>1367.0</td>\n",
       "      <td>NaN</td>\n",
       "      <td>NaN</td>\n",
       "      <td>NaN</td>\n",
       "      <td>34.0</td>\n",
       "      <td>Johnson&amp;Johnson, Oxford/AstraZeneca, Pfizer/Bi...</td>\n",
       "      <td>World Health Organization</td>\n",
       "      <td>https://covid19.who.int/</td>\n",
       "    </tr>\n",
       "    <tr>\n",
       "      <th>4</th>\n",
       "      <td>Afghanistan</td>\n",
       "      <td>AFG</td>\n",
       "      <td>2021-02-26</td>\n",
       "      <td>NaN</td>\n",
       "      <td>NaN</td>\n",
       "      <td>NaN</td>\n",
       "      <td>NaN</td>\n",
       "      <td>1367.0</td>\n",
       "      <td>NaN</td>\n",
       "      <td>NaN</td>\n",
       "      <td>NaN</td>\n",
       "      <td>34.0</td>\n",
       "      <td>Johnson&amp;Johnson, Oxford/AstraZeneca, Pfizer/Bi...</td>\n",
       "      <td>World Health Organization</td>\n",
       "      <td>https://covid19.who.int/</td>\n",
       "    </tr>\n",
       "  </tbody>\n",
       "</table>\n",
       "</div>"
      ],
      "text/plain": [
       "       country iso_code        date  total_vaccinations  people_vaccinated  \\\n",
       "0  Afghanistan      AFG  2021-02-22                 0.0                0.0   \n",
       "1  Afghanistan      AFG  2021-02-23                 NaN                NaN   \n",
       "2  Afghanistan      AFG  2021-02-24                 NaN                NaN   \n",
       "3  Afghanistan      AFG  2021-02-25                 NaN                NaN   \n",
       "4  Afghanistan      AFG  2021-02-26                 NaN                NaN   \n",
       "\n",
       "   people_fully_vaccinated  daily_vaccinations_raw  daily_vaccinations  \\\n",
       "0                      NaN                     NaN                 NaN   \n",
       "1                      NaN                     NaN              1367.0   \n",
       "2                      NaN                     NaN              1367.0   \n",
       "3                      NaN                     NaN              1367.0   \n",
       "4                      NaN                     NaN              1367.0   \n",
       "\n",
       "   total_vaccinations_per_hundred  people_vaccinated_per_hundred  \\\n",
       "0                             0.0                            0.0   \n",
       "1                             NaN                            NaN   \n",
       "2                             NaN                            NaN   \n",
       "3                             NaN                            NaN   \n",
       "4                             NaN                            NaN   \n",
       "\n",
       "   people_fully_vaccinated_per_hundred  daily_vaccinations_per_million  \\\n",
       "0                                  NaN                             NaN   \n",
       "1                                  NaN                            34.0   \n",
       "2                                  NaN                            34.0   \n",
       "3                                  NaN                            34.0   \n",
       "4                                  NaN                            34.0   \n",
       "\n",
       "                                            vaccines  \\\n",
       "0  Johnson&Johnson, Oxford/AstraZeneca, Pfizer/Bi...   \n",
       "1  Johnson&Johnson, Oxford/AstraZeneca, Pfizer/Bi...   \n",
       "2  Johnson&Johnson, Oxford/AstraZeneca, Pfizer/Bi...   \n",
       "3  Johnson&Johnson, Oxford/AstraZeneca, Pfizer/Bi...   \n",
       "4  Johnson&Johnson, Oxford/AstraZeneca, Pfizer/Bi...   \n",
       "\n",
       "                 source_name            source_website  \n",
       "0  World Health Organization  https://covid19.who.int/  \n",
       "1  World Health Organization  https://covid19.who.int/  \n",
       "2  World Health Organization  https://covid19.who.int/  \n",
       "3  World Health Organization  https://covid19.who.int/  \n",
       "4  World Health Organization  https://covid19.who.int/  "
      ]
     },
     "execution_count": 2,
     "metadata": {},
     "output_type": "execute_result"
    }
   ],
   "source": [
    "df = pd.read_csv('country_vaccinations.csv')\n",
    "df.head()"
   ]
  },
  {
   "cell_type": "code",
   "execution_count": 3,
   "id": "3e6905fe",
   "metadata": {},
   "outputs": [
    {
     "name": "stdout",
     "output_type": "stream",
     "text": [
      "<class 'pandas.core.frame.DataFrame'>\n",
      "RangeIndex: 86512 entries, 0 to 86511\n",
      "Data columns (total 15 columns):\n",
      " #   Column                               Non-Null Count  Dtype  \n",
      "---  ------                               --------------  -----  \n",
      " 0   country                              86512 non-null  object \n",
      " 1   iso_code                             86512 non-null  object \n",
      " 2   date                                 86512 non-null  object \n",
      " 3   total_vaccinations                   43607 non-null  float64\n",
      " 4   people_vaccinated                    41294 non-null  float64\n",
      " 5   people_fully_vaccinated              38802 non-null  float64\n",
      " 6   daily_vaccinations_raw               35362 non-null  float64\n",
      " 7   daily_vaccinations                   86213 non-null  float64\n",
      " 8   total_vaccinations_per_hundred       43607 non-null  float64\n",
      " 9   people_vaccinated_per_hundred        41294 non-null  float64\n",
      " 10  people_fully_vaccinated_per_hundred  38802 non-null  float64\n",
      " 11  daily_vaccinations_per_million       86213 non-null  float64\n",
      " 12  vaccines                             86512 non-null  object \n",
      " 13  source_name                          86512 non-null  object \n",
      " 14  source_website                       86512 non-null  object \n",
      "dtypes: float64(9), object(6)\n",
      "memory usage: 9.9+ MB\n"
     ]
    }
   ],
   "source": [
    "df.info()"
   ]
  },
  {
   "cell_type": "markdown",
   "id": "971fe165",
   "metadata": {},
   "source": [
    "## Checking null values"
   ]
  },
  {
   "cell_type": "code",
   "execution_count": 4,
   "id": "dc98ae6d",
   "metadata": {},
   "outputs": [
    {
     "data": {
      "text/plain": [
       "country                                    0\n",
       "iso_code                                   0\n",
       "date                                       0\n",
       "total_vaccinations                     42905\n",
       "people_vaccinated                      45218\n",
       "people_fully_vaccinated                47710\n",
       "daily_vaccinations_raw                 51150\n",
       "daily_vaccinations                       299\n",
       "total_vaccinations_per_hundred         42905\n",
       "people_vaccinated_per_hundred          45218\n",
       "people_fully_vaccinated_per_hundred    47710\n",
       "daily_vaccinations_per_million           299\n",
       "vaccines                                   0\n",
       "source_name                                0\n",
       "source_website                             0\n",
       "dtype: int64"
      ]
     },
     "execution_count": 4,
     "metadata": {},
     "output_type": "execute_result"
    }
   ],
   "source": [
    "df.isnull().sum()"
   ]
  },
  {
   "cell_type": "markdown",
   "id": "0a0499ec",
   "metadata": {},
   "source": [
    "## Dealing with Null Values"
   ]
  },
  {
   "cell_type": "markdown",
   "id": "380ed0fa",
   "metadata": {},
   "source": [
    "### CASE 1 - Remove null values"
   ]
  },
  {
   "cell_type": "markdown",
   "id": "560f7974",
   "metadata": {},
   "source": [
    "#### 1. Using Function"
   ]
  },
  {
   "cell_type": "code",
   "execution_count": 5,
   "id": "c1409c52",
   "metadata": {},
   "outputs": [
    {
     "data": {
      "text/plain": [
       "country                                0\n",
       "iso_code                               0\n",
       "date                                   0\n",
       "total_vaccinations                     0\n",
       "people_vaccinated                      0\n",
       "people_fully_vaccinated                0\n",
       "daily_vaccinations_raw                 0\n",
       "daily_vaccinations                     0\n",
       "total_vaccinations_per_hundred         0\n",
       "people_vaccinated_per_hundred          0\n",
       "people_fully_vaccinated_per_hundred    0\n",
       "daily_vaccinations_per_million         0\n",
       "vaccines                               0\n",
       "source_name                            0\n",
       "source_website                         0\n",
       "dtype: int64"
      ]
     },
     "execution_count": 5,
     "metadata": {},
     "output_type": "execute_result"
    }
   ],
   "source": [
    "df_new =  df.dropna()\n",
    "\n",
    "df_new.isnull().sum()"
   ]
  },
  {
   "cell_type": "markdown",
   "id": "82f28b24",
   "metadata": {},
   "source": [
    "#### 2. From Scratch"
   ]
  },
  {
   "cell_type": "code",
   "execution_count": 6,
   "id": "60da1471",
   "metadata": {},
   "outputs": [],
   "source": [
    "def isnan(data):\n",
    "    return type(data) == float and not float('-inf') < data < float('inf')\n",
    "\n",
    "data = df.values\n",
    "\n",
    "new_data = []\n",
    "\n",
    "for rows in data:\n",
    "    flag = False\n",
    "    \n",
    "    for element in rows:\n",
    "        flag = isnan(element)\n",
    "        if flag: break\n",
    "            \n",
    "    if flag: continue\n",
    "    \n",
    "    new_data.append(rows)\n",
    "\n",
    "new_df = pd.DataFrame(new_data,columns = df.columns)"
   ]
  },
  {
   "cell_type": "code",
   "execution_count": 7,
   "id": "5acdd7b4",
   "metadata": {},
   "outputs": [
    {
     "data": {
      "text/plain": [
       "country                                0\n",
       "iso_code                               0\n",
       "date                                   0\n",
       "total_vaccinations                     0\n",
       "people_vaccinated                      0\n",
       "people_fully_vaccinated                0\n",
       "daily_vaccinations_raw                 0\n",
       "daily_vaccinations                     0\n",
       "total_vaccinations_per_hundred         0\n",
       "people_vaccinated_per_hundred          0\n",
       "people_fully_vaccinated_per_hundred    0\n",
       "daily_vaccinations_per_million         0\n",
       "vaccines                               0\n",
       "source_name                            0\n",
       "source_website                         0\n",
       "dtype: int64"
      ]
     },
     "execution_count": 7,
     "metadata": {},
     "output_type": "execute_result"
    }
   ],
   "source": [
    "new_df.isnull().sum()"
   ]
  },
  {
   "cell_type": "code",
   "execution_count": 8,
   "id": "b296b5a3",
   "metadata": {},
   "outputs": [
    {
     "data": {
      "text/plain": [
       "(30847, 15)"
      ]
     },
     "execution_count": 8,
     "metadata": {},
     "output_type": "execute_result"
    }
   ],
   "source": [
    "new_df.shape"
   ]
  },
  {
   "cell_type": "markdown",
   "id": "4ed3da3c",
   "metadata": {},
   "source": [
    "### CASE 2 - Deal null values using Simple Imputer"
   ]
  },
  {
   "cell_type": "code",
   "execution_count": 9,
   "id": "11eb4b18",
   "metadata": {},
   "outputs": [],
   "source": [
    "# collecting columns which present some null value \n",
    "total_vaccinations                  = df.total_vaccinations\n",
    "people_vaccinated                   = df.people_vaccinated   \n",
    "people_fully_vaccinated             = df.people_fully_vaccinated   \n",
    "daily_vaccinations_raw              = df.daily_vaccinations_raw   \n",
    "daily_vaccinations                  = df.daily_vaccinations    \n",
    "total_vaccinations_per_hundred      = df.total_vaccinations_per_hundred   \n",
    "people_vaccinated_per_hundred       = df.people_vaccinated_per_hundred  \n",
    "people_fully_vaccinated_per_hundred = df.people_fully_vaccinated_per_hundred\n",
    "daily_vaccinations_per_million      = df.daily_vaccinations_per_million \n",
    "\n",
    "# Converting pandas series to numpy array of each column\n",
    "total_vaccinations                  = total_vaccinations.values\n",
    "people_vaccinated                   = people_vaccinated.values  \n",
    "people_fully_vaccinated             = people_fully_vaccinated.values   \n",
    "daily_vaccinations_raw              = daily_vaccinations_raw.values   \n",
    "daily_vaccinations                  = daily_vaccinations.values    \n",
    "total_vaccinations_per_hundred      = total_vaccinations_per_hundred.values   \n",
    "people_vaccinated_per_hundred       = people_vaccinated_per_hundred.values  \n",
    "people_fully_vaccinated_per_hundred = people_fully_vaccinated_per_hundred.values\n",
    "daily_vaccinations_per_million      = daily_vaccinations_per_million.values\n",
    "\n",
    "# Reshape in 2D array of each column\n",
    "total_vaccinations                  = total_vaccinations.reshape(-1, 1)\n",
    "people_vaccinated                   = people_vaccinated.reshape(-1, 1)  \n",
    "people_fully_vaccinated             = people_fully_vaccinated.reshape(-1, 1)   \n",
    "daily_vaccinations_raw              = daily_vaccinations_raw.reshape(-1, 1)   \n",
    "daily_vaccinations                  = daily_vaccinations.reshape(-1, 1)    \n",
    "total_vaccinations_per_hundred      = total_vaccinations_per_hundred.reshape(-1, 1)   \n",
    "people_vaccinated_per_hundred       = people_vaccinated_per_hundred.reshape(-1, 1)  \n",
    "people_fully_vaccinated_per_hundred = people_fully_vaccinated_per_hundred.reshape(-1, 1)\n",
    "daily_vaccinations_per_million      = daily_vaccinations_per_million.reshape(-1, 1)"
   ]
  },
  {
   "cell_type": "markdown",
   "id": "4b3c7eaa",
   "metadata": {},
   "source": [
    "#### 1. Replace wiith mean values"
   ]
  },
  {
   "cell_type": "code",
   "execution_count": 10,
   "id": "b38cdd26",
   "metadata": {},
   "outputs": [],
   "source": [
    "mean = si(strategy='mean')\n",
    "\n",
    "# Creating new dataframe and adding column which are not null\n",
    "new_df = pd.DataFrame()\n",
    "\n",
    "new_df['country'] = df.country\n",
    "new_df['iso_code'] = df.iso_code\n",
    "new_df['date'] = df.date"
   ]
  },
  {
   "cell_type": "markdown",
   "id": "c7cda7fe",
   "metadata": {},
   "source": [
    "##### Fit and Transformation with null values "
   ]
  },
  {
   "cell_type": "code",
   "execution_count": 12,
   "id": "807089a2",
   "metadata": {},
   "outputs": [],
   "source": [
    "# total_vaccinations\n",
    "\n",
    "mean.fit(total_vaccinations )\n",
    "\n",
    "new_df['total_vaccinations'] = mean.transform(total_vaccinations).reshape(1,-1)[0]\n",
    "\n",
    "#---------------------------------------------------------------------------------------------------------------------\n",
    "\n",
    "# people_vaccinated\n",
    "\n",
    "mean.fit(people_vaccinated )\n",
    "\n",
    "new_df['people_vaccinated'] = mean.transform(people_vaccinated).reshape(1,-1)[0]\n",
    "\n",
    "#---------------------------------------------------------------------------------------------------------------------\n",
    "\n",
    "#people_fully_vaccinated\n",
    "\n",
    "mean.fit(people_fully_vaccinated )\n",
    "\n",
    "new_df['people_fully_vaccinated'] = mean.transform(people_fully_vaccinated).reshape(1,-1)[0]\n",
    "\n",
    "#---------------------------------------------------------------------------------------------------------------------\n",
    "\n",
    "#daily_vaccinations_raw\n",
    "\n",
    "mean.fit(daily_vaccinations_raw )\n",
    "\n",
    "new_df['daily_vaccinations_raw'] = mean.transform(daily_vaccinations_raw).reshape(1,-1)[0]\n",
    "\n",
    "#---------------------------------------------------------------------------------------------------------------------\n",
    "\n",
    "# daily_vaccinations\n",
    "\n",
    "mean.fit(daily_vaccinations )\n",
    "\n",
    "new_df['daily_vaccinations'] = mean.transform(daily_vaccinations).reshape(1,-1)[0]\n",
    "\n",
    "#---------------------------------------------------------------------------------------------------------------------\n",
    "\n",
    "# total_vaccinations_per_hundred\n",
    "\n",
    "mean.fit(total_vaccinations_per_hundred )\n",
    "\n",
    "new_df['total_vaccinations_per_hundred'] = mean.transform(total_vaccinations_per_hundred).reshape(1,-1)[0]\n",
    "\n",
    "#---------------------------------------------------------------------------------------------------------------------\n",
    "\n",
    "# people_vaccinated_per_hundred\n",
    "\n",
    "mean.fit(people_vaccinated_per_hundred )\n",
    "\n",
    "new_df['people_vaccinated_per_hundred'] = mean.transform(people_vaccinated_per_hundred).reshape(1,-1)[0]\n",
    "\n",
    "#---------------------------------------------------------------------------------------------------------------------\n",
    "\n",
    "# people_fully_vaccinated_per_hundred\n",
    "\n",
    "mean.fit(people_fully_vaccinated_per_hundred )\n",
    "\n",
    "new_df['people_fully_vaccinated_per_hundred'] = mean.transform(people_fully_vaccinated_per_hundred).reshape(1,-1)[0]\n",
    "\n",
    "#---------------------------------------------------------------------------------------------------------------------\n",
    "\n",
    "# daily_vaccinations_per_million\n",
    "\n",
    "mean.fit(daily_vaccinations_per_million )\n",
    "\n",
    "new_df['daily_vaccinations_per_million'] = mean.transform(daily_vaccinations_per_million).reshape(1,-1)[0]"
   ]
  },
  {
   "cell_type": "code",
   "execution_count": 13,
   "id": "d06c36df",
   "metadata": {},
   "outputs": [
    {
     "data": {
      "text/plain": [
       "country                                0\n",
       "iso_code                               0\n",
       "date                                   0\n",
       "total_vaccinations                     0\n",
       "people_vaccinated                      0\n",
       "people_fully_vaccinated                0\n",
       "daily_vaccinations_raw                 0\n",
       "daily_vaccinations                     0\n",
       "total_vaccinations_per_hundred         0\n",
       "people_vaccinated_per_hundred          0\n",
       "people_fully_vaccinated_per_hundred    0\n",
       "daily_vaccinations_per_million         0\n",
       "vaccines                               0\n",
       "source_name                            0\n",
       "source_website                         0\n",
       "dtype: int64"
      ]
     },
     "execution_count": 13,
     "metadata": {},
     "output_type": "execute_result"
    }
   ],
   "source": [
    "# Adding remain columns in new dataframe\n",
    "new_df['vaccines']       = df.vaccines\n",
    "new_df['source_name']    = df.source_name\n",
    "new_df['source_website'] = df.source_website\n",
    "\n",
    "del mean\n",
    "#checking null values\n",
    "new_df.isnull().sum()"
   ]
  },
  {
   "cell_type": "markdown",
   "id": "69b4342a",
   "metadata": {},
   "source": [
    "#### 2. Replace  with median values"
   ]
  },
  {
   "cell_type": "code",
   "execution_count": 14,
   "id": "c8d55e6f",
   "metadata": {},
   "outputs": [],
   "source": [
    "median = si(strategy='median')\n",
    "\n",
    "# Creating new dataframe and adding column which are not null\n",
    "new_df = pd.DataFrame()\n",
    "\n",
    "new_df['country'] = df.country\n",
    "new_df['iso_code'] = df.iso_code\n",
    "new_df['date'] = df.date"
   ]
  },
  {
   "cell_type": "markdown",
   "id": "e130ec8a",
   "metadata": {},
   "source": [
    "##### Fit and Transformation with null values "
   ]
  },
  {
   "cell_type": "code",
   "execution_count": 16,
   "id": "8e498892",
   "metadata": {},
   "outputs": [],
   "source": [
    "# total_vaccinations\n",
    "\n",
    "median.fit(total_vaccinations )\n",
    "\n",
    "new_df['total_vaccinations'] = median.transform(total_vaccinations).reshape(1,-1)[0]\n",
    "\n",
    "#---------------------------------------------------------------------------------------------------------------------\n",
    "\n",
    "# people_vaccinated\n",
    "\n",
    "median.fit(people_vaccinated )\n",
    "\n",
    "new_df['people_vaccinated'] = median.transform(people_vaccinated).reshape(1,-1)[0]\n",
    "\n",
    "#---------------------------------------------------------------------------------------------------------------------\n",
    "\n",
    "#people_fully_vaccinated\n",
    "\n",
    "median.fit(people_fully_vaccinated )\n",
    "\n",
    "new_df['people_fully_vaccinated'] = median.transform(people_fully_vaccinated).reshape(1,-1)[0]\n",
    "\n",
    "#---------------------------------------------------------------------------------------------------------------------\n",
    "\n",
    "#daily_vaccinations_raw\n",
    "\n",
    "median.fit(daily_vaccinations_raw )\n",
    "\n",
    "new_df['daily_vaccinations_raw'] = median.transform(daily_vaccinations_raw).reshape(1,-1)[0]\n",
    "\n",
    "#---------------------------------------------------------------------------------------------------------------------\n",
    "\n",
    "# daily_vaccinations\n",
    "\n",
    "median.fit(daily_vaccinations )\n",
    "\n",
    "new_df['daily_vaccinations'] = median.transform(daily_vaccinations).reshape(1,-1)[0]\n",
    "\n",
    "#---------------------------------------------------------------------------------------------------------------------\n",
    "\n",
    "# total_vaccinations_per_hundred\n",
    "\n",
    "median.fit(total_vaccinations_per_hundred )\n",
    "\n",
    "new_df['total_vaccinations_per_hundred'] = median.transform(total_vaccinations_per_hundred).reshape(1,-1)[0]\n",
    "\n",
    "#---------------------------------------------------------------------------------------------------------------------\n",
    "\n",
    "# people_vaccinated_per_hundred\n",
    "\n",
    "median.fit(people_vaccinated_per_hundred )\n",
    "\n",
    "new_df['people_vaccinated_per_hundred'] = median.transform(people_vaccinated_per_hundred).reshape(1,-1)[0]\n",
    "\n",
    "#---------------------------------------------------------------------------------------------------------------------\n",
    "\n",
    "# people_fully_vaccinated_per_hundred\n",
    "\n",
    "median.fit(people_fully_vaccinated_per_hundred )\n",
    "\n",
    "new_df['people_fully_vaccinated_per_hundred'] = median.transform(people_fully_vaccinated_per_hundred).reshape(1,-1)[0]\n",
    "\n",
    "#---------------------------------------------------------------------------------------------------------------------\n",
    "\n",
    "# daily_vaccinations_per_million\n",
    "\n",
    "median.fit(daily_vaccinations_per_million )\n",
    "\n",
    "new_df['daily_vaccinations_per_million'] = median.transform(daily_vaccinations_per_million).reshape(1,-1)[0]"
   ]
  },
  {
   "cell_type": "code",
   "execution_count": 17,
   "id": "6d639f14",
   "metadata": {},
   "outputs": [
    {
     "data": {
      "text/plain": [
       "country                                0\n",
       "iso_code                               0\n",
       "date                                   0\n",
       "total_vaccinations                     0\n",
       "people_vaccinated                      0\n",
       "people_fully_vaccinated                0\n",
       "daily_vaccinations_raw                 0\n",
       "daily_vaccinations                     0\n",
       "total_vaccinations_per_hundred         0\n",
       "people_vaccinated_per_hundred          0\n",
       "people_fully_vaccinated_per_hundred    0\n",
       "daily_vaccinations_per_million         0\n",
       "vaccines                               0\n",
       "source_name                            0\n",
       "source_website                         0\n",
       "dtype: int64"
      ]
     },
     "execution_count": 17,
     "metadata": {},
     "output_type": "execute_result"
    }
   ],
   "source": [
    "# Adding remain columns in new dataframe\n",
    "new_df['vaccines']       = df.vaccines\n",
    "new_df['source_name']    = df.source_name\n",
    "new_df['source_website'] = df.source_website\n",
    "\n",
    "del median\n",
    "#checking null values\n",
    "new_df.isnull().sum()"
   ]
  },
  {
   "cell_type": "markdown",
   "id": "45bba3b1",
   "metadata": {},
   "source": [
    "#### 3. Replace with most frequent values"
   ]
  },
  {
   "cell_type": "code",
   "execution_count": 18,
   "id": "b7888c8b",
   "metadata": {},
   "outputs": [],
   "source": [
    "mode = si(strategy='most_frequent')\n",
    "\n",
    "# Creating new dataframe and adding column which are not null\n",
    "new_df = pd.DataFrame()\n",
    "\n",
    "new_df['country'] = df.country\n",
    "new_df['iso_code'] = df.iso_code\n",
    "new_df['date'] = df.date"
   ]
  },
  {
   "cell_type": "markdown",
   "id": "a2879255",
   "metadata": {},
   "source": [
    "##### Fit and Transformation with null values "
   ]
  },
  {
   "cell_type": "code",
   "execution_count": 20,
   "id": "248ebd39",
   "metadata": {},
   "outputs": [],
   "source": [
    "# total_vaccinations\n",
    "\n",
    "mode.fit(total_vaccinations )\n",
    "\n",
    "new_df['total_vaccinations'] = mode.transform(total_vaccinations).reshape(1,-1)[0]\n",
    "\n",
    "#---------------------------------------------------------------------------------------------------------------------\n",
    "\n",
    "# people_vaccinated\n",
    "\n",
    "mode.fit(people_vaccinated )\n",
    "\n",
    "new_df['people_vaccinated'] = mode.transform(people_vaccinated).reshape(1,-1)[0]\n",
    "\n",
    "#---------------------------------------------------------------------------------------------------------------------\n",
    "\n",
    "#people_fully_vaccinated\n",
    "\n",
    "mode.fit(people_fully_vaccinated )\n",
    "\n",
    "new_df['people_fully_vaccinated'] = mode.transform(people_fully_vaccinated).reshape(1,-1)[0]\n",
    "\n",
    "#---------------------------------------------------------------------------------------------------------------------\n",
    "\n",
    "#daily_vaccinations_raw\n",
    "\n",
    "mode.fit(daily_vaccinations_raw )\n",
    "\n",
    "new_df['daily_vaccinations_raw'] = mode.transform(daily_vaccinations_raw).reshape(1,-1)[0]\n",
    "\n",
    "#---------------------------------------------------------------------------------------------------------------------\n",
    "\n",
    "# daily_vaccinations\n",
    "\n",
    "mode.fit(daily_vaccinations )\n",
    "\n",
    "new_df['daily_vaccinations'] = mode.transform(daily_vaccinations).reshape(1,-1)[0]\n",
    "\n",
    "#---------------------------------------------------------------------------------------------------------------------\n",
    "\n",
    "# total_vaccinations_per_hundred\n",
    "\n",
    "mode.fit(total_vaccinations_per_hundred )\n",
    "\n",
    "new_df['total_vaccinations_per_hundred'] = mode.transform(total_vaccinations_per_hundred).reshape(1,-1)[0]\n",
    "\n",
    "#---------------------------------------------------------------------------------------------------------------------\n",
    "\n",
    "# people_vaccinated_per_hundred\n",
    "\n",
    "mode.fit(people_vaccinated_per_hundred )\n",
    "\n",
    "new_df['people_vaccinated_per_hundred'] = mode.transform(people_vaccinated_per_hundred).reshape(1,-1)[0]\n",
    "\n",
    "#---------------------------------------------------------------------------------------------------------------------\n",
    "\n",
    "# people_fully_vaccinated_per_hundred\n",
    "\n",
    "mode.fit(people_fully_vaccinated_per_hundred )\n",
    "\n",
    "new_df['people_fully_vaccinated_per_hundred'] = mode.transform(people_fully_vaccinated_per_hundred).reshape(1,-1)[0]\n",
    "\n",
    "#---------------------------------------------------------------------------------------------------------------------\n",
    "\n",
    "# daily_vaccinations_per_million\n",
    "\n",
    "mode.fit(daily_vaccinations_per_million )\n",
    "\n",
    "new_df['daily_vaccinations_per_million'] = mode.transform(daily_vaccinations_per_million).reshape(1,-1)[0]"
   ]
  },
  {
   "cell_type": "code",
   "execution_count": 21,
   "id": "3347c124",
   "metadata": {},
   "outputs": [
    {
     "data": {
      "text/plain": [
       "country                                0\n",
       "iso_code                               0\n",
       "date                                   0\n",
       "total_vaccinations                     0\n",
       "people_vaccinated                      0\n",
       "people_fully_vaccinated                0\n",
       "daily_vaccinations_raw                 0\n",
       "daily_vaccinations                     0\n",
       "total_vaccinations_per_hundred         0\n",
       "people_vaccinated_per_hundred          0\n",
       "people_fully_vaccinated_per_hundred    0\n",
       "daily_vaccinations_per_million         0\n",
       "vaccines                               0\n",
       "source_name                            0\n",
       "source_website                         0\n",
       "dtype: int64"
      ]
     },
     "execution_count": 21,
     "metadata": {},
     "output_type": "execute_result"
    }
   ],
   "source": [
    "# Adding remain columns in new dataframe\n",
    "new_df['vaccines']       = df.vaccines\n",
    "new_df['source_name']    = df.source_name\n",
    "new_df['source_website'] = df.source_website\n",
    "\n",
    "del mode\n",
    "#checking null values\n",
    "new_df.isnull().sum()"
   ]
  },
  {
   "cell_type": "markdown",
   "id": "dba3d9ec",
   "metadata": {},
   "source": [
    "#### 4. Replace with zero"
   ]
  },
  {
   "cell_type": "code",
   "execution_count": 22,
   "id": "0c220c80",
   "metadata": {},
   "outputs": [],
   "source": [
    "const = si(strategy ='constant', fill_value = 0)\n",
    "\n",
    "# Creating new dataframe and adding column which are not null\n",
    "new_df = pd.DataFrame()\n",
    "\n",
    "new_df['country'] = df.country\n",
    "new_df['iso_code'] = df.iso_code\n",
    "new_df['date'] = df.date"
   ]
  },
  {
   "cell_type": "markdown",
   "id": "cc3a2ec6",
   "metadata": {},
   "source": [
    "##### Fit and Transformation with null values "
   ]
  },
  {
   "cell_type": "code",
   "execution_count": 24,
   "id": "60926063",
   "metadata": {},
   "outputs": [],
   "source": [
    "# total_vaccinations\n",
    "\n",
    "const.fit(total_vaccinations )\n",
    "\n",
    "new_df['total_vaccinations'] = const.transform(total_vaccinations).reshape(1,-1)[0]\n",
    "\n",
    "#---------------------------------------------------------------------------------------------------------------------\n",
    "\n",
    "# people_vaccinated\n",
    "\n",
    "const.fit(people_vaccinated )\n",
    "\n",
    "new_df['people_vaccinated'] = const.transform(people_vaccinated).reshape(1,-1)[0]\n",
    "\n",
    "#---------------------------------------------------------------------------------------------------------------------\n",
    "\n",
    "#people_fully_vaccinated\n",
    "\n",
    "const.fit(people_fully_vaccinated )\n",
    "\n",
    "new_df['people_fully_vaccinated'] = const.transform(people_fully_vaccinated).reshape(1,-1)[0]\n",
    "\n",
    "#---------------------------------------------------------------------------------------------------------------------\n",
    "\n",
    "#daily_vaccinations_raw\n",
    "\n",
    "const.fit(daily_vaccinations_raw )\n",
    "\n",
    "new_df['daily_vaccinations_raw'] = const.transform(daily_vaccinations_raw).reshape(1,-1)[0]\n",
    "\n",
    "#---------------------------------------------------------------------------------------------------------------------\n",
    "\n",
    "# daily_vaccinations\n",
    "\n",
    "const.fit(daily_vaccinations )\n",
    "\n",
    "new_df['daily_vaccinations'] = const.transform(daily_vaccinations).reshape(1,-1)[0]\n",
    "\n",
    "#---------------------------------------------------------------------------------------------------------------------\n",
    "\n",
    "# total_vaccinations_per_hundred\n",
    "\n",
    "const.fit(total_vaccinations_per_hundred )\n",
    "\n",
    "new_df['total_vaccinations_per_hundred'] = const.transform(total_vaccinations_per_hundred).reshape(1,-1)[0]\n",
    "\n",
    "#---------------------------------------------------------------------------------------------------------------------\n",
    "\n",
    "# people_vaccinated_per_hundred\n",
    "\n",
    "const.fit(people_vaccinated_per_hundred )\n",
    "\n",
    "new_df['people_vaccinated_per_hundred'] = const.transform(people_vaccinated_per_hundred).reshape(1,-1)[0]\n",
    "\n",
    "#---------------------------------------------------------------------------------------------------------------------\n",
    "\n",
    "# people_fully_vaccinated_per_hundred\n",
    "\n",
    "const.fit(people_fully_vaccinated_per_hundred )\n",
    "\n",
    "new_df['people_fully_vaccinated_per_hundred'] = const.transform(people_fully_vaccinated_per_hundred).reshape(1,-1)[0]\n",
    "\n",
    "#---------------------------------------------------------------------------------------------------------------------\n",
    "\n",
    "# daily_vaccinations_per_million\n",
    "\n",
    "const.fit(daily_vaccinations_per_million )\n",
    "\n",
    "new_df['daily_vaccinations_per_million'] = const.transform(daily_vaccinations_per_million).reshape(1,-1)[0]"
   ]
  },
  {
   "cell_type": "code",
   "execution_count": 25,
   "id": "d59cb7a2",
   "metadata": {},
   "outputs": [
    {
     "data": {
      "text/plain": [
       "country                                0\n",
       "iso_code                               0\n",
       "date                                   0\n",
       "total_vaccinations                     0\n",
       "people_vaccinated                      0\n",
       "people_fully_vaccinated                0\n",
       "daily_vaccinations_raw                 0\n",
       "daily_vaccinations                     0\n",
       "total_vaccinations_per_hundred         0\n",
       "people_vaccinated_per_hundred          0\n",
       "people_fully_vaccinated_per_hundred    0\n",
       "daily_vaccinations_per_million         0\n",
       "vaccines                               0\n",
       "source_name                            0\n",
       "source_website                         0\n",
       "dtype: int64"
      ]
     },
     "execution_count": 25,
     "metadata": {},
     "output_type": "execute_result"
    }
   ],
   "source": [
    "# Adding remain columns in new dataframe\n",
    "new_df['vaccines']       = df.vaccines\n",
    "new_df['source_name']    = df.source_name\n",
    "new_df['source_website'] = df.source_website\n",
    "\n",
    "del const\n",
    "#checking null values\n",
    "new_df.isnull().sum()"
   ]
  },
  {
   "cell_type": "markdown",
   "id": "50777bcf",
   "metadata": {},
   "source": [
    "### CASE 3 - Deal null values with some function"
   ]
  },
  {
   "cell_type": "markdown",
   "id": "4af5df6f",
   "metadata": {},
   "source": [
    "#### 1. Replace with mean"
   ]
  },
  {
   "cell_type": "code",
   "execution_count": 26,
   "id": "35d5f4ba",
   "metadata": {},
   "outputs": [],
   "source": [
    "# collecting columns which present some null value \n",
    "mean_total_vaccinations                  = df.total_vaccinations.mean()\n",
    "mean_people_vaccinated                   = df.people_vaccinated.mean()   \n",
    "mean_people_fully_vaccinated             = df.people_fully_vaccinated.mean()  \n",
    "mean_daily_vaccinations_raw              = df.daily_vaccinations_raw.mean()  \n",
    "mean_daily_vaccinations                  = df.daily_vaccinations.mean()   \n",
    "mean_total_vaccinations_per_hundred      = df.total_vaccinations_per_hundred.mean()\n",
    "mean_people_vaccinated_per_hundred       = df.people_vaccinated_per_hundred.mean()\n",
    "mean_people_fully_vaccinated_per_hundred = df.people_fully_vaccinated_per_hundred.mean()\n",
    "mean_daily_vaccinations_per_million      = df.daily_vaccinations_per_million.mean()\n",
    "\n",
    "# Creating new dataframe and adding all column \n",
    "new_df = pd.DataFrame(df.values , columns = df.columns)"
   ]
  },
  {
   "cell_type": "code",
   "execution_count": 27,
   "id": "4c1be211",
   "metadata": {},
   "outputs": [
    {
     "data": {
      "text/plain": [
       "country                                0\n",
       "iso_code                               0\n",
       "date                                   0\n",
       "total_vaccinations                     0\n",
       "people_vaccinated                      0\n",
       "people_fully_vaccinated                0\n",
       "daily_vaccinations_raw                 0\n",
       "daily_vaccinations                     0\n",
       "total_vaccinations_per_hundred         0\n",
       "people_vaccinated_per_hundred          0\n",
       "people_fully_vaccinated_per_hundred    0\n",
       "daily_vaccinations_per_million         0\n",
       "vaccines                               0\n",
       "source_name                            0\n",
       "source_website                         0\n",
       "dtype: int64"
      ]
     },
     "execution_count": 27,
     "metadata": {},
     "output_type": "execute_result"
    }
   ],
   "source": [
    "new_df.total_vaccinations.fillna(mean_total_vaccinations, inplace=True)\n",
    "\n",
    "new_df.people_vaccinated.fillna(mean_people_vaccinated, inplace=True)\n",
    "\n",
    "new_df.people_fully_vaccinated.fillna(mean_people_fully_vaccinated, inplace=True)\n",
    "\n",
    "new_df.daily_vaccinations_raw.fillna(mean_daily_vaccinations_raw, inplace=True)\n",
    "\n",
    "new_df.daily_vaccinations.fillna(mean_daily_vaccinations, inplace=True)\n",
    "\n",
    "new_df.total_vaccinations_per_hundred.fillna(mean_total_vaccinations_per_hundred, inplace=True)\n",
    "\n",
    "new_df.people_vaccinated_per_hundred.fillna(mean_people_vaccinated_per_hundred, inplace=True)\n",
    "\n",
    "new_df.people_fully_vaccinated_per_hundred.fillna(mean_people_fully_vaccinated_per_hundred, inplace=True)\n",
    "\n",
    "new_df.daily_vaccinations_per_million.fillna(mean_daily_vaccinations_per_million, inplace=True)\n",
    "\n",
    "\n",
    "#checking null values\n",
    "new_df.isnull().sum()"
   ]
  },
  {
   "cell_type": "markdown",
   "id": "861d4d20",
   "metadata": {},
   "source": [
    "#### 2. Replace with median"
   ]
  },
  {
   "cell_type": "code",
   "execution_count": 28,
   "id": "0ac26d0d",
   "metadata": {},
   "outputs": [],
   "source": [
    "# collecting columns which present some null value \n",
    "median_total_vaccinations                  = df.total_vaccinations.median()\n",
    "median_people_vaccinated                   = df.people_vaccinated.median()   \n",
    "median_people_fully_vaccinated             = df.people_fully_vaccinated.median()  \n",
    "median_daily_vaccinations_raw              = df.daily_vaccinations_raw.median()  \n",
    "median_daily_vaccinations                  = df.daily_vaccinations.median()   \n",
    "median_total_vaccinations_per_hundred      = df.total_vaccinations_per_hundred.median()\n",
    "median_people_vaccinated_per_hundred       = df.people_vaccinated_per_hundred.median()\n",
    "median_people_fully_vaccinated_per_hundred = df.people_fully_vaccinated_per_hundred.median()\n",
    "median_daily_vaccinations_per_million      = df.daily_vaccinations_per_million.median()\n",
    "\n",
    "# Creating new dataframe and adding all column \n",
    "new_df = pd.DataFrame(df.values , columns = df.columns)"
   ]
  },
  {
   "cell_type": "code",
   "execution_count": 29,
   "id": "35c2cb0a",
   "metadata": {},
   "outputs": [
    {
     "data": {
      "text/plain": [
       "country                                0\n",
       "iso_code                               0\n",
       "date                                   0\n",
       "total_vaccinations                     0\n",
       "people_vaccinated                      0\n",
       "people_fully_vaccinated                0\n",
       "daily_vaccinations_raw                 0\n",
       "daily_vaccinations                     0\n",
       "total_vaccinations_per_hundred         0\n",
       "people_vaccinated_per_hundred          0\n",
       "people_fully_vaccinated_per_hundred    0\n",
       "daily_vaccinations_per_million         0\n",
       "vaccines                               0\n",
       "source_name                            0\n",
       "source_website                         0\n",
       "dtype: int64"
      ]
     },
     "execution_count": 29,
     "metadata": {},
     "output_type": "execute_result"
    }
   ],
   "source": [
    "new_df.total_vaccinations.fillna(median_total_vaccinations, inplace=True)\n",
    "\n",
    "new_df.people_vaccinated.fillna(median_people_vaccinated, inplace=True)\n",
    "\n",
    "new_df.people_fully_vaccinated.fillna(median_people_fully_vaccinated, inplace=True)\n",
    "\n",
    "new_df.daily_vaccinations_raw.fillna(median_daily_vaccinations_raw, inplace=True)\n",
    "\n",
    "new_df.daily_vaccinations.fillna(median_daily_vaccinations, inplace=True)\n",
    "\n",
    "new_df.total_vaccinations_per_hundred.fillna(median_total_vaccinations_per_hundred, inplace=True)\n",
    "\n",
    "new_df.people_vaccinated_per_hundred.fillna(median_people_vaccinated_per_hundred, inplace=True)\n",
    "\n",
    "new_df.people_fully_vaccinated_per_hundred.fillna(median_people_fully_vaccinated_per_hundred, inplace=True)\n",
    "\n",
    "new_df.daily_vaccinations_per_million.fillna(median_daily_vaccinations_per_million, inplace=True)\n",
    "\n",
    "\n",
    "#checking null values\n",
    "new_df.isnull().sum()"
   ]
  },
  {
   "cell_type": "markdown",
   "id": "70687377",
   "metadata": {},
   "source": [
    "#### 3. Replace with mode"
   ]
  },
  {
   "cell_type": "code",
   "execution_count": 30,
   "id": "adc47c7d",
   "metadata": {},
   "outputs": [],
   "source": [
    "# collecting columns which present some null value \n",
    "mode_total_vaccinations                  = df.total_vaccinations.mean()\n",
    "mode_people_vaccinated                   = df.people_vaccinated.mean()   \n",
    "mode_people_fully_vaccinated             = df.people_fully_vaccinated.mean()  \n",
    "mode_daily_vaccinations_raw              = df.daily_vaccinations_raw.mean()  \n",
    "mode_daily_vaccinations                  = df.daily_vaccinations.mean()   \n",
    "mode_total_vaccinations_per_hundred      = df.total_vaccinations_per_hundred.mean()\n",
    "mode_people_vaccinated_per_hundred       = df.people_vaccinated_per_hundred.mean()\n",
    "mode_people_fully_vaccinated_per_hundred = df.people_fully_vaccinated_per_hundred.mean()\n",
    "mode_daily_vaccinations_per_million      = df.daily_vaccinations_per_million.mean()\n",
    "\n",
    "# Creating new dataframe and adding all column \n",
    "new_df = pd.DataFrame(df.values , columns = df.columns)"
   ]
  },
  {
   "cell_type": "code",
   "execution_count": 31,
   "id": "79e3a066",
   "metadata": {},
   "outputs": [
    {
     "data": {
      "text/plain": [
       "country                                0\n",
       "iso_code                               0\n",
       "date                                   0\n",
       "total_vaccinations                     0\n",
       "people_vaccinated                      0\n",
       "people_fully_vaccinated                0\n",
       "daily_vaccinations_raw                 0\n",
       "daily_vaccinations                     0\n",
       "total_vaccinations_per_hundred         0\n",
       "people_vaccinated_per_hundred          0\n",
       "people_fully_vaccinated_per_hundred    0\n",
       "daily_vaccinations_per_million         0\n",
       "vaccines                               0\n",
       "source_name                            0\n",
       "source_website                         0\n",
       "dtype: int64"
      ]
     },
     "execution_count": 31,
     "metadata": {},
     "output_type": "execute_result"
    }
   ],
   "source": [
    "new_df.total_vaccinations.fillna(mode_total_vaccinations, inplace=True)\n",
    "\n",
    "new_df.people_vaccinated.fillna(mode_people_vaccinated, inplace=True)\n",
    "\n",
    "new_df.people_fully_vaccinated.fillna(mode_people_fully_vaccinated, inplace=True)\n",
    "\n",
    "new_df.daily_vaccinations_raw.fillna(mode_daily_vaccinations_raw, inplace=True)\n",
    "\n",
    "new_df.daily_vaccinations.fillna(mode_daily_vaccinations, inplace=True)\n",
    "\n",
    "new_df.total_vaccinations_per_hundred.fillna(mode_total_vaccinations_per_hundred, inplace=True)\n",
    "\n",
    "new_df.people_vaccinated_per_hundred.fillna(mode_people_vaccinated_per_hundred, inplace=True)\n",
    "\n",
    "new_df.people_fully_vaccinated_per_hundred.fillna(mode_people_fully_vaccinated_per_hundred, inplace=True)\n",
    "\n",
    "new_df.daily_vaccinations_per_million.fillna(mode_daily_vaccinations_per_million, inplace=True)\n",
    "\n",
    "\n",
    "#checking null values\n",
    "new_df.isnull().sum()"
   ]
  },
  {
   "cell_type": "markdown",
   "id": "526ac7f5",
   "metadata": {},
   "source": [
    "#### 4. Replace with zero"
   ]
  },
  {
   "cell_type": "code",
   "execution_count": 32,
   "id": "912bea2b",
   "metadata": {},
   "outputs": [],
   "source": [
    "# Creating new dataframe and adding all column \n",
    "new_df = pd.DataFrame(df.values , columns = df.columns)"
   ]
  },
  {
   "cell_type": "code",
   "execution_count": 33,
   "id": "e4690748",
   "metadata": {},
   "outputs": [
    {
     "data": {
      "text/plain": [
       "country                                0\n",
       "iso_code                               0\n",
       "date                                   0\n",
       "total_vaccinations                     0\n",
       "people_vaccinated                      0\n",
       "people_fully_vaccinated                0\n",
       "daily_vaccinations_raw                 0\n",
       "daily_vaccinations                     0\n",
       "total_vaccinations_per_hundred         0\n",
       "people_vaccinated_per_hundred          0\n",
       "people_fully_vaccinated_per_hundred    0\n",
       "daily_vaccinations_per_million         0\n",
       "vaccines                               0\n",
       "source_name                            0\n",
       "source_website                         0\n",
       "dtype: int64"
      ]
     },
     "execution_count": 33,
     "metadata": {},
     "output_type": "execute_result"
    }
   ],
   "source": [
    "new_df.total_vaccinations.fillna(0, inplace=True)\n",
    "\n",
    "new_df.people_vaccinated.fillna(0, inplace=True)\n",
    "\n",
    "new_df.people_fully_vaccinated.fillna(0, inplace=True)\n",
    "\n",
    "new_df.daily_vaccinations_raw.fillna(0, inplace=True)\n",
    "\n",
    "new_df.daily_vaccinations.fillna(0, inplace=True)\n",
    "\n",
    "new_df.total_vaccinations_per_hundred.fillna(0, inplace=True)\n",
    "\n",
    "new_df.people_vaccinated_per_hundred.fillna(0, inplace=True)\n",
    "\n",
    "new_df.people_fully_vaccinated_per_hundred.fillna(0, inplace=True)\n",
    "\n",
    "new_df.daily_vaccinations_per_million.fillna(0, inplace=True)\n",
    "\n",
    "\n",
    "#checking null values\n",
    "new_df.isnull().sum()"
   ]
  },
  {
   "cell_type": "markdown",
   "id": "664bafbf",
   "metadata": {},
   "source": [
    "### CASE 4 - Deal null values from scratch "
   ]
  }
 ],
 "metadata": {
  "kernelspec": {
   "display_name": "Python 3 (ipykernel)",
   "language": "python",
   "name": "python3"
  },
  "language_info": {
   "codemirror_mode": {
    "name": "ipython",
    "version": 3
   },
   "file_extension": ".py",
   "mimetype": "text/x-python",
   "name": "python",
   "nbconvert_exporter": "python",
   "pygments_lexer": "ipython3",
   "version": "3.9.12"
  }
 },
 "nbformat": 4,
 "nbformat_minor": 5
}
