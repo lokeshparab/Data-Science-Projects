{
 "cells": [
  {
   "cell_type": "markdown",
   "id": "91d9d7c9",
   "metadata": {},
   "source": [
    "# 1. COVID Analysis"
   ]
  },
  {
   "cell_type": "markdown",
   "id": "62a99948",
   "metadata": {},
   "source": [
    "## Import libraries"
   ]
  },
  {
   "cell_type": "code",
   "execution_count": 1,
   "id": "b06b9f69",
   "metadata": {},
   "outputs": [],
   "source": [
    "import pandas as pd\n",
    "import numpy as np"
   ]
  },
  {
   "cell_type": "markdown",
   "id": "00492ae6",
   "metadata": {},
   "source": [
    "## Loading dataset"
   ]
  },
  {
   "cell_type": "code",
   "execution_count": 2,
   "id": "d5130ebd",
   "metadata": {},
   "outputs": [
    {
     "data": {
      "text/html": [
       "<div>\n",
       "<style scoped>\n",
       "    .dataframe tbody tr th:only-of-type {\n",
       "        vertical-align: middle;\n",
       "    }\n",
       "\n",
       "    .dataframe tbody tr th {\n",
       "        vertical-align: top;\n",
       "    }\n",
       "\n",
       "    .dataframe thead th {\n",
       "        text-align: right;\n",
       "    }\n",
       "</style>\n",
       "<table border=\"1\" class=\"dataframe\">\n",
       "  <thead>\n",
       "    <tr style=\"text-align: right;\">\n",
       "      <th></th>\n",
       "      <th>country</th>\n",
       "      <th>iso_code</th>\n",
       "      <th>date</th>\n",
       "      <th>total_vaccinations</th>\n",
       "      <th>people_vaccinated</th>\n",
       "      <th>people_fully_vaccinated</th>\n",
       "      <th>daily_vaccinations_raw</th>\n",
       "      <th>daily_vaccinations</th>\n",
       "      <th>total_vaccinations_per_hundred</th>\n",
       "      <th>people_vaccinated_per_hundred</th>\n",
       "      <th>people_fully_vaccinated_per_hundred</th>\n",
       "      <th>daily_vaccinations_per_million</th>\n",
       "      <th>vaccines</th>\n",
       "      <th>source_name</th>\n",
       "      <th>source_website</th>\n",
       "    </tr>\n",
       "  </thead>\n",
       "  <tbody>\n",
       "    <tr>\n",
       "      <th>0</th>\n",
       "      <td>Afghanistan</td>\n",
       "      <td>AFG</td>\n",
       "      <td>2021-02-22</td>\n",
       "      <td>0.0</td>\n",
       "      <td>0.0</td>\n",
       "      <td>NaN</td>\n",
       "      <td>NaN</td>\n",
       "      <td>NaN</td>\n",
       "      <td>0.0</td>\n",
       "      <td>0.0</td>\n",
       "      <td>NaN</td>\n",
       "      <td>NaN</td>\n",
       "      <td>Johnson&amp;Johnson, Oxford/AstraZeneca, Pfizer/Bi...</td>\n",
       "      <td>World Health Organization</td>\n",
       "      <td>https://covid19.who.int/</td>\n",
       "    </tr>\n",
       "    <tr>\n",
       "      <th>1</th>\n",
       "      <td>Afghanistan</td>\n",
       "      <td>AFG</td>\n",
       "      <td>2021-02-23</td>\n",
       "      <td>NaN</td>\n",
       "      <td>NaN</td>\n",
       "      <td>NaN</td>\n",
       "      <td>NaN</td>\n",
       "      <td>1367.0</td>\n",
       "      <td>NaN</td>\n",
       "      <td>NaN</td>\n",
       "      <td>NaN</td>\n",
       "      <td>34.0</td>\n",
       "      <td>Johnson&amp;Johnson, Oxford/AstraZeneca, Pfizer/Bi...</td>\n",
       "      <td>World Health Organization</td>\n",
       "      <td>https://covid19.who.int/</td>\n",
       "    </tr>\n",
       "    <tr>\n",
       "      <th>2</th>\n",
       "      <td>Afghanistan</td>\n",
       "      <td>AFG</td>\n",
       "      <td>2021-02-24</td>\n",
       "      <td>NaN</td>\n",
       "      <td>NaN</td>\n",
       "      <td>NaN</td>\n",
       "      <td>NaN</td>\n",
       "      <td>1367.0</td>\n",
       "      <td>NaN</td>\n",
       "      <td>NaN</td>\n",
       "      <td>NaN</td>\n",
       "      <td>34.0</td>\n",
       "      <td>Johnson&amp;Johnson, Oxford/AstraZeneca, Pfizer/Bi...</td>\n",
       "      <td>World Health Organization</td>\n",
       "      <td>https://covid19.who.int/</td>\n",
       "    </tr>\n",
       "    <tr>\n",
       "      <th>3</th>\n",
       "      <td>Afghanistan</td>\n",
       "      <td>AFG</td>\n",
       "      <td>2021-02-25</td>\n",
       "      <td>NaN</td>\n",
       "      <td>NaN</td>\n",
       "      <td>NaN</td>\n",
       "      <td>NaN</td>\n",
       "      <td>1367.0</td>\n",
       "      <td>NaN</td>\n",
       "      <td>NaN</td>\n",
       "      <td>NaN</td>\n",
       "      <td>34.0</td>\n",
       "      <td>Johnson&amp;Johnson, Oxford/AstraZeneca, Pfizer/Bi...</td>\n",
       "      <td>World Health Organization</td>\n",
       "      <td>https://covid19.who.int/</td>\n",
       "    </tr>\n",
       "    <tr>\n",
       "      <th>4</th>\n",
       "      <td>Afghanistan</td>\n",
       "      <td>AFG</td>\n",
       "      <td>2021-02-26</td>\n",
       "      <td>NaN</td>\n",
       "      <td>NaN</td>\n",
       "      <td>NaN</td>\n",
       "      <td>NaN</td>\n",
       "      <td>1367.0</td>\n",
       "      <td>NaN</td>\n",
       "      <td>NaN</td>\n",
       "      <td>NaN</td>\n",
       "      <td>34.0</td>\n",
       "      <td>Johnson&amp;Johnson, Oxford/AstraZeneca, Pfizer/Bi...</td>\n",
       "      <td>World Health Organization</td>\n",
       "      <td>https://covid19.who.int/</td>\n",
       "    </tr>\n",
       "  </tbody>\n",
       "</table>\n",
       "</div>"
      ],
      "text/plain": [
       "       country iso_code        date  total_vaccinations  people_vaccinated  \\\n",
       "0  Afghanistan      AFG  2021-02-22                 0.0                0.0   \n",
       "1  Afghanistan      AFG  2021-02-23                 NaN                NaN   \n",
       "2  Afghanistan      AFG  2021-02-24                 NaN                NaN   \n",
       "3  Afghanistan      AFG  2021-02-25                 NaN                NaN   \n",
       "4  Afghanistan      AFG  2021-02-26                 NaN                NaN   \n",
       "\n",
       "   people_fully_vaccinated  daily_vaccinations_raw  daily_vaccinations  \\\n",
       "0                      NaN                     NaN                 NaN   \n",
       "1                      NaN                     NaN              1367.0   \n",
       "2                      NaN                     NaN              1367.0   \n",
       "3                      NaN                     NaN              1367.0   \n",
       "4                      NaN                     NaN              1367.0   \n",
       "\n",
       "   total_vaccinations_per_hundred  people_vaccinated_per_hundred  \\\n",
       "0                             0.0                            0.0   \n",
       "1                             NaN                            NaN   \n",
       "2                             NaN                            NaN   \n",
       "3                             NaN                            NaN   \n",
       "4                             NaN                            NaN   \n",
       "\n",
       "   people_fully_vaccinated_per_hundred  daily_vaccinations_per_million  \\\n",
       "0                                  NaN                             NaN   \n",
       "1                                  NaN                            34.0   \n",
       "2                                  NaN                            34.0   \n",
       "3                                  NaN                            34.0   \n",
       "4                                  NaN                            34.0   \n",
       "\n",
       "                                            vaccines  \\\n",
       "0  Johnson&Johnson, Oxford/AstraZeneca, Pfizer/Bi...   \n",
       "1  Johnson&Johnson, Oxford/AstraZeneca, Pfizer/Bi...   \n",
       "2  Johnson&Johnson, Oxford/AstraZeneca, Pfizer/Bi...   \n",
       "3  Johnson&Johnson, Oxford/AstraZeneca, Pfizer/Bi...   \n",
       "4  Johnson&Johnson, Oxford/AstraZeneca, Pfizer/Bi...   \n",
       "\n",
       "                 source_name            source_website  \n",
       "0  World Health Organization  https://covid19.who.int/  \n",
       "1  World Health Organization  https://covid19.who.int/  \n",
       "2  World Health Organization  https://covid19.who.int/  \n",
       "3  World Health Organization  https://covid19.who.int/  \n",
       "4  World Health Organization  https://covid19.who.int/  "
      ]
     },
     "execution_count": 2,
     "metadata": {},
     "output_type": "execute_result"
    }
   ],
   "source": [
    "df = pd.read_csv('country_vaccinations.csv')\n",
    "df.head()"
   ]
  },
  {
   "cell_type": "code",
   "execution_count": 3,
   "id": "3e6905fe",
   "metadata": {},
   "outputs": [
    {
     "name": "stdout",
     "output_type": "stream",
     "text": [
      "<class 'pandas.core.frame.DataFrame'>\n",
      "RangeIndex: 86512 entries, 0 to 86511\n",
      "Data columns (total 15 columns):\n",
      " #   Column                               Non-Null Count  Dtype  \n",
      "---  ------                               --------------  -----  \n",
      " 0   country                              86512 non-null  object \n",
      " 1   iso_code                             86512 non-null  object \n",
      " 2   date                                 86512 non-null  object \n",
      " 3   total_vaccinations                   43607 non-null  float64\n",
      " 4   people_vaccinated                    41294 non-null  float64\n",
      " 5   people_fully_vaccinated              38802 non-null  float64\n",
      " 6   daily_vaccinations_raw               35362 non-null  float64\n",
      " 7   daily_vaccinations                   86213 non-null  float64\n",
      " 8   total_vaccinations_per_hundred       43607 non-null  float64\n",
      " 9   people_vaccinated_per_hundred        41294 non-null  float64\n",
      " 10  people_fully_vaccinated_per_hundred  38802 non-null  float64\n",
      " 11  daily_vaccinations_per_million       86213 non-null  float64\n",
      " 12  vaccines                             86512 non-null  object \n",
      " 13  source_name                          86512 non-null  object \n",
      " 14  source_website                       86512 non-null  object \n",
      "dtypes: float64(9), object(6)\n",
      "memory usage: 9.9+ MB\n"
     ]
    }
   ],
   "source": [
    "df.info()"
   ]
  },
  {
   "cell_type": "markdown",
   "id": "0a0499ec",
   "metadata": {},
   "source": [
    "## Adding Month Column in the dataset from Date Column (Jan-Dec)"
   ]
  },
  {
   "cell_type": "code",
   "execution_count": 5,
   "id": "dc98ae6d",
   "metadata": {},
   "outputs": [],
   "source": [
    "def month(date):\n",
    "    lst = ['Jan','Feb','Mar','Apr','May','Jun','Jul','Aug','Sep','Oct','Nov','Dec']\n",
    "    day = int( date.split('-')[1] )\n",
    "    return lst[day - 1]\n",
    "\n",
    "df['month_name'] = df['date'].apply(month)"
   ]
  },
  {
   "cell_type": "code",
   "execution_count": 7,
   "id": "89fa63cc",
   "metadata": {},
   "outputs": [
    {
     "data": {
      "text/plain": [
       "array(['Feb', 'Mar', 'Apr', 'May', 'Jun', 'Jul', 'Aug', 'Sep', 'Oct',\n",
       "       'Nov', 'Dec', 'Jan'], dtype=object)"
      ]
     },
     "execution_count": 7,
     "metadata": {},
     "output_type": "execute_result"
    }
   ],
   "source": [
    "df['month_name'].unique()"
   ]
  }
 ],
 "metadata": {
  "kernelspec": {
   "display_name": "Python 3 (ipykernel)",
   "language": "python",
   "name": "python3"
  },
  "language_info": {
   "codemirror_mode": {
    "name": "ipython",
    "version": 3
   },
   "file_extension": ".py",
   "mimetype": "text/x-python",
   "name": "python",
   "nbconvert_exporter": "python",
   "pygments_lexer": "ipython3",
   "version": "3.9.12"
  }
 },
 "nbformat": 4,
 "nbformat_minor": 5
}
