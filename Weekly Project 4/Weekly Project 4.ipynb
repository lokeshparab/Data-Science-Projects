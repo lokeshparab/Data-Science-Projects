{
 "cells": [
  {
   "cell_type": "markdown",
   "id": "48ed253a",
   "metadata": {},
   "source": [
    "# A program to encrypt the files with reversing and shifting the text by 3 places"
   ]
  },
  {
   "cell_type": "markdown",
   "id": "87ee457d",
   "metadata": {},
   "source": [
    "## Read File and Write file function"
   ]
  },
  {
   "cell_type": "code",
   "execution_count": 5,
   "id": "f6edc85f",
   "metadata": {},
   "outputs": [],
   "source": [
    "def write_file(path,data):\n",
    "    fd = open(path,'w')\n",
    "    data = fd.write(data)\n",
    "    fd.close()\n",
    "\n",
    "def read_file(path):\n",
    "    try:\n",
    "        fd = open(path,'r')\n",
    "        data = fd.read()\n",
    "        fd.close()\n",
    "        return data\n",
    "    except FileNotFoundError :\n",
    "        print('No such file or directory named',path)\n",
    "        print('Try again ....','-' * 40,sep='\\n')\n",
    "        return False"
   ]
  },
  {
   "cell_type": "markdown",
   "id": "be63371b",
   "metadata": {},
   "source": [
    "## Encryption Function"
   ]
  },
  {
   "cell_type": "code",
   "execution_count": 72,
   "id": "28c51da9",
   "metadata": {},
   "outputs": [],
   "source": [
    "def encryption(file_name):\n",
    "    #path = 'File/'+file_name\n",
    "    path = file_name\n",
    "    data = read_file(path)\n",
    "    \n",
    "    if data:\n",
    "        encrypt_data = None\n",
    "        \n",
    "        for i in data[::-1]:\n",
    "            if i == '\\n': continue\n",
    "            char = chr( ord(i) + 3 )\n",
    "            if encrypt_data == None: \n",
    "                encrypt_data = char\n",
    "            else:\n",
    "                encrypt_data += char\n",
    "        \n",
    "        write_file(path,encrypt_data)\n",
    "        print('Encrypted sucessfully in',file_name)\n",
    "    "
   ]
  },
  {
   "cell_type": "markdown",
   "id": "f4c32021",
   "metadata": {},
   "source": [
    "## Decryption Function"
   ]
  },
  {
   "cell_type": "code",
   "execution_count": 71,
   "id": "b9746743",
   "metadata": {},
   "outputs": [],
   "source": [
    "def decryption(file_name):\n",
    "    path = 'File/'+file_name\n",
    "    path = file_name\n",
    "    data = read_file(path)\n",
    "    \n",
    "    if data:\n",
    "        decrypt_data = None\n",
    "        \n",
    "        for i in data[::-1]:\n",
    "            if i == '\\n': continue\n",
    "            \n",
    "            char = chr( ord(i) - 3 )\n",
    "            if decrypt_data == None: \n",
    "                decrypt_data = char\n",
    "            else:\n",
    "                decrypt_data += char\n",
    "                \n",
    "        write_file(path,decrypt_data)"
   ]
  },
  {
   "cell_type": "code",
   "execution_count": 77,
   "id": "65137b90",
   "metadata": {},
   "outputs": [
    {
     "name": "stdout",
     "output_type": "stream",
     "text": [
      "Encrypted sucessfully in Lokesh-Copy1.txt\n"
     ]
    }
   ],
   "source": [
    "encryption('Lokesh-Copy1.txt')"
   ]
  },
  {
   "cell_type": "code",
   "execution_count": 78,
   "id": "68eba8d7",
   "metadata": {},
   "outputs": [],
   "source": [
    "decryption('Lokesh-Copy1.txt')"
   ]
  },
  {
   "cell_type": "markdown",
   "id": "9aedfd1d",
   "metadata": {},
   "source": [
    "## Extrass"
   ]
  },
  {
   "cell_type": "code",
   "execution_count": 6,
   "id": "c59a5d66",
   "metadata": {},
   "outputs": [],
   "source": [
    "#!mkdir Files"
   ]
  },
  {
   "cell_type": "code",
   "execution_count": 19,
   "id": "6569543b",
   "metadata": {},
   "outputs": [
    {
     "data": {
      "text/plain": [
       "\"\\nimport os\\nfor i in os.listdir():\\n    if i[-4:] == '.txt':\\n        fd1 = open(i,'r')\\n        fd2 = open('Files/' + i[:-10]+i[-4:],'w')\\n        fd2.write(fd1.read())\\n        fd1.close()\\n        fd2.close()\\n\""
      ]
     },
     "execution_count": 19,
     "metadata": {},
     "output_type": "execute_result"
    }
   ],
   "source": [
    "'''\n",
    "import os\n",
    "for i in os.listdir():\n",
    "    if i[-4:] == '.txt':\n",
    "        fd1 = open(i,'r')\n",
    "        fd2 = open('Files/' + i[:-10]+i[-4:],'w')\n",
    "        fd2.write(fd1.read())\n",
    "        fd1.close()\n",
    "        fd2.close()\n",
    "'''"
   ]
  },
  {
   "cell_type": "code",
   "execution_count": 75,
   "id": "5d6f2a22",
   "metadata": {},
   "outputs": [
    {
     "data": {
      "text/plain": [
       "'\\nghwdxgudxj#pd#L\\ngor#vudh|#55#pd#L\\nedudS#kvhnrO#pd#L'"
      ]
     },
     "execution_count": 75,
     "metadata": {},
     "output_type": "execute_result"
    }
   ],
   "source": [
    "data = read_file('untitled.txt')\n",
    "data"
   ]
  },
  {
   "cell_type": "code",
   "execution_count": 79,
   "id": "0d6dbf3c",
   "metadata": {},
   "outputs": [
    {
     "data": {
      "text/plain": [
       "'I am Lokesh ParabI am 22 years oldI am guarduated'"
      ]
     },
     "execution_count": 79,
     "metadata": {},
     "output_type": "execute_result"
    }
   ],
   "source": [
    "data = read_file('Lokesh-Copy1.txt')\n",
    "data"
   ]
  },
  {
   "cell_type": "code",
   "execution_count": 68,
   "id": "0bb5d6da",
   "metadata": {},
   "outputs": [
    {
     "data": {
      "text/plain": [
       "'\\rghwdxgudxj#pd#L\\rgor#vudh|#55#pd#L\\redudS#kvhnrO#pd#L'"
      ]
     },
     "execution_count": 68,
     "metadata": {},
     "output_type": "execute_result"
    }
   ],
   "source": [
    "data = read_file('Lokesh-Copy1.txt')\n",
    "new = None\n",
    "for i in data[::-1]:\n",
    "    char = chr( ord(i) + 3 )\n",
    "    if new == None:\n",
    "        new = char\n",
    "    else: new += char\n",
    "write_file('untitled.txt',new)\n",
    "new"
   ]
  },
  {
   "cell_type": "code",
   "execution_count": 51,
   "id": "05117162",
   "metadata": {},
   "outputs": [
    {
     "data": {
      "text/plain": [
       "'I am Lokesh Parab\\nI am 22 years old\\nI am guarduated\\n'"
      ]
     },
     "execution_count": 51,
     "metadata": {},
     "output_type": "execute_result"
    }
   ],
   "source": [
    "data = new\n",
    "new = None\n",
    "for i in data[::-1]:\n",
    "    char = chr( ord(i) - 3 )\n",
    "    if new == None:\n",
    "        new = char\n",
    "    else: new += char\n",
    "new"
   ]
  },
  {
   "cell_type": "code",
   "execution_count": 70,
   "id": "ba3176ee",
   "metadata": {},
   "outputs": [
    {
     "data": {
      "text/plain": [
       "False"
      ]
     },
     "execution_count": 70,
     "metadata": {},
     "output_type": "execute_result"
    }
   ],
   "source": [
    "data == new"
   ]
  },
  {
   "cell_type": "code",
   "execution_count": null,
   "id": "8ec7d4ac",
   "metadata": {},
   "outputs": [],
   "source": []
  }
 ],
 "metadata": {
  "kernelspec": {
   "display_name": "Python 3 (ipykernel)",
   "language": "python",
   "name": "python3"
  },
  "language_info": {
   "codemirror_mode": {
    "name": "ipython",
    "version": 3
   },
   "file_extension": ".py",
   "mimetype": "text/x-python",
   "name": "python",
   "nbconvert_exporter": "python",
   "pygments_lexer": "ipython3",
   "version": "3.9.12"
  }
 },
 "nbformat": 4,
 "nbformat_minor": 5
}
