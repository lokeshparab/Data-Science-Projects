{
 "cells": [
  {
   "cell_type": "markdown",
   "id": "48ed253a",
   "metadata": {},
   "source": [
    "# A program to encrypt the files with reversing and shifting the text by 3 places"
   ]
  },
  {
   "cell_type": "markdown",
   "id": "87ee457d",
   "metadata": {},
   "source": [
    "## Read File and Write file function"
   ]
  },
  {
   "cell_type": "code",
   "execution_count": 29,
   "id": "f6edc85f",
   "metadata": {},
   "outputs": [],
   "source": [
    "def write_file(path,data):\n",
    "    fd = open(path,'w',encoding='utf-8')\n",
    "    fd.write(data)\n",
    "    fd.close()\n",
    "\n",
    "def read_file(path):\n",
    "    try:\n",
    "        fd = open(path,'r',encoding='utf-8')\n",
    "        data = fd.read()\n",
    "        fd.close()\n",
    "        return data\n",
    "    except FileNotFoundError :\n",
    "        print('No such file or directory named',path)\n",
    "        print('Try again ....','-' * 40,sep='\\n')\n",
    "        return False"
   ]
  },
  {
   "cell_type": "markdown",
   "id": "be63371b",
   "metadata": {},
   "source": [
    "## Encryption Function"
   ]
  },
  {
   "cell_type": "code",
   "execution_count": 32,
   "id": "28c51da9",
   "metadata": {},
   "outputs": [],
   "source": [
    "def encryption(file_name):\n",
    "    import os \n",
    "    path = 'File/'+file_name\n",
    "    #path = file_name\n",
    "    data = read_file(path)\n",
    "    \n",
    "    if data:\n",
    "        encrypt_data = ''\n",
    "        \n",
    "        for i in data[::-1]:\n",
    "            if i == '\\n' or i=='\\r' : encrypt_data += i\n",
    "            else:\n",
    "                char = chr( ord(i) + 3 )\n",
    "                encrypt_data += char\n",
    "                \n",
    "        print(encrypt_data)\n",
    "        \n",
    "        write_file(path,encrypt_data)\n",
    "        \n",
    "        os.rename(path,path[:-4]+'-encrypted.txt') \n",
    "        print('Encrypted data sucessfully in',file_name)\n",
    "    "
   ]
  },
  {
   "cell_type": "markdown",
   "id": "f4c32021",
   "metadata": {},
   "source": [
    "## Decryption Function"
   ]
  },
  {
   "cell_type": "code",
   "execution_count": 33,
   "id": "b9746743",
   "metadata": {},
   "outputs": [],
   "source": [
    "def decryption(file_name):\n",
    "    import os\n",
    "    path = 'File/'+file_name\n",
    "    #path = file_name\n",
    "    data = read_file(path)\n",
    "    \n",
    "    if data:\n",
    "        decrypt_data = ''\n",
    "        \n",
    "        for i in data[::-1]:\n",
    "            if i == '\\n' or i='\\r': decrypt_data += i\n",
    "            else:\n",
    "                char = chr( ord(i) - 3 )\n",
    "                decrypt_data += char\n",
    "                \n",
    "        write_file(path,decrypt_data)\n",
    "        print('Decrypted data sucessfully in',file_name)"
   ]
  },
  {
   "cell_type": "code",
   "execution_count": 35,
   "id": "65137b90",
   "metadata": {},
   "outputs": [
    {
     "name": "stdout",
     "output_type": "stream",
     "text": [
      "\r",
      "ghwdxgudxj#pd#L\r",
      "gor#vudh|#55#pd#L\r",
      "edudS#kvhnrO#pd#L\n",
      "Encrypted data sucessfully in Lokesh-Copy1.txt\n"
     ]
    }
   ],
   "source": [
    "#encryption('Lokesh-Copy1.txt')"
   ]
  },
  {
   "cell_type": "code",
   "execution_count": 37,
   "id": "68eba8d7",
   "metadata": {},
   "outputs": [
    {
     "name": "stdout",
     "output_type": "stream",
     "text": [
      "Decrypted data sucessfully in Lokesh-Copy1.txt\n"
     ]
    }
   ],
   "source": [
    "#decryption('Lokesh-Copy1.txt')"
   ]
  },
  {
   "cell_type": "markdown",
   "id": "a41d8649",
   "metadata": {},
   "source": [
    "## Print Available files"
   ]
  },
  {
   "cell_type": "code",
   "execution_count": 79,
   "id": "75f3cee4",
   "metadata": {},
   "outputs": [],
   "source": [
    "def file_names():\n",
    "    import os\n",
    "    print('Available Files','-' * 40,sep='\\n')\n",
    "    for i in os.listdir('Files'):\n",
    "        if i[-4:] == '.txt':\n",
    "            print(i[:-4])\n",
    "    print('-' * 40 )"
   ]
  },
  {
   "cell_type": "code",
   "execution_count": 80,
   "id": "cf238415",
   "metadata": {},
   "outputs": [
    {
     "name": "stdout",
     "output_type": "stream",
     "text": [
      "Available Files\n",
      "----------------------------------------\n",
      "Lokesh\n",
      "Pratik\n",
      "Suyash\n",
      "----------------------------------------\n"
     ]
    }
   ],
   "source": [
    "file_names()"
   ]
  },
  {
   "cell_type": "markdown",
   "id": "5c927e5a",
   "metadata": {},
   "source": [
    "## Choice Function"
   ]
  },
  {
   "cell_type": "code",
   "execution_count": null,
   "id": "2c10c0e1",
   "metadata": {},
   "outputs": [],
   "source": [
    "def choices():\n",
    "    choice = input('Enter your choice number: ')\n",
    "    try:\n",
    "        choice = int(choice)\n",
    "        if 0 < choice < 4:\n",
    "            return choice\n",
    "        else :\n",
    "            print('Enter valid number try again ....')\n",
    "            print('-'*40)\n",
    "            return False\n",
    "    except:\n",
    "        print('Invalid input try again ....')\n",
    "        print('-'*40)\n",
    "        return False"
   ]
  },
  {
   "cell_type": "markdown",
   "id": "b1c358d4",
   "metadata": {},
   "source": [
    "## Main Program"
   ]
  },
  {
   "cell_type": "code",
   "execution_count": 86,
   "id": "52abb0b6",
   "metadata": {},
   "outputs": [
    {
     "name": "stdout",
     "output_type": "stream",
     "text": [
      "********** Encrpyt and Decrypt **********\n",
      "1.Encrption\n",
      "2.Decryption\n",
      "3.Exit\n",
      "----------------------------------------\n"
     ]
    }
   ],
   "source": [
    "if __name__ == '__main__':\n",
    "    while True:\n",
    "        print('*'*9,'Encrpyt and Decrypt','*'*9)\n",
    "        print('1.Encrption')\n",
    "        print('2.Decryption')\n",
    "        print('3.Exit')\n",
    "        print('-'*40)\n",
    "        # getting output from choice function\n",
    "        choice = choices()  \n",
    "        \n",
    "        # if choice== False then divert back again\n",
    "        if not choice: continue\n",
    "        print('*'*40)\n",
    "        # exit while loop function\n",
    "        if choice == 3: break\n",
    "        # print available file name function\n",
    "        file_names()\n",
    "        \n",
    "        # For Encryption\n",
    "        if choice == 1:\n",
    "            "
   ]
  },
  {
   "cell_type": "markdown",
   "id": "9aedfd1d",
   "metadata": {},
   "source": [
    "## Extrass"
   ]
  },
  {
   "cell_type": "code",
   "execution_count": 6,
   "id": "c59a5d66",
   "metadata": {},
   "outputs": [],
   "source": [
    "#!mkdir Files"
   ]
  },
  {
   "cell_type": "code",
   "execution_count": 19,
   "id": "6569543b",
   "metadata": {},
   "outputs": [
    {
     "data": {
      "text/plain": [
       "\"\\nimport os\\nfor i in os.listdir():\\n    if i[-4:] == '.txt':\\n        fd1 = open(i,'r')\\n        fd2 = open('Files/' + i[:-10]+i[-4:],'w')\\n        fd2.write(fd1.read())\\n        fd1.close()\\n        fd2.close()\\n\""
      ]
     },
     "execution_count": 19,
     "metadata": {},
     "output_type": "execute_result"
    }
   ],
   "source": [
    "'''\n",
    "import os\n",
    "for i in os.listdir():\n",
    "    if i[-4:] == '.txt':\n",
    "        fd1 = open(i,'r')\n",
    "        fd2 = open('Files/' + i[:-10]+i[-4:],'w')\n",
    "        fd2.write(fd1.read())\n",
    "        fd1.close()\n",
    "        fd2.close()\n",
    "'''"
   ]
  }
 ],
 "metadata": {
  "kernelspec": {
   "display_name": "Python 3 (ipykernel)",
   "language": "python",
   "name": "python3"
  },
  "language_info": {
   "codemirror_mode": {
    "name": "ipython",
    "version": 3
   },
   "file_extension": ".py",
   "mimetype": "text/x-python",
   "name": "python",
   "nbconvert_exporter": "python",
   "pygments_lexer": "ipython3",
   "version": "3.9.12"
  }
 },
 "nbformat": 4,
 "nbformat_minor": 5
}
