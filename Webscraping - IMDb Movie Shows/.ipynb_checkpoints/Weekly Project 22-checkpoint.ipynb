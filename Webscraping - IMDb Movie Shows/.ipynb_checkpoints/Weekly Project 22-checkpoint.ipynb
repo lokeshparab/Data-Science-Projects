{
 "cells": [
  {
   "cell_type": "markdown",
   "id": "bc480765",
   "metadata": {},
   "source": [
    "# Import Library"
   ]
  },
  {
   "cell_type": "code",
   "execution_count": 1,
   "id": "5506f8fa",
   "metadata": {},
   "outputs": [],
   "source": [
    "import numpy    as np # linear algebra\n",
    "import pandas   as pd # data processing, CSV file I/O (e.g. pd.read_csv)\n",
    "import requests as rq\n",
    "from selenium import webdriver as wb\n",
    "from bs4  import BeautifulSoup as BS\n",
    "from tqdm import tqdm\n",
    "import multiprocessing"
   ]
  },
  {
   "cell_type": "markdown",
   "id": "9c49ac61",
   "metadata": {},
   "source": [
    "# Loading Dataset"
   ]
  },
  {
   "cell_type": "code",
   "execution_count": 2,
   "id": "ea091b12",
   "metadata": {},
   "outputs": [
    {
     "data": {
      "text/html": [
       "<div>\n",
       "<style scoped>\n",
       "    .dataframe tbody tr th:only-of-type {\n",
       "        vertical-align: middle;\n",
       "    }\n",
       "\n",
       "    .dataframe tbody tr th {\n",
       "        vertical-align: top;\n",
       "    }\n",
       "\n",
       "    .dataframe thead th {\n",
       "        text-align: right;\n",
       "    }\n",
       "</style>\n",
       "<table border=\"1\" class=\"dataframe\">\n",
       "  <thead>\n",
       "    <tr style=\"text-align: right;\">\n",
       "      <th></th>\n",
       "      <th>id</th>\n",
       "      <th>name</th>\n",
       "      <th>year</th>\n",
       "      <th>certificate</th>\n",
       "      <th>runtime</th>\n",
       "      <th>genre</th>\n",
       "      <th>ratings</th>\n",
       "    </tr>\n",
       "  </thead>\n",
       "  <tbody>\n",
       "    <tr>\n",
       "      <th>0</th>\n",
       "      <td>tt3581920</td>\n",
       "      <td>The Last of Us</td>\n",
       "      <td>(2023– )</td>\n",
       "      <td>TV-MA</td>\n",
       "      <td>50 min</td>\n",
       "      <td>\\nAction, Adventure, Drama</td>\n",
       "      <td>9.3</td>\n",
       "    </tr>\n",
       "    <tr>\n",
       "      <th>1</th>\n",
       "      <td>tt14153790</td>\n",
       "      <td>Velma</td>\n",
       "      <td>(2023– )</td>\n",
       "      <td>TV-MA</td>\n",
       "      <td>NaN</td>\n",
       "      <td>\\nAnimation, Adventure, Comedy</td>\n",
       "      <td>1.3</td>\n",
       "    </tr>\n",
       "    <tr>\n",
       "      <th>2</th>\n",
       "      <td>tt15591076</td>\n",
       "      <td>That '90s Show</td>\n",
       "      <td>(2023– )</td>\n",
       "      <td>TV-14</td>\n",
       "      <td>30 min</td>\n",
       "      <td>\\nComedy, Drama, Romance</td>\n",
       "      <td>6.5</td>\n",
       "    </tr>\n",
       "    <tr>\n",
       "      <th>3</th>\n",
       "      <td>tt13406094</td>\n",
       "      <td>The White Lotus</td>\n",
       "      <td>(2021–2023)</td>\n",
       "      <td>TV-MA</td>\n",
       "      <td>60 min</td>\n",
       "      <td>\\nComedy, Drama</td>\n",
       "      <td>7.9</td>\n",
       "    </tr>\n",
       "    <tr>\n",
       "      <th>4</th>\n",
       "      <td>tt4236770</td>\n",
       "      <td>Yellowstone</td>\n",
       "      <td>(2018– )</td>\n",
       "      <td>TV-MA</td>\n",
       "      <td>60 min</td>\n",
       "      <td>\\nDrama, Western</td>\n",
       "      <td>8.7</td>\n",
       "    </tr>\n",
       "  </tbody>\n",
       "</table>\n",
       "</div>"
      ],
      "text/plain": [
       "           id             name         year certificate runtime  \\\n",
       "0   tt3581920   The Last of Us     (2023– )       TV-MA  50 min   \n",
       "1  tt14153790            Velma     (2023– )       TV-MA     NaN   \n",
       "2  tt15591076   That '90s Show     (2023– )       TV-14  30 min   \n",
       "3  tt13406094  The White Lotus  (2021–2023)       TV-MA  60 min   \n",
       "4   tt4236770      Yellowstone     (2018– )       TV-MA  60 min   \n",
       "\n",
       "                                        genre  ratings  \n",
       "0      \\nAction, Adventure, Drama                  9.3  \n",
       "1  \\nAnimation, Adventure, Comedy                  1.3  \n",
       "2        \\nComedy, Drama, Romance                  6.5  \n",
       "3                 \\nComedy, Drama                  7.9  \n",
       "4                \\nDrama, Western                  8.7  "
      ]
     },
     "execution_count": 2,
     "metadata": {},
     "output_type": "execute_result"
    }
   ],
   "source": [
    "shows = pd.read_csv('Shows.csv')\n",
    "del shows['Unnamed: 0']\n",
    "shows.head()"
   ]
  },
  {
   "cell_type": "code",
   "execution_count": 3,
   "id": "7d76c7b3",
   "metadata": {},
   "outputs": [
    {
     "name": "stdout",
     "output_type": "stream",
     "text": [
      "<class 'pandas.core.frame.DataFrame'>\n",
      "RangeIndex: 235450 entries, 0 to 235449\n",
      "Data columns (total 7 columns):\n",
      " #   Column       Non-Null Count   Dtype  \n",
      "---  ------       --------------   -----  \n",
      " 0   id           235450 non-null  object \n",
      " 1   name         235450 non-null  object \n",
      " 2   year         235450 non-null  object \n",
      " 3   certificate  235450 non-null  object \n",
      " 4   runtime      209551 non-null  object \n",
      " 5   genre        235450 non-null  object \n",
      " 6   ratings      235450 non-null  float64\n",
      "dtypes: float64(1), object(6)\n",
      "memory usage: 12.6+ MB\n"
     ]
    }
   ],
   "source": [
    "shows.info()"
   ]
  },
  {
   "cell_type": "markdown",
   "id": "3e873ea1",
   "metadata": {},
   "source": [
    "# Preprocessing"
   ]
  },
  {
   "cell_type": "code",
   "execution_count": 4,
   "id": "0e0ae0a8",
   "metadata": {},
   "outputs": [],
   "source": [
    "def runtime(data):\n",
    "    if type(data) == str:\n",
    "        return int(data.split()[0])\n",
    "    else: return data"
   ]
  },
  {
   "cell_type": "code",
   "execution_count": 5,
   "id": "0603d5bf",
   "metadata": {},
   "outputs": [],
   "source": [
    "def year(data):\n",
    "    if type(data) == str:\n",
    "        if 'II' in data :return data[6:-1]\n",
    "        else: return data[1:-1]\n",
    "    else:\n",
    "        return data"
   ]
  },
  {
   "cell_type": "code",
   "execution_count": 6,
   "id": "f2258a1f",
   "metadata": {},
   "outputs": [],
   "source": [
    "shows['year'   ] = shows['year'   ].apply( year                )\n",
    "shows['runtime'] = shows['runtime'].apply( runtime             )\n",
    "shows['genre'  ] = shows['genre'  ].apply( lambda x: x.strip() )"
   ]
  },
  {
   "cell_type": "code",
   "execution_count": 7,
   "id": "c12541ed",
   "metadata": {},
   "outputs": [
    {
     "data": {
      "text/html": [
       "<div>\n",
       "<style scoped>\n",
       "    .dataframe tbody tr th:only-of-type {\n",
       "        vertical-align: middle;\n",
       "    }\n",
       "\n",
       "    .dataframe tbody tr th {\n",
       "        vertical-align: top;\n",
       "    }\n",
       "\n",
       "    .dataframe thead th {\n",
       "        text-align: right;\n",
       "    }\n",
       "</style>\n",
       "<table border=\"1\" class=\"dataframe\">\n",
       "  <thead>\n",
       "    <tr style=\"text-align: right;\">\n",
       "      <th></th>\n",
       "      <th>id</th>\n",
       "      <th>name</th>\n",
       "      <th>year</th>\n",
       "      <th>certificate</th>\n",
       "      <th>runtime</th>\n",
       "      <th>genre</th>\n",
       "      <th>ratings</th>\n",
       "    </tr>\n",
       "  </thead>\n",
       "  <tbody>\n",
       "    <tr>\n",
       "      <th>0</th>\n",
       "      <td>tt3581920</td>\n",
       "      <td>The Last of Us</td>\n",
       "      <td>2023–</td>\n",
       "      <td>TV-MA</td>\n",
       "      <td>50.0</td>\n",
       "      <td>Action, Adventure, Drama</td>\n",
       "      <td>9.3</td>\n",
       "    </tr>\n",
       "    <tr>\n",
       "      <th>1</th>\n",
       "      <td>tt14153790</td>\n",
       "      <td>Velma</td>\n",
       "      <td>2023–</td>\n",
       "      <td>TV-MA</td>\n",
       "      <td>NaN</td>\n",
       "      <td>Animation, Adventure, Comedy</td>\n",
       "      <td>1.3</td>\n",
       "    </tr>\n",
       "    <tr>\n",
       "      <th>2</th>\n",
       "      <td>tt15591076</td>\n",
       "      <td>That '90s Show</td>\n",
       "      <td>2023–</td>\n",
       "      <td>TV-14</td>\n",
       "      <td>30.0</td>\n",
       "      <td>Comedy, Drama, Romance</td>\n",
       "      <td>6.5</td>\n",
       "    </tr>\n",
       "    <tr>\n",
       "      <th>3</th>\n",
       "      <td>tt13406094</td>\n",
       "      <td>The White Lotus</td>\n",
       "      <td>2021–2023</td>\n",
       "      <td>TV-MA</td>\n",
       "      <td>60.0</td>\n",
       "      <td>Comedy, Drama</td>\n",
       "      <td>7.9</td>\n",
       "    </tr>\n",
       "    <tr>\n",
       "      <th>4</th>\n",
       "      <td>tt4236770</td>\n",
       "      <td>Yellowstone</td>\n",
       "      <td>2018–</td>\n",
       "      <td>TV-MA</td>\n",
       "      <td>60.0</td>\n",
       "      <td>Drama, Western</td>\n",
       "      <td>8.7</td>\n",
       "    </tr>\n",
       "  </tbody>\n",
       "</table>\n",
       "</div>"
      ],
      "text/plain": [
       "           id             name       year certificate  runtime  \\\n",
       "0   tt3581920   The Last of Us     2023–        TV-MA     50.0   \n",
       "1  tt14153790            Velma     2023–        TV-MA      NaN   \n",
       "2  tt15591076   That '90s Show     2023–        TV-14     30.0   \n",
       "3  tt13406094  The White Lotus  2021–2023       TV-MA     60.0   \n",
       "4   tt4236770      Yellowstone     2018–        TV-MA     60.0   \n",
       "\n",
       "                          genre  ratings  \n",
       "0      Action, Adventure, Drama      9.3  \n",
       "1  Animation, Adventure, Comedy      1.3  \n",
       "2        Comedy, Drama, Romance      6.5  \n",
       "3                 Comedy, Drama      7.9  \n",
       "4                Drama, Western      8.7  "
      ]
     },
     "execution_count": 7,
     "metadata": {},
     "output_type": "execute_result"
    }
   ],
   "source": [
    "shows.head()"
   ]
  },
  {
   "cell_type": "markdown",
   "id": "30235912",
   "metadata": {},
   "source": [
    "# IMDb Web-Scraping Indiviual"
   ]
  },
  {
   "cell_type": "markdown",
   "id": "f36cc722",
   "metadata": {},
   "source": [
    "## Create function"
   ]
  },
  {
   "cell_type": "code",
   "execution_count": 8,
   "id": "607656b0",
   "metadata": {},
   "outputs": [],
   "source": [
    "def bs_content_driver(link,driver):\n",
    "    driver.get(link)\n",
    "    return BS(driver.page_source,'html.parser')\n",
    "\n",
    "def bs_content(link):\n",
    "    res = rq.get(link)\n",
    "    \n",
    "    if res.ok:\n",
    "        return BS(res.content, 'html.parser')\n",
    "    else: return False"
   ]
  },
  {
   "cell_type": "code",
   "execution_count": 9,
   "id": "4d9d40cf",
   "metadata": {},
   "outputs": [],
   "source": [
    "def moviescrap(start,end,file_name):\n",
    "    columns = ['show_id','director_ids','directors', 'writer_ids', 'writers', 'cast_ids', 'casts','characters']\n",
    "    data    = { k : [] for k in columns }\n",
    "#     driver  = wb.Chrome('webdrive/chromedriver.exe')\n",
    "\n",
    "    for id_ in tqdm(shows.loc[start:end,'id']):\n",
    "\n",
    "        link = 'https://www.imdb.com/title/' + id_ + '/fullcredits/'\n",
    "\n",
    "#         content = bs_content_driver(link,driver)\n",
    "        content = bs_content(link)\n",
    "        if not content: continue\n",
    "\n",
    "        cast_list       = content.find('table', class_ = 'cast_list')\n",
    "        director_writer = content.find_all('table', class_ ='simpleTable simpleCreditsTable')[:2]\n",
    "\n",
    "        directors       = director_writer[0].find_all('a')\n",
    "        writers         = director_writer[1].find_all('a')\n",
    "\n",
    "        cast_names      = cast_list.find_all('td', class_ = 'primary_photo')\n",
    "        char_names      = cast_list.find_all('td', class_ = 'character')\n",
    "\n",
    "        dir_id          = [ i.get('href')[1:-1].split('/')[-1] for i in directors  ]\n",
    "        dir_name        = [ i.text.strip()                     for i in directors  ]\n",
    "\n",
    "        writer_id       = [ i.get('href')[1:-1].split('/')[-1] for i in writers    ]\n",
    "        writer_name     = [ i.text.strip()                     for i in writers    ]\n",
    "\n",
    "        cast_names      = [ i.find('a')                        for i in cast_names ]\n",
    "\n",
    "        cast_id         = [ i.get('href')[1:-1].split('/')[-1] for i in cast_names ]\n",
    "        cast_names      = [ i.find('img').get('alt')           for i in cast_names ]\n",
    "\n",
    "        char_names      = [ i.find('a').text                   for i in char_names ]\n",
    "\n",
    "\n",
    "        dir_id          = ','.join(dir_id)\n",
    "        dir_name        = ','.join(dir_name)\n",
    "        writer_id       = ','.join(writer_id)\n",
    "        writer_name     = ','.join(writer_name)\n",
    "        cast_id         = ','.join(cast_id)\n",
    "        cast_names      = ','.join(cast_names)\n",
    "        char_names      = ','.join(char_names)\n",
    "\n",
    "        data['show_id'     ].append(id_)\n",
    "        data['director_ids'].append(dir_id)\n",
    "        data['directors'   ].append(dir_name)\n",
    "        data['writer_ids'  ].append(writer_id)\n",
    "        data['writers'     ].append(writer_name)\n",
    "        data['cast_ids'    ].append(cast_id)\n",
    "        data['casts'       ].append(cast_names)\n",
    "        data['characters'  ].append(char_names)\n",
    "        \n",
    "    data = pd.DataFrame(data)\n",
    "    data.to_csv(f\"{file_name}.csv\", index = False)"
   ]
  },
  {
   "cell_type": "code",
   "execution_count": 10,
   "id": "d58a36c1",
   "metadata": {},
   "outputs": [],
   "source": [
    "#moviescrap(0,235450,\"test.csv\")"
   ]
  },
  {
   "cell_type": "markdown",
   "id": "00659dc6",
   "metadata": {},
   "source": [
    "## Create Pipeline"
   ]
  },
  {
   "cell_type": "code",
   "execution_count": 11,
   "id": "8c1d74c8",
   "metadata": {},
   "outputs": [],
   "source": [
    "p1 = multiprocessing.Process(target = moviescrap, args =(0, 4709, 'show_1.csv'))\n",
    "p2 = multiprocessing.Process(target = moviescrap, args =(4709, 9418, 'show_2.csv'))\n",
    "p3 = multiprocessing.Process(target = moviescrap, args =(9418, 14127, 'show_3.csv'))\n",
    "p4 = multiprocessing.Process(target = moviescrap, args =(14127, 18836, 'show_4.csv'))\n",
    "p5 = multiprocessing.Process(target = moviescrap, args =(18836, 23545, 'show_5.csv'))\n",
    "p6 = multiprocessing.Process(target = moviescrap, args =(23545, 28254, 'show_6.csv'))\n",
    "p7 = multiprocessing.Process(target = moviescrap, args =(28254, 32963, 'show_7.csv'))\n",
    "p8 = multiprocessing.Process(target = moviescrap, args =(32963, 37672, 'show_8.csv'))\n",
    "p9 = multiprocessing.Process(target = moviescrap, args =(37672, 42381, 'show_9.csv'))\n",
    "p10 = multiprocessing.Process(target = moviescrap, args =(42381, 47090, 'show_10.csv'))"
   ]
  },
  {
   "cell_type": "code",
   "execution_count": 12,
   "id": "203a79f0",
   "metadata": {},
   "outputs": [],
   "source": [
    "p1.start()\n",
    "p2.start()\n",
    "p3.start()\n",
    "p4.start()\n",
    "p5.start()\n",
    "p6.start()\n",
    "p7.start()\n",
    "p8.start()\n",
    "p9.start()\n",
    "p10.start()\n",
    "\n",
    "\n",
    "p1.join()\n",
    "p2.join()\n",
    "p3.join()\n",
    "p4.join()\n",
    "p5.join()\n",
    "p6.join()\n",
    "p7.join()\n",
    "p8.join()\n",
    "p9.join()\n",
    "p10.join()"
   ]
  }
 ],
 "metadata": {
  "kernelspec": {
   "display_name": "Python 3 (ipykernel)",
   "language": "python",
   "name": "python3"
  },
  "language_info": {
   "codemirror_mode": {
    "name": "ipython",
    "version": 3
   },
   "file_extension": ".py",
   "mimetype": "text/x-python",
   "name": "python",
   "nbconvert_exporter": "python",
   "pygments_lexer": "ipython3",
   "version": "3.9.12"
  }
 },
 "nbformat": 4,
 "nbformat_minor": 5
}
