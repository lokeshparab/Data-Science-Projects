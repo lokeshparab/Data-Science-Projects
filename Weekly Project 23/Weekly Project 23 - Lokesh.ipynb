{
 "cells": [
  {
   "cell_type": "markdown",
   "id": "12bd5529",
   "metadata": {},
   "source": [
    "# Import Libraries"
   ]
  },
  {
   "cell_type": "code",
   "execution_count": 5,
   "id": "b4b22827",
   "metadata": {},
   "outputs": [
    {
     "name": "stderr",
     "output_type": "stream",
     "text": [
      "C:\\Users\\ASUS\\AppData\\Local\\Temp\\ipykernel_21276\\1995831923.py:8: DeprecationWarning: executable_path has been deprecated, please pass in a Service object\n",
      "  driver = wb.Chrome('webdrive/chromedriver.exe')\n"
     ]
    }
   ],
   "source": [
    "import pandas as pd\n",
    "import numpy as np\n",
    "\n",
    "from bs4       import BeautifulSoup as BS\n",
    "from selenium import webdriver     as wb\n",
    "from tqdm     import tqdm\n",
    "\n",
    "driver = wb.Chrome('webdrive/chromedriver.exe')"
   ]
  },
  {
   "cell_type": "code",
   "execution_count": 40,
   "id": "9e9b58e2",
   "metadata": {},
   "outputs": [],
   "source": [
    "link  = \"https://www.facebook.com/lokesh.parab.17\"\n",
    "#link  = \"https://www.facebook.com/lokesh.parab.96\"\n",
    "driver.get(link)"
   ]
  },
  {
   "cell_type": "code",
   "execution_count": 41,
   "id": "c883af68",
   "metadata": {},
   "outputs": [],
   "source": [
    "soup =  BS(driver.page_source,'html.parser')"
   ]
  },
  {
   "cell_type": "code",
   "execution_count": 42,
   "id": "6a15d6ff",
   "metadata": {},
   "outputs": [
    {
     "name": "stdout",
     "output_type": "stream",
     "text": [
      "https://scontent.fbom65-1.fna.fbcdn.net/v/t31.18172-8/26063685_1995201454051751_1652105618303595809_o.jpg?stp=dst-jpg_p720x720&_nc_cat=105&ccb=1-7&_nc_sid=e3f864&_nc_ohc=c6XuzOkiknQAX-Lg01g&_nc_ht=scontent.fbom65-1.fna&oh=00_AfBaZNeHBzmBgrVqsSzvpX2SZHTAYH03GXEj6NM9tfWahw&oe=6422B555\n",
      "https://scontent.fbom3-2.fna.fbcdn.net/v/t1.6435-1/76904039_2460197704218788_36193027978428416_n.jpg?stp=dst-jpg_s320x320&_nc_cat=103&ccb=1-7&_nc_sid=7206a8&_nc_ohc=ereyeovAYfgAX9w-3iN&_nc_ht=scontent.fbom3-2.fna&oh=00_AfBo7ORDo7-Pn96FNe-RNSo7fbXLPwGOBIbkNEWLvefMCQ&oe=64229483\n",
      "Lokesh Parab (Loki)\n",
      "['Works at Facebook', 'No schools/universities to show', 'Went to Ulhas Vidyalaya']\n"
     ]
    }
   ],
   "source": [
    "cover_image   = soup.find_all('img', class_ = \"x1ey2m1c x9f619 xds687c x5yr21d x10l6tqk x17qophe x13vifvy xh8yej3\")[1].get('src')\n",
    "profile_image = soup.find('image').get('xlink:href')\n",
    "name  = soup.find('h1',class_ = 'x1heor9g x1qlqyl8 x1pd3egz x1a2a7pz').text\n",
    "\n",
    "about = soup.find('div', class_ = 'xyamay9 xqmdsaz x1gan7if x1swvt13')\n",
    "data  = [ i.text for i in about.find_all('span')[1::2] ]\n",
    "print(cover_image)\n",
    "print(profile_image)\n",
    "print(name)\n",
    "print(data)"
   ]
  },
  {
   "cell_type": "code",
   "execution_count": 38,
   "id": "c0f60266",
   "metadata": {},
   "outputs": [
    {
     "data": {
      "text/plain": [
       "[<span class=\"x193iq5w xeuugli x13faqbe x1vvkbs x1xmvt09 x1lliihq x1s928wv xhkezso x1gmr53x x1cpjm7i x1fgarty x1943h6x xudqn12 x3x7a5m x6prxxf xvq8zen xk50ysn xi81zsa\" dir=\"auto\">No workplaces to show</span>,\n",
       " <span class=\"x193iq5w xeuugli x13faqbe x1vvkbs x1xmvt09 x1lliihq x1s928wv xhkezso x1gmr53x x1cpjm7i x1fgarty x1943h6x xudqn12 x3x7a5m x6prxxf xvq8zen xk50ysn xi81zsa\" dir=\"auto\">No schools/universities to show</span>,\n",
       " <span class=\"x193iq5w xeuugli x13faqbe x1vvkbs x1xmvt09 x1lliihq x1s928wv xhkezso x1gmr53x x1cpjm7i x1fgarty x1943h6x xudqn12 x3x7a5m x6prxxf xvq8zen xk50ysn xi81zsa\" dir=\"auto\">No schools/universities to show</span>]"
      ]
     },
     "execution_count": 38,
     "metadata": {},
     "output_type": "execute_result"
    }
   ],
   "source": []
  },
  {
   "cell_type": "code",
   "execution_count": null,
   "id": "73f4bace",
   "metadata": {},
   "outputs": [],
   "source": [
    "https://scontent.fbom65-1.fna.fbcdn.net/v/t39.30808-6/300061608_1493197611151768_8566865820836146011_n.jpg?stp=dst-jpg_s960x960&amp;_nc_cat=107&amp;ccb=1-7&amp;_nc_sid=e3f864&amp;_nc_ohc=CLg9MnZjNvAAX-nlatC&amp;_nc_oc=AQnde63gxNDiNN54OesVIX91_0BGWF-FZ2--xibc4ZoQgV17RzojC-BR6pyJmMNCYYltdK4wneX0DWGlHCaSE1rS&amp;_nc_ht=scontent.fbom65-1.fna&amp;oh=00_AfCwlf9G6l1eRp10u9IO-Vpbvs4MhnErnIX1yBzza9k2cA&amp;oe=63FFC5BE"
   ]
  }
 ],
 "metadata": {
  "kernelspec": {
   "display_name": "Python 3 (ipykernel)",
   "language": "python",
   "name": "python3"
  },
  "language_info": {
   "codemirror_mode": {
    "name": "ipython",
    "version": 3
   },
   "file_extension": ".py",
   "mimetype": "text/x-python",
   "name": "python",
   "nbconvert_exporter": "python",
   "pygments_lexer": "ipython3",
   "version": "3.9.12"
  }
 },
 "nbformat": 4,
 "nbformat_minor": 5
}
