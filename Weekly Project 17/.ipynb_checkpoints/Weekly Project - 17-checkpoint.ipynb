{
 "cells": [
  {
   "cell_type": "markdown",
   "id": "4f6b0b84",
   "metadata": {},
   "source": [
    "# Data Visualisation on Sales Dataset. Find answers for the following questions:\n",
    "\n",
    "Deal with Null values\n",
    "\n",
    "● Find the number of unique orders placed so far\n",
    "\n",
    "● How many unique products we're having as per the\n",
    "dataset?\n",
    "\n",
    "● Name the most expensive product on the line\n",
    "\n",
    "● From which address does the most number of orders are\n",
    "placed?\n",
    "\n",
    "● Plot number of orders in each month in line graph"
   ]
  },
  {
   "cell_type": "markdown",
   "id": "c207e97a",
   "metadata": {},
   "source": [
    "## Import Library"
   ]
  },
  {
   "cell_type": "code",
   "execution_count": 89,
   "id": "7d1fe1aa",
   "metadata": {},
   "outputs": [],
   "source": [
    "import pandas as pd\n",
    "import numpy as np\n",
    "from matplotlib import pyplot as plt\n",
    "from calendar import month_name"
   ]
  },
  {
   "cell_type": "markdown",
   "id": "ae562d8f",
   "metadata": {},
   "source": [
    "## Loading Dataset"
   ]
  },
  {
   "cell_type": "code",
   "execution_count": 2,
   "id": "4d2a3319",
   "metadata": {},
   "outputs": [
    {
     "data": {
      "text/html": [
       "<div>\n",
       "<style scoped>\n",
       "    .dataframe tbody tr th:only-of-type {\n",
       "        vertical-align: middle;\n",
       "    }\n",
       "\n",
       "    .dataframe tbody tr th {\n",
       "        vertical-align: top;\n",
       "    }\n",
       "\n",
       "    .dataframe thead th {\n",
       "        text-align: right;\n",
       "    }\n",
       "</style>\n",
       "<table border=\"1\" class=\"dataframe\">\n",
       "  <thead>\n",
       "    <tr style=\"text-align: right;\">\n",
       "      <th></th>\n",
       "      <th>order_id</th>\n",
       "      <th>product</th>\n",
       "      <th>quantity</th>\n",
       "      <th>price</th>\n",
       "      <th>date</th>\n",
       "      <th>address</th>\n",
       "      <th>month</th>\n",
       "    </tr>\n",
       "  </thead>\n",
       "  <tbody>\n",
       "    <tr>\n",
       "      <th>0</th>\n",
       "      <td>236670</td>\n",
       "      <td>Wired Headphones</td>\n",
       "      <td>2</td>\n",
       "      <td>11.99</td>\n",
       "      <td>08/31/19 22:21</td>\n",
       "      <td>359 Spruce St, Seattle, WA 98101</td>\n",
       "      <td>August</td>\n",
       "    </tr>\n",
       "    <tr>\n",
       "      <th>1</th>\n",
       "      <td>236671</td>\n",
       "      <td>Bose SoundSport Headphones</td>\n",
       "      <td>1</td>\n",
       "      <td>99.99</td>\n",
       "      <td>08/15/19 15:11</td>\n",
       "      <td>492 Ridge St, Dallas, TX 75001</td>\n",
       "      <td>August</td>\n",
       "    </tr>\n",
       "    <tr>\n",
       "      <th>2</th>\n",
       "      <td>236672</td>\n",
       "      <td>iPhone</td>\n",
       "      <td>1</td>\n",
       "      <td>700.0</td>\n",
       "      <td>08/06/19 14:40</td>\n",
       "      <td>149 7th St, Portland, OR 97035</td>\n",
       "      <td>August</td>\n",
       "    </tr>\n",
       "    <tr>\n",
       "      <th>3</th>\n",
       "      <td>236673</td>\n",
       "      <td>AA Batteries (4-pack)</td>\n",
       "      <td>2</td>\n",
       "      <td>3.84</td>\n",
       "      <td>08/29/19 20:59</td>\n",
       "      <td>631 2nd St, Los Angeles, CA 90001</td>\n",
       "      <td>August</td>\n",
       "    </tr>\n",
       "    <tr>\n",
       "      <th>4</th>\n",
       "      <td>236674</td>\n",
       "      <td>AA Batteries (4-pack)</td>\n",
       "      <td>2</td>\n",
       "      <td>3.84</td>\n",
       "      <td>08/15/19 19:53</td>\n",
       "      <td>736 14th St, New York City, NY 10001</td>\n",
       "      <td>August</td>\n",
       "    </tr>\n",
       "  </tbody>\n",
       "</table>\n",
       "</div>"
      ],
      "text/plain": [
       "  order_id                     product quantity  price            date  \\\n",
       "0   236670            Wired Headphones        2  11.99  08/31/19 22:21   \n",
       "1   236671  Bose SoundSport Headphones        1  99.99  08/15/19 15:11   \n",
       "2   236672                      iPhone        1  700.0  08/06/19 14:40   \n",
       "3   236673       AA Batteries (4-pack)        2   3.84  08/29/19 20:59   \n",
       "4   236674       AA Batteries (4-pack)        2   3.84  08/15/19 19:53   \n",
       "\n",
       "                                address   month  \n",
       "0      359 Spruce St, Seattle, WA 98101  August  \n",
       "1        492 Ridge St, Dallas, TX 75001  August  \n",
       "2        149 7th St, Portland, OR 97035  August  \n",
       "3     631 2nd St, Los Angeles, CA 90001  August  \n",
       "4  736 14th St, New York City, NY 10001  August  "
      ]
     },
     "execution_count": 2,
     "metadata": {},
     "output_type": "execute_result"
    }
   ],
   "source": [
    "df = pd.read_csv('sales.csv')\n",
    "df.head()"
   ]
  },
  {
   "cell_type": "code",
   "execution_count": 3,
   "id": "a36622f4",
   "metadata": {},
   "outputs": [
    {
     "name": "stdout",
     "output_type": "stream",
     "text": [
      "<class 'pandas.core.frame.DataFrame'>\n",
      "RangeIndex: 186305 entries, 0 to 186304\n",
      "Data columns (total 7 columns):\n",
      " #   Column    Non-Null Count   Dtype \n",
      "---  ------    --------------   ----- \n",
      " 0   order_id  186305 non-null  object\n",
      " 1   product   186305 non-null  object\n",
      " 2   quantity  186305 non-null  object\n",
      " 3   price     186305 non-null  object\n",
      " 4   date      186305 non-null  object\n",
      " 5   address   186305 non-null  object\n",
      " 6   month     186305 non-null  object\n",
      "dtypes: object(7)\n",
      "memory usage: 9.9+ MB\n"
     ]
    }
   ],
   "source": [
    "df.info()"
   ]
  },
  {
   "cell_type": "markdown",
   "id": "1991d34a",
   "metadata": {},
   "source": [
    "## Preprocessing"
   ]
  },
  {
   "cell_type": "code",
   "execution_count": 4,
   "id": "022833dd",
   "metadata": {},
   "outputs": [],
   "source": [
    "## Removing unwanted values like --> [Order ID, Product, Quantity Ordered, Price Each, Order Date, Purchase Address, Month_name]\n",
    "index = []\n",
    "for k,i in enumerate(df['order_id']):\n",
    "    try    : int(i)\n",
    "    except : index.append(k)\n",
    "\n",
    "df.drop(df.index[index], inplace = True)"
   ]
  },
  {
   "cell_type": "code",
   "execution_count": 5,
   "id": "1d583591",
   "metadata": {},
   "outputs": [],
   "source": [
    "# preprocessing order_id, quantity, price\n",
    "\n",
    "df['order_id'] = df['order_id'].apply(lambda x :   int(x) )\n",
    "df['quantity'] = df['quantity'].apply(lambda x :   int(x) )\n",
    "df['price'   ] = df['price'   ].apply(lambda x : float(x) )"
   ]
  },
  {
   "cell_type": "code",
   "execution_count": 6,
   "id": "a863afe9",
   "metadata": {},
   "outputs": [
    {
     "data": {
      "text/html": [
       "<div>\n",
       "<style scoped>\n",
       "    .dataframe tbody tr th:only-of-type {\n",
       "        vertical-align: middle;\n",
       "    }\n",
       "\n",
       "    .dataframe tbody tr th {\n",
       "        vertical-align: top;\n",
       "    }\n",
       "\n",
       "    .dataframe thead th {\n",
       "        text-align: right;\n",
       "    }\n",
       "</style>\n",
       "<table border=\"1\" class=\"dataframe\">\n",
       "  <thead>\n",
       "    <tr style=\"text-align: right;\">\n",
       "      <th></th>\n",
       "      <th>order_id</th>\n",
       "      <th>product</th>\n",
       "      <th>quantity</th>\n",
       "      <th>price</th>\n",
       "      <th>date</th>\n",
       "      <th>address</th>\n",
       "      <th>month</th>\n",
       "      <th>house_no</th>\n",
       "      <th>street</th>\n",
       "      <th>city</th>\n",
       "      <th>state_code</th>\n",
       "      <th>pin_code</th>\n",
       "    </tr>\n",
       "  </thead>\n",
       "  <tbody>\n",
       "    <tr>\n",
       "      <th>0</th>\n",
       "      <td>236670</td>\n",
       "      <td>Wired Headphones</td>\n",
       "      <td>2</td>\n",
       "      <td>11.99</td>\n",
       "      <td>08/31/19 22:21</td>\n",
       "      <td>359 Spruce St, Seattle, WA 98101</td>\n",
       "      <td>August</td>\n",
       "      <td>359</td>\n",
       "      <td>Spruce St</td>\n",
       "      <td>Seattle</td>\n",
       "      <td>WA</td>\n",
       "      <td>98101</td>\n",
       "    </tr>\n",
       "    <tr>\n",
       "      <th>1</th>\n",
       "      <td>236671</td>\n",
       "      <td>Bose SoundSport Headphones</td>\n",
       "      <td>1</td>\n",
       "      <td>99.99</td>\n",
       "      <td>08/15/19 15:11</td>\n",
       "      <td>492 Ridge St, Dallas, TX 75001</td>\n",
       "      <td>August</td>\n",
       "      <td>492</td>\n",
       "      <td>Ridge St</td>\n",
       "      <td>Dallas</td>\n",
       "      <td>TX</td>\n",
       "      <td>75001</td>\n",
       "    </tr>\n",
       "    <tr>\n",
       "      <th>2</th>\n",
       "      <td>236672</td>\n",
       "      <td>iPhone</td>\n",
       "      <td>1</td>\n",
       "      <td>700.00</td>\n",
       "      <td>08/06/19 14:40</td>\n",
       "      <td>149 7th St, Portland, OR 97035</td>\n",
       "      <td>August</td>\n",
       "      <td>149</td>\n",
       "      <td>7th St</td>\n",
       "      <td>Portland</td>\n",
       "      <td>OR</td>\n",
       "      <td>97035</td>\n",
       "    </tr>\n",
       "    <tr>\n",
       "      <th>3</th>\n",
       "      <td>236673</td>\n",
       "      <td>AA Batteries (4-pack)</td>\n",
       "      <td>2</td>\n",
       "      <td>3.84</td>\n",
       "      <td>08/29/19 20:59</td>\n",
       "      <td>631 2nd St, Los Angeles, CA 90001</td>\n",
       "      <td>August</td>\n",
       "      <td>631</td>\n",
       "      <td>2nd St</td>\n",
       "      <td>Los Angeles</td>\n",
       "      <td>CA</td>\n",
       "      <td>90001</td>\n",
       "    </tr>\n",
       "    <tr>\n",
       "      <th>4</th>\n",
       "      <td>236674</td>\n",
       "      <td>AA Batteries (4-pack)</td>\n",
       "      <td>2</td>\n",
       "      <td>3.84</td>\n",
       "      <td>08/15/19 19:53</td>\n",
       "      <td>736 14th St, New York City, NY 10001</td>\n",
       "      <td>August</td>\n",
       "      <td>736</td>\n",
       "      <td>14th St</td>\n",
       "      <td>New York City</td>\n",
       "      <td>NY</td>\n",
       "      <td>10001</td>\n",
       "    </tr>\n",
       "  </tbody>\n",
       "</table>\n",
       "</div>"
      ],
      "text/plain": [
       "   order_id                     product  quantity   price            date  \\\n",
       "0    236670            Wired Headphones         2   11.99  08/31/19 22:21   \n",
       "1    236671  Bose SoundSport Headphones         1   99.99  08/15/19 15:11   \n",
       "2    236672                      iPhone         1  700.00  08/06/19 14:40   \n",
       "3    236673       AA Batteries (4-pack)         2    3.84  08/29/19 20:59   \n",
       "4    236674       AA Batteries (4-pack)         2    3.84  08/15/19 19:53   \n",
       "\n",
       "                                address   month  house_no     street  \\\n",
       "0      359 Spruce St, Seattle, WA 98101  August       359  Spruce St   \n",
       "1        492 Ridge St, Dallas, TX 75001  August       492   Ridge St   \n",
       "2        149 7th St, Portland, OR 97035  August       149     7th St   \n",
       "3     631 2nd St, Los Angeles, CA 90001  August       631     2nd St   \n",
       "4  736 14th St, New York City, NY 10001  August       736    14th St   \n",
       "\n",
       "            city state_code  pin_code  \n",
       "0        Seattle         WA     98101  \n",
       "1         Dallas         TX     75001  \n",
       "2       Portland         OR     97035  \n",
       "3    Los Angeles         CA     90001  \n",
       "4  New York City         NY     10001  "
      ]
     },
     "execution_count": 6,
     "metadata": {},
     "output_type": "execute_result"
    }
   ],
   "source": [
    "# Preprocessing Address and Adding seperate house_no, street, city, state_code, pin_code\n",
    "\n",
    "state_code = []\n",
    "pin_code   = []\n",
    "city       = []\n",
    "street     = []\n",
    "house_no   = []\n",
    "for address in df['address']:  \n",
    "    \n",
    "    address =    address.split(','         ) \n",
    "    \n",
    "    sec_1   = address[0].strip().split(maxsplit = 1)\n",
    "    sec_2   = address[1].strip()\n",
    "    sec_3   = address[2].strip().split(            )\n",
    "    \n",
    "    house_no   += [ int( sec_1[0] ) ]\n",
    "    pin_code   += [ int( sec_3[1] ) ]\n",
    "    street     += [      sec_1[1]   ]\n",
    "    state_code += [      sec_3[0]   ]\n",
    "    city       += [      sec_2      ]\n",
    "    \n",
    "\n",
    "df['house_no'  ] = house_no\n",
    "df['street'    ] = street\n",
    "df['city'      ] = city\n",
    "df['state_code'] = state_code\n",
    "df['pin_code'  ] = pin_code\n",
    "\n",
    "df.head()"
   ]
  },
  {
   "cell_type": "code",
   "execution_count": 7,
   "id": "52f7369b",
   "metadata": {},
   "outputs": [
    {
     "data": {
      "text/html": [
       "<div>\n",
       "<style scoped>\n",
       "    .dataframe tbody tr th:only-of-type {\n",
       "        vertical-align: middle;\n",
       "    }\n",
       "\n",
       "    .dataframe tbody tr th {\n",
       "        vertical-align: top;\n",
       "    }\n",
       "\n",
       "    .dataframe thead th {\n",
       "        text-align: right;\n",
       "    }\n",
       "</style>\n",
       "<table border=\"1\" class=\"dataframe\">\n",
       "  <thead>\n",
       "    <tr style=\"text-align: right;\">\n",
       "      <th></th>\n",
       "      <th>order_id</th>\n",
       "      <th>product</th>\n",
       "      <th>quantity</th>\n",
       "      <th>price</th>\n",
       "      <th>date</th>\n",
       "      <th>address</th>\n",
       "      <th>month</th>\n",
       "      <th>house_no</th>\n",
       "      <th>street</th>\n",
       "      <th>city</th>\n",
       "      <th>state_code</th>\n",
       "      <th>pin_code</th>\n",
       "      <th>day</th>\n",
       "      <th>months</th>\n",
       "      <th>year</th>\n",
       "      <th>hours</th>\n",
       "      <th>minutes</th>\n",
       "    </tr>\n",
       "  </thead>\n",
       "  <tbody>\n",
       "    <tr>\n",
       "      <th>0</th>\n",
       "      <td>236670</td>\n",
       "      <td>Wired Headphones</td>\n",
       "      <td>2</td>\n",
       "      <td>11.99</td>\n",
       "      <td>08/31/19 22:21</td>\n",
       "      <td>359 Spruce St, Seattle, WA 98101</td>\n",
       "      <td>August</td>\n",
       "      <td>359</td>\n",
       "      <td>Spruce St</td>\n",
       "      <td>Seattle</td>\n",
       "      <td>WA</td>\n",
       "      <td>98101</td>\n",
       "      <td>31</td>\n",
       "      <td>8</td>\n",
       "      <td>19</td>\n",
       "      <td>22</td>\n",
       "      <td>21</td>\n",
       "    </tr>\n",
       "    <tr>\n",
       "      <th>1</th>\n",
       "      <td>236671</td>\n",
       "      <td>Bose SoundSport Headphones</td>\n",
       "      <td>1</td>\n",
       "      <td>99.99</td>\n",
       "      <td>08/15/19 15:11</td>\n",
       "      <td>492 Ridge St, Dallas, TX 75001</td>\n",
       "      <td>August</td>\n",
       "      <td>492</td>\n",
       "      <td>Ridge St</td>\n",
       "      <td>Dallas</td>\n",
       "      <td>TX</td>\n",
       "      <td>75001</td>\n",
       "      <td>15</td>\n",
       "      <td>8</td>\n",
       "      <td>19</td>\n",
       "      <td>15</td>\n",
       "      <td>11</td>\n",
       "    </tr>\n",
       "    <tr>\n",
       "      <th>2</th>\n",
       "      <td>236672</td>\n",
       "      <td>iPhone</td>\n",
       "      <td>1</td>\n",
       "      <td>700.00</td>\n",
       "      <td>08/06/19 14:40</td>\n",
       "      <td>149 7th St, Portland, OR 97035</td>\n",
       "      <td>August</td>\n",
       "      <td>149</td>\n",
       "      <td>7th St</td>\n",
       "      <td>Portland</td>\n",
       "      <td>OR</td>\n",
       "      <td>97035</td>\n",
       "      <td>6</td>\n",
       "      <td>8</td>\n",
       "      <td>19</td>\n",
       "      <td>14</td>\n",
       "      <td>40</td>\n",
       "    </tr>\n",
       "    <tr>\n",
       "      <th>3</th>\n",
       "      <td>236673</td>\n",
       "      <td>AA Batteries (4-pack)</td>\n",
       "      <td>2</td>\n",
       "      <td>3.84</td>\n",
       "      <td>08/29/19 20:59</td>\n",
       "      <td>631 2nd St, Los Angeles, CA 90001</td>\n",
       "      <td>August</td>\n",
       "      <td>631</td>\n",
       "      <td>2nd St</td>\n",
       "      <td>Los Angeles</td>\n",
       "      <td>CA</td>\n",
       "      <td>90001</td>\n",
       "      <td>29</td>\n",
       "      <td>8</td>\n",
       "      <td>19</td>\n",
       "      <td>20</td>\n",
       "      <td>59</td>\n",
       "    </tr>\n",
       "    <tr>\n",
       "      <th>4</th>\n",
       "      <td>236674</td>\n",
       "      <td>AA Batteries (4-pack)</td>\n",
       "      <td>2</td>\n",
       "      <td>3.84</td>\n",
       "      <td>08/15/19 19:53</td>\n",
       "      <td>736 14th St, New York City, NY 10001</td>\n",
       "      <td>August</td>\n",
       "      <td>736</td>\n",
       "      <td>14th St</td>\n",
       "      <td>New York City</td>\n",
       "      <td>NY</td>\n",
       "      <td>10001</td>\n",
       "      <td>15</td>\n",
       "      <td>8</td>\n",
       "      <td>19</td>\n",
       "      <td>19</td>\n",
       "      <td>53</td>\n",
       "    </tr>\n",
       "  </tbody>\n",
       "</table>\n",
       "</div>"
      ],
      "text/plain": [
       "   order_id                     product  quantity   price            date  \\\n",
       "0    236670            Wired Headphones         2   11.99  08/31/19 22:21   \n",
       "1    236671  Bose SoundSport Headphones         1   99.99  08/15/19 15:11   \n",
       "2    236672                      iPhone         1  700.00  08/06/19 14:40   \n",
       "3    236673       AA Batteries (4-pack)         2    3.84  08/29/19 20:59   \n",
       "4    236674       AA Batteries (4-pack)         2    3.84  08/15/19 19:53   \n",
       "\n",
       "                                address   month  house_no     street  \\\n",
       "0      359 Spruce St, Seattle, WA 98101  August       359  Spruce St   \n",
       "1        492 Ridge St, Dallas, TX 75001  August       492   Ridge St   \n",
       "2        149 7th St, Portland, OR 97035  August       149     7th St   \n",
       "3     631 2nd St, Los Angeles, CA 90001  August       631     2nd St   \n",
       "4  736 14th St, New York City, NY 10001  August       736    14th St   \n",
       "\n",
       "            city state_code  pin_code  day  months  year  hours  minutes  \n",
       "0        Seattle         WA     98101   31       8    19     22       21  \n",
       "1         Dallas         TX     75001   15       8    19     15       11  \n",
       "2       Portland         OR     97035    6       8    19     14       40  \n",
       "3    Los Angeles         CA     90001   29       8    19     20       59  \n",
       "4  New York City         NY     10001   15       8    19     19       53  "
      ]
     },
     "execution_count": 7,
     "metadata": {},
     "output_type": "execute_result"
    }
   ],
   "source": [
    "# Preprocessing date and Adding seperate day, months, year, hours, minutes\n",
    "\n",
    "dates = { key: [] for key in ['day', 'months', 'year', 'hours', 'minutes'] }\n",
    "\n",
    "for date in df['date']:\n",
    "    date = date.split()\n",
    "    \n",
    "    sec_1 = date[0].split('/')\n",
    "    sec_2 = date[1].split(':')\n",
    "    \n",
    "    dates['day'     ] += [ int( sec_1[1] ) ]\n",
    "    dates['months'  ] += [ int( sec_1[0] ) ]\n",
    "    dates['year'    ] += [ int( sec_1[2] ) ]\n",
    "\n",
    "    dates['hours'   ] += [ int( sec_2[0] ) ]\n",
    "    dates['minutes' ] += [ int( sec_2[1] ) ]\n",
    "\n",
    "for k,v in dates.items():\n",
    "    df[k] = v \n",
    "\n",
    "df.head()"
   ]
  },
  {
   "cell_type": "code",
   "execution_count": 8,
   "id": "721468d5",
   "metadata": {},
   "outputs": [],
   "source": [
    "# Removing columns date and address and saving preprocessed files\n",
    "\n",
    "df.drop(['date','address'], axis =1, inplace = True)\n",
    "\n",
    "df.to_csv('sales_preprocessed.csv', index = False  )"
   ]
  },
  {
   "cell_type": "markdown",
   "id": "0f2eba62",
   "metadata": {},
   "source": [
    "## Questions"
   ]
  },
  {
   "cell_type": "markdown",
   "id": "739ffed3",
   "metadata": {},
   "source": [
    "### Find the number of unique orders placed so far"
   ]
  },
  {
   "cell_type": "markdown",
   "id": "10e9a07c",
   "metadata": {},
   "source": [
    "###  How many unique products we're having as per the dataset?"
   ]
  },
  {
   "cell_type": "code",
   "execution_count": 54,
   "id": "c04e7ffa",
   "metadata": {},
   "outputs": [
    {
     "data": {
      "image/png": "[encoded data removed]",
      "text/plain": [
       "<Figure size 720x432 with 1 Axes>"
      ]
     },
     "metadata": {
      "needs_background": "light"
     },
     "output_type": "display_data"
    }
   ],
   "source": [
    "data  = df.nunique()\n",
    "\n",
    "index = ['product','street','city','state_code','pin_code']\n",
    "data  = data[index]\n",
    "\n",
    "x    = data.index\n",
    "y    = data.values\n",
    "\n",
    "plt.figure(figsize=(10,6))\n",
    "\n",
    "color = ['red','orange','yellow','green','blue']\n",
    "\n",
    "ax = plt.bar(x,y , width = 0.4 ,color = color)\n",
    "\n",
    "for k, i in enumerate(ax):\n",
    "    \n",
    "    bar_width = i.get_width() \n",
    "    x_cord    = i.xy[0] + bar_width / 2\n",
    "    y_cord    = i.get_height()\n",
    "    txt       = str(y[k])\n",
    "    \n",
    "    plt.annotate(\n",
    "        text      = txt,\n",
    "        xy        = (x_cord , y_cord),\n",
    "        xytext    = ( -5, 4),\n",
    "        textcoords=\"offset points\"\n",
    "        \n",
    "                )\n",
    "\n",
    "plt.xlabel('Data columns')\n",
    "plt.ylabel('counts')\n",
    "\n",
    "plt.title('No of unique values in US Sales report')\n",
    "plt.show()\n",
    "\n"
   ]
  },
  {
   "cell_type": "markdown",
   "id": "0bfcfc75",
   "metadata": {},
   "source": [
    "### Name the most expensive product on the line"
   ]
  },
  {
   "cell_type": "code",
   "execution_count": 69,
   "id": "fbe4c706",
   "metadata": {},
   "outputs": [
    {
     "data": {
      "image/png": "[encoded data removed]",
      "text/plain": [
       "<Figure size 720x432 with 1 Axes>"
      ]
     },
     "metadata": {
      "needs_background": "light"
     },
     "output_type": "display_data"
    }
   ],
   "source": [
    "data = df.groupby('product').mean()['price'].sort_values(ascending=False).head()\n",
    "\n",
    "x    = data.index\n",
    "y    = data.values\n",
    "\n",
    "plt.figure(figsize=(10,6))\n",
    "\n",
    "color = ['red','orange','yellow','green','green']\n",
    "\n",
    "ax = plt.bar(x,y , width = 0.6 ,color = color)\n",
    "\n",
    "for k, i in enumerate(ax):\n",
    "    \n",
    "    bar_width = i.get_width() \n",
    "    x_cord    = i.xy[0] + bar_width / 2\n",
    "    y_cord    = i.get_height()\n",
    "    txt       = str(y[k])\n",
    "    \n",
    "    plt.annotate(\n",
    "        text      = txt,\n",
    "        xy        = (x_cord , y_cord),\n",
    "        xytext    = ( -15, 4),\n",
    "        textcoords=\"offset points\"\n",
    "        \n",
    "                )\n",
    "\n",
    "plt.xlabel('Products')\n",
    "plt.ylabel('Price')\n",
    "\n",
    "plt.title('Most Expensive Product on the Line')\n",
    "plt.show()"
   ]
  },
  {
   "cell_type": "markdown",
   "id": "50c66cfa",
   "metadata": {},
   "source": [
    "### Plot number of orders in each month in line graph"
   ]
  },
  {
   "cell_type": "code",
   "execution_count": 95,
   "id": "29f095e1",
   "metadata": {},
   "outputs": [
    {
     "name": "stdout",
     "output_type": "stream",
     "text": [
      "Line2D(_child0)\n"
     ]
    },
    {
     "data": {
      "image/png": "[encoded data removed]",
      "text/plain": [
       "<Figure size 1080x288 with 1 Axes>"
      ]
     },
     "metadata": {
      "needs_background": "light"
     },
     "output_type": "display_data"
    }
   ],
   "source": [
    "data = df.groupby('month').size()\n",
    "data = data[ list(month_name)[1:] ]\n",
    "\n",
    "x    = data.index\n",
    "y    = data.values\n",
    "\n",
    "plt.figure(figsize= (15,4))\n",
    "ax   = plt.plot(x,y,marker = 'o')"
   ]
  },
  {
   "cell_type": "code",
   "execution_count": 87,
   "id": "2b43fa8a",
   "metadata": {},
   "outputs": [
    {
     "data": {
      "text/plain": [
       "month\n",
       "January      9681\n",
       "February    11986\n",
       "dtype: int64"
      ]
     },
     "execution_count": 87,
     "metadata": {},
     "output_type": "execute_result"
    }
   ],
   "source": [
    "data[['January','February']]"
   ]
  },
  {
   "cell_type": "code",
   "execution_count": 94,
   "id": "6bd0905c",
   "metadata": {},
   "outputs": [
    {
     "data": {
      "text/plain": [
       "month\n",
       "January       9681\n",
       "February     11986\n",
       "March        15154\n",
       "April        18289\n",
       "May          16554\n",
       "June         13556\n",
       "July         14291\n",
       "August       11957\n",
       "September    11629\n",
       "October      20284\n",
       "November     17580\n",
       "December     24989\n",
       "dtype: int64"
      ]
     },
     "execution_count": 94,
     "metadata": {},
     "output_type": "execute_result"
    }
   ],
   "source": [
    "data[ list(month_name)[1:] ]"
   ]
  },
  {
   "cell_type": "code",
   "execution_count": 93,
   "id": "b2041d13",
   "metadata": {},
   "outputs": [
    {
     "data": {
      "text/plain": [
       "['January',\n",
       " 'February',\n",
       " 'March',\n",
       " 'April',\n",
       " 'May',\n",
       " 'June',\n",
       " 'July',\n",
       " 'August',\n",
       " 'September',\n",
       " 'October',\n",
       " 'November',\n",
       " 'December']"
      ]
     },
     "execution_count": 93,
     "metadata": {},
     "output_type": "execute_result"
    }
   ],
   "source": [
    "list(month_name)[1:]"
   ]
  },
  {
   "cell_type": "code",
   "execution_count": null,
   "id": "1f4b3cc5",
   "metadata": {},
   "outputs": [],
   "source": []
  }
 ],
 "metadata": {
  "kernelspec": {
   "display_name": "Python 3 (ipykernel)",
   "language": "python",
   "name": "python3"
  },
  "language_info": {
   "codemirror_mode": {
    "name": "ipython",
    "version": 3
   },
   "file_extension": ".py",
   "mimetype": "text/x-python",
   "name": "python",
   "nbconvert_exporter": "python",
   "pygments_lexer": "ipython3",
   "version": "3.9.12"
  }
 },
 "nbformat": 4,
 "nbformat_minor": 5
}
