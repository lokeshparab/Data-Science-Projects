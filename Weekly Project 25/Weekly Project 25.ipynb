{
 "cells": [
  {
   "cell_type": "markdown",
   "id": "e5401e09",
   "metadata": {},
   "source": [
    "# Import Library"
   ]
  },
  {
   "cell_type": "code",
   "execution_count": 1,
   "id": "a4d6f542",
   "metadata": {},
   "outputs": [],
   "source": [
    "import pandas   as pd\n",
    "import requests as rq\n",
    "import numpy    as np\n",
    "\n",
    "# from selenium import webdriver     as wd\n",
    "from bs4      import BeautifulSoup as BS\n",
    "from tqdm     import tqdm"
   ]
  },
  {
   "cell_type": "markdown",
   "id": "c18dc436",
   "metadata": {},
   "source": [
    "# Loading Dataset"
   ]
  },
  {
   "cell_type": "code",
   "execution_count": 2,
   "id": "bf460fbf",
   "metadata": {},
   "outputs": [
    {
     "data": {
      "text/html": [
       "<div>\n",
       "<style scoped>\n",
       "    .dataframe tbody tr th:only-of-type {\n",
       "        vertical-align: middle;\n",
       "    }\n",
       "\n",
       "    .dataframe tbody tr th {\n",
       "        vertical-align: top;\n",
       "    }\n",
       "\n",
       "    .dataframe thead th {\n",
       "        text-align: right;\n",
       "    }\n",
       "</style>\n",
       "<table border=\"1\" class=\"dataframe\">\n",
       "  <thead>\n",
       "    <tr style=\"text-align: right;\">\n",
       "      <th></th>\n",
       "      <th>maincategory</th>\n",
       "      <th>subcategory</th>\n",
       "      <th>category</th>\n",
       "      <th>link</th>\n",
       "      <th>alt_link</th>\n",
       "      <th>iteration</th>\n",
       "      <th>qid</th>\n",
       "      <th>ref</th>\n",
       "    </tr>\n",
       "  </thead>\n",
       "  <tbody>\n",
       "    <tr>\n",
       "      <th>0</th>\n",
       "      <td>0</td>\n",
       "      <td>tv, audio &amp; cameras</td>\n",
       "      <td>Televisions</td>\n",
       "      <td>https://www.amazon.in/gp/browse.html?node=1389...</td>\n",
       "      <td>https://www.amazon.in/s?rh=n%3A1389396031&amp;fs=true</td>\n",
       "      <td>46</td>\n",
       "      <td>1.678610e+09</td>\n",
       "      <td>sr_pg_1</td>\n",
       "    </tr>\n",
       "    <tr>\n",
       "      <th>1</th>\n",
       "      <td>0</td>\n",
       "      <td>tv, audio &amp; cameras</td>\n",
       "      <td>Home Entertainment Systems</td>\n",
       "      <td>https://www.amazon.in/gp/browse.html?node=1389...</td>\n",
       "      <td>https://www.amazon.in/s?rh=n%3A1389375031&amp;fs=true</td>\n",
       "      <td>400</td>\n",
       "      <td>1.678610e+09</td>\n",
       "      <td>sr_pg_1</td>\n",
       "    </tr>\n",
       "    <tr>\n",
       "      <th>2</th>\n",
       "      <td>0</td>\n",
       "      <td>tv, audio &amp; cameras</td>\n",
       "      <td>Headphones</td>\n",
       "      <td>https://www.amazon.in/gp/browse.html?node=1388...</td>\n",
       "      <td>https://www.amazon.in/s?rh=n%3A1388921031&amp;fs=true</td>\n",
       "      <td>400</td>\n",
       "      <td>1.678610e+09</td>\n",
       "      <td>sr_pg_1</td>\n",
       "    </tr>\n",
       "    <tr>\n",
       "      <th>3</th>\n",
       "      <td>0</td>\n",
       "      <td>tv, audio &amp; cameras</td>\n",
       "      <td>Speakers</td>\n",
       "      <td>https://www.amazon.in/gp/browse.html?node=1389...</td>\n",
       "      <td>https://www.amazon.in/s?rh=n%3A1389365031&amp;fs=true</td>\n",
       "      <td>400</td>\n",
       "      <td>1.678610e+09</td>\n",
       "      <td>sr_pg_1</td>\n",
       "    </tr>\n",
       "    <tr>\n",
       "      <th>4</th>\n",
       "      <td>0</td>\n",
       "      <td>tv, audio &amp; cameras</td>\n",
       "      <td>Home Audio &amp; Theater</td>\n",
       "      <td>https://www.amazon.in/gp/browse.html?node=1389...</td>\n",
       "      <td>https://www.amazon.in/s?rh=n%3A1389387031&amp;fs=true</td>\n",
       "      <td>18</td>\n",
       "      <td>1.678610e+09</td>\n",
       "      <td>sr_pg_1</td>\n",
       "    </tr>\n",
       "  </tbody>\n",
       "</table>\n",
       "</div>"
      ],
      "text/plain": [
       "   maincategory          subcategory                    category  \\\n",
       "0             0  tv, audio & cameras                 Televisions   \n",
       "1             0  tv, audio & cameras  Home Entertainment Systems   \n",
       "2             0  tv, audio & cameras                  Headphones   \n",
       "3             0  tv, audio & cameras                    Speakers   \n",
       "4             0  tv, audio & cameras        Home Audio & Theater   \n",
       "\n",
       "                                                link  \\\n",
       "0  https://www.amazon.in/gp/browse.html?node=1389...   \n",
       "1  https://www.amazon.in/gp/browse.html?node=1389...   \n",
       "2  https://www.amazon.in/gp/browse.html?node=1388...   \n",
       "3  https://www.amazon.in/gp/browse.html?node=1389...   \n",
       "4  https://www.amazon.in/gp/browse.html?node=1389...   \n",
       "\n",
       "                                            alt_link  iteration           qid  \\\n",
       "0  https://www.amazon.in/s?rh=n%3A1389396031&fs=true         46  1.678610e+09   \n",
       "1  https://www.amazon.in/s?rh=n%3A1389375031&fs=true        400  1.678610e+09   \n",
       "2  https://www.amazon.in/s?rh=n%3A1388921031&fs=true        400  1.678610e+09   \n",
       "3  https://www.amazon.in/s?rh=n%3A1389365031&fs=true        400  1.678610e+09   \n",
       "4  https://www.amazon.in/s?rh=n%3A1389387031&fs=true         18  1.678610e+09   \n",
       "\n",
       "       ref  \n",
       "0  sr_pg_1  \n",
       "1  sr_pg_1  \n",
       "2  sr_pg_1  \n",
       "3  sr_pg_1  \n",
       "4  sr_pg_1  "
      ]
     },
     "execution_count": 2,
     "metadata": {},
     "output_type": "execute_result"
    }
   ],
   "source": [
    "df = pd.read_csv('Amazon_full_details.csv')\n",
    "df.head()"
   ]
  },
  {
   "cell_type": "code",
   "execution_count": 3,
   "id": "d973ebd9",
   "metadata": {},
   "outputs": [
    {
     "name": "stdout",
     "output_type": "stream",
     "text": [
      "<class 'pandas.core.frame.DataFrame'>\n",
      "RangeIndex: 165 entries, 0 to 164\n",
      "Data columns (total 8 columns):\n",
      " #   Column        Non-Null Count  Dtype  \n",
      "---  ------        --------------  -----  \n",
      " 0   maincategory  165 non-null    int64  \n",
      " 1   subcategory   165 non-null    object \n",
      " 2   category      165 non-null    object \n",
      " 3   link          165 non-null    object \n",
      " 4   alt_link      160 non-null    object \n",
      " 5   iteration     165 non-null    int64  \n",
      " 6   qid           150 non-null    float64\n",
      " 7   ref           150 non-null    object \n",
      "dtypes: float64(1), int64(2), object(5)\n",
      "memory usage: 10.4+ KB\n"
     ]
    }
   ],
   "source": [
    "df.info()"
   ]
  },
  {
   "cell_type": "markdown",
   "id": "927b8f97",
   "metadata": {},
   "source": [
    "# Preprocessing"
   ]
  },
  {
   "cell_type": "code",
   "execution_count": 4,
   "id": "0c33f67f",
   "metadata": {},
   "outputs": [],
   "source": [
    "df = df[df['qid'].isna() == False]"
   ]
  },
  {
   "cell_type": "code",
   "execution_count": 5,
   "id": "4443918b",
   "metadata": {},
   "outputs": [],
   "source": [
    "del df['ref']\n",
    "del df['maincategory']\n",
    "del df['link']"
   ]
  },
  {
   "cell_type": "code",
   "execution_count": 6,
   "id": "327f9756",
   "metadata": {},
   "outputs": [
    {
     "name": "stdout",
     "output_type": "stream",
     "text": [
      "<class 'pandas.core.frame.DataFrame'>\n",
      "Int64Index: 150 entries, 0 to 162\n",
      "Data columns (total 5 columns):\n",
      " #   Column       Non-Null Count  Dtype  \n",
      "---  ------       --------------  -----  \n",
      " 0   subcategory  150 non-null    object \n",
      " 1   category     150 non-null    object \n",
      " 2   alt_link     150 non-null    object \n",
      " 3   iteration    150 non-null    int64  \n",
      " 4   qid          150 non-null    float64\n",
      "dtypes: float64(1), int64(1), object(3)\n",
      "memory usage: 7.0+ KB\n"
     ]
    }
   ],
   "source": [
    "df.info()"
   ]
  },
  {
   "cell_type": "code",
   "execution_count": 7,
   "id": "dea2d5b9",
   "metadata": {},
   "outputs": [
    {
     "data": {
      "text/html": [
       "<div>\n",
       "<style scoped>\n",
       "    .dataframe tbody tr th:only-of-type {\n",
       "        vertical-align: middle;\n",
       "    }\n",
       "\n",
       "    .dataframe tbody tr th {\n",
       "        vertical-align: top;\n",
       "    }\n",
       "\n",
       "    .dataframe thead th {\n",
       "        text-align: right;\n",
       "    }\n",
       "</style>\n",
       "<table border=\"1\" class=\"dataframe\">\n",
       "  <thead>\n",
       "    <tr style=\"text-align: right;\">\n",
       "      <th></th>\n",
       "      <th>subcategory</th>\n",
       "      <th>category</th>\n",
       "      <th>alt_link</th>\n",
       "      <th>iteration</th>\n",
       "      <th>qid</th>\n",
       "    </tr>\n",
       "  </thead>\n",
       "  <tbody>\n",
       "    <tr>\n",
       "      <th>0</th>\n",
       "      <td>tv, audio &amp; cameras</td>\n",
       "      <td>Televisions</td>\n",
       "      <td>https://www.amazon.in/s?rh=n%3A1389396031&amp;fs=true</td>\n",
       "      <td>46</td>\n",
       "      <td>1.678610e+09</td>\n",
       "    </tr>\n",
       "    <tr>\n",
       "      <th>1</th>\n",
       "      <td>tv, audio &amp; cameras</td>\n",
       "      <td>Home Entertainment Systems</td>\n",
       "      <td>https://www.amazon.in/s?rh=n%3A1389375031&amp;fs=true</td>\n",
       "      <td>400</td>\n",
       "      <td>1.678610e+09</td>\n",
       "    </tr>\n",
       "    <tr>\n",
       "      <th>2</th>\n",
       "      <td>tv, audio &amp; cameras</td>\n",
       "      <td>Headphones</td>\n",
       "      <td>https://www.amazon.in/s?rh=n%3A1388921031&amp;fs=true</td>\n",
       "      <td>400</td>\n",
       "      <td>1.678610e+09</td>\n",
       "    </tr>\n",
       "    <tr>\n",
       "      <th>3</th>\n",
       "      <td>tv, audio &amp; cameras</td>\n",
       "      <td>Speakers</td>\n",
       "      <td>https://www.amazon.in/s?rh=n%3A1389365031&amp;fs=true</td>\n",
       "      <td>400</td>\n",
       "      <td>1.678610e+09</td>\n",
       "    </tr>\n",
       "    <tr>\n",
       "      <th>4</th>\n",
       "      <td>tv, audio &amp; cameras</td>\n",
       "      <td>Home Audio &amp; Theater</td>\n",
       "      <td>https://www.amazon.in/s?rh=n%3A1389387031&amp;fs=true</td>\n",
       "      <td>18</td>\n",
       "      <td>1.678610e+09</td>\n",
       "    </tr>\n",
       "  </tbody>\n",
       "</table>\n",
       "</div>"
      ],
      "text/plain": [
       "           subcategory                    category  \\\n",
       "0  tv, audio & cameras                 Televisions   \n",
       "1  tv, audio & cameras  Home Entertainment Systems   \n",
       "2  tv, audio & cameras                  Headphones   \n",
       "3  tv, audio & cameras                    Speakers   \n",
       "4  tv, audio & cameras        Home Audio & Theater   \n",
       "\n",
       "                                            alt_link  iteration           qid  \n",
       "0  https://www.amazon.in/s?rh=n%3A1389396031&fs=true         46  1.678610e+09  \n",
       "1  https://www.amazon.in/s?rh=n%3A1389375031&fs=true        400  1.678610e+09  \n",
       "2  https://www.amazon.in/s?rh=n%3A1388921031&fs=true        400  1.678610e+09  \n",
       "3  https://www.amazon.in/s?rh=n%3A1389365031&fs=true        400  1.678610e+09  \n",
       "4  https://www.amazon.in/s?rh=n%3A1389387031&fs=true         18  1.678610e+09  "
      ]
     },
     "execution_count": 7,
     "metadata": {},
     "output_type": "execute_result"
    }
   ],
   "source": [
    "df.head()"
   ]
  },
  {
   "cell_type": "markdown",
   "id": "2f9d6e33",
   "metadata": {},
   "source": [
    "# Webscraping  Amazon Product"
   ]
  },
  {
   "cell_type": "code",
   "execution_count": 9,
   "id": "d97ede63",
   "metadata": {},
   "outputs": [
    {
     "name": "stderr",
     "output_type": "stream",
     "text": [
      "100%|██████████| 400/400 [10:48<00:00,  1.62s/it]\n",
      "100%|██████████| 400/400 [11:31<00:00,  1.73s/it]t]\n",
      "100%|██████████| 400/400 [11:28<00:00,  1.72s/it]t]\n",
      " 89%|████████▊ | 276/311 [07:32<00:57,  1.64s/it]t]\n",
      "  3%|▎         | 3/109 [41:21<24:21:14, 827.12s/it]\n"
     ]
    },
    {
     "ename": "AttributeError",
     "evalue": "'NoneType' object has no attribute 'find_all'",
     "output_type": "error",
     "traceback": [
      "\u001b[1;31m---------------------------------------------------------------------------\u001b[0m",
      "\u001b[1;31mAttributeError\u001b[0m                            Traceback (most recent call last)",
      "\u001b[1;32me:\\Githubs\\Data-Science-Course-Assignment\\Weekly Project 25\\Weekly Project 25.ipynb Cell 12\u001b[0m in \u001b[0;36m<cell line: 17>\u001b[1;34m()\u001b[0m\n\u001b[0;32m     <a href='vscode-notebook-cell:/e%3A/Githubs/Data-Science-Course-Assignment/Weekly%20Project%2025/Weekly%20Project%2025.ipynb#X14sZmlsZQ%3D%3D?line=24'>25</a>\u001b[0m soup \u001b[39m=\u001b[39m BS(res\u001b[39m.\u001b[39mcontent,\u001b[39m'\u001b[39m\u001b[39mhtml.parser\u001b[39m\u001b[39m'\u001b[39m)\n\u001b[0;32m     <a href='vscode-notebook-cell:/e%3A/Githubs/Data-Science-Course-Assignment/Weekly%20Project%2025/Weekly%20Project%2025.ipynb#X14sZmlsZQ%3D%3D?line=26'>27</a>\u001b[0m data \u001b[39m=\u001b[39m soup\u001b[39m.\u001b[39mfind(\u001b[39m'\u001b[39m\u001b[39mdiv\u001b[39m\u001b[39m'\u001b[39m,class_ \u001b[39m=\u001b[39m \u001b[39m'\u001b[39m\u001b[39ms-main-slot s-result-list s-search-results sg-row\u001b[39m\u001b[39m'\u001b[39m)\n\u001b[1;32m---> <a href='vscode-notebook-cell:/e%3A/Githubs/Data-Science-Course-Assignment/Weekly%20Project%2025/Weekly%20Project%2025.ipynb#X14sZmlsZQ%3D%3D?line=27'>28</a>\u001b[0m pros \u001b[39m=\u001b[39m data\u001b[39m.\u001b[39;49mfind_all(\u001b[39m'\u001b[39m\u001b[39mdiv\u001b[39m\u001b[39m'\u001b[39m, class_\u001b[39m=\u001b[39m \u001b[39m'\u001b[39m\u001b[39msg-col-4-of-24 sg-col-4-of-12 s-result-item s-asin sg-col-4-of-16 sg-col s-widget-spacing-small sg-col-4-of-20\u001b[39m\u001b[39m'\u001b[39m)\n\u001b[0;32m     <a href='vscode-notebook-cell:/e%3A/Githubs/Data-Science-Course-Assignment/Weekly%20Project%2025/Weekly%20Project%2025.ipynb#X14sZmlsZQ%3D%3D?line=28'>29</a>\u001b[0m \u001b[39m#driver.get(link)\u001b[39;00m\n\u001b[0;32m     <a href='vscode-notebook-cell:/e%3A/Githubs/Data-Science-Course-Assignment/Weekly%20Project%2025/Weekly%20Project%2025.ipynb#X14sZmlsZQ%3D%3D?line=30'>31</a>\u001b[0m \u001b[39mfor\u001b[39;00m pro \u001b[39min\u001b[39;00m pros:\n",
      "\u001b[1;31mAttributeError\u001b[0m: 'NoneType' object has no attribute 'find_all'"
     ]
    }
   ],
   "source": [
    "headers = {'User-Agent': 'Mozilla/5.0 (Windows NT 10.0; Win64; x64) AppleWebKit/537.36 (KHTML, like Gecko) Chrome/111.0.0.0 Safari/537.36'}\n",
    "#driver = wb.Chrome('webdriver/chromedriver.exe')\n",
    "\n",
    "products = { \n",
    "    'name'          :[],\n",
    "    'main_category' :[],\n",
    "    'sub_category'  :[],\n",
    "    'image'         :[],\n",
    "    'link'          :[],\n",
    "    'ratings'       :[],\n",
    "    'no_of_ratings' :[],\n",
    "    'discount_price':[],\n",
    "    'actual_price'  :[],\n",
    "}\n",
    "\n",
    "\n",
    "for main_category,sub_category,base_link,iteration,qid in tqdm(df.values[41:]):\n",
    "    \n",
    "    for i in tqdm(range(1,iteration + 1)):\n",
    "        link = base_link + f\"&page={i}&qid={qid}\"\n",
    "        #print(link)\n",
    "        \n",
    "        res = rq.get(link, headers = headers)\n",
    "        #print(res.ok)\n",
    "        soup = BS(res.content,'html.parser')\n",
    "        \n",
    "        data = soup.find('div',class_ = 's-main-slot s-result-list s-search-results sg-row')\n",
    "\n",
    "        if data:\n",
    "            pros = data.find_all('div', class_= 'sg-col-4-of-24 sg-col-4-of-12 s-result-item s-asin sg-col-4-of-16 sg-col s-widget-spacing-small sg-col-4-of-20')\n",
    "            #driver.get(link)\n",
    "            \n",
    "            for pro in pros:\n",
    "                \n",
    "                try:\n",
    "                    # Product details section\n",
    "                    product_detail = pro.find('a', class_ = 'a-link-normal s-no-outline')\n",
    "\n",
    "                    product_link   = 'https://www.amazon.in' + product_detail.get('href')\n",
    "                    product_img    = product_detail.find('img')\n",
    "\n",
    "                    product_name   = product_img   .get('alt')\n",
    "                    product_img    = product_img   .get('src')\n",
    "\n",
    "                    # rating section\n",
    "\n",
    "                    ratings        = pro.find('div', class_ ='a-section a-spacing-none a-spacing-top-micro')\n",
    "\n",
    "                    if ratings:\n",
    "                        ratings    = [i.get('aria-label') for i in ratings.find_all('span')] \n",
    "                        ratings    = list(filter(lambda x: x is not None,ratings))\n",
    "                    else:\n",
    "                        ratings    = []  \n",
    "\n",
    "                    # price section\n",
    "\n",
    "                    prices          = pro.find('div', class_ = 'a-section a-spacing-none a-spacing-top-small s-price-instructions-style') \n",
    "\n",
    "                    prices          = [i.text for i in prices.find_all('span',class_ ='a-offscreen')] if prices else [np.nan] * 2\n",
    "\n",
    "                    products['main_category' ].append( main_category         )\n",
    "                    products['sub_category'  ].append( sub_category          )\n",
    "\n",
    "                    products['name'          ].append( product_name          )\n",
    "                    products['image'         ].append( product_img           )\n",
    "                    products['link'          ].append( product_link          )\n",
    "\n",
    "                    products['ratings'       ].append( ratings[0].split()[0] if len(ratings) == 2 else np.nan )\n",
    "                    products['no_of_ratings' ].append( ratings[1]            if len(ratings) == 2 else np.nan  )\n",
    "\n",
    "                    products['discount_price'].append(  prices[0] if len(prices) == 2 else np.nan    )\n",
    "                    products['actual_price'  ].append(  prices[1] if len(prices) == 2 else prices[0] if len(prices) == 1 else np.nan )\n",
    "                    \n",
    "                except Exception as e:\n",
    "                    with open(f'error_{qid}_{iteration}.txt','w') as file:\n",
    "                        file.write(f\"category: {sub_category}\")\n",
    "                        file.write(f\"link    : {link}\")\n",
    "                        file.write(\"\\n\")\n",
    "                        file.write(str(e))\n",
    "                        file.close()\n",
    "                \n",
    "        # check point\n",
    "    product = pd.DataFrame(products)\n",
    "    product.to_csv(f\"{sub_category}.csv\", index = False)\n",
    "\n",
    "    products = { \n",
    "    'name'          :[],\n",
    "    'main_category' :[],\n",
    "    'sub_category'  :[],\n",
    "    'image'         :[],\n",
    "    'link'          :[],\n",
    "    'ratings'       :[],\n",
    "    'no_of_ratings' :[],\n",
    "    'discount_price':[],\n",
    "    'actual_price'  :[],\n",
    "    }\n",
    "#             print(product_link)\n",
    "#             print(product_name)\n",
    "#             print(product_img)\n",
    "#             print(ratings) \n",
    "#             print(prices) \n",
    "#             print()\n",
    "#             break\n",
    "#         break\n",
    "#     break"
   ]
  },
  {
   "cell_type": "code",
   "execution_count": 11,
   "id": "a9f038d4",
   "metadata": {},
   "outputs": [
    {
     "name": "stdout",
     "output_type": "stream",
     "text": [
      "name 9600\n",
      "main_category 9600\n",
      "sub_category 9600\n",
      "image 9600\n",
      "link 9600\n",
      "ratings 9600\n",
      "no_of_ratings 9600\n",
      "discount_price 9600\n",
      "actual_price 9599\n"
     ]
    }
   ],
   "source": [
    "for k,i in products.items():\n",
    "    print(k,len(i))"
   ]
  },
  {
   "cell_type": "code",
   "execution_count": 12,
   "id": "6b24f3c0",
   "metadata": {},
   "outputs": [
    {
     "data": {
      "text/plain": [
       "'https://www.amazon.in/s?rh=n%3A1389203031&fs=true'"
      ]
     },
     "execution_count": 12,
     "metadata": {},
     "output_type": "execute_result"
    }
   ],
   "source": [
    "base_link"
   ]
  },
  {
   "cell_type": "code",
   "execution_count": 13,
   "id": "a73ef649",
   "metadata": {},
   "outputs": [
    {
     "data": {
      "text/plain": [
       "'https://www.amazon.in/s?rh=n%3A1389203031&fs=true&page=400&qid=1678609832.0'"
      ]
     },
     "execution_count": 13,
     "metadata": {},
     "output_type": "execute_result"
    }
   ],
   "source": [
    "link"
   ]
  },
  {
   "cell_type": "code",
   "execution_count": null,
   "id": "a106fbb6",
   "metadata": {},
   "outputs": [],
   "source": []
  }
 ],
 "metadata": {
  "kernelspec": {
   "display_name": "Python 3 (ipykernel)",
   "language": "python",
   "name": "python3"
  },
  "language_info": {
   "codemirror_mode": {
    "name": "ipython",
    "version": 3
   },
   "file_extension": ".py",
   "mimetype": "text/x-python",
   "name": "python",
   "nbconvert_exporter": "python",
   "pygments_lexer": "ipython3",
   "version": "3.9.12"
  }
 },
 "nbformat": 4,
 "nbformat_minor": 5
}
