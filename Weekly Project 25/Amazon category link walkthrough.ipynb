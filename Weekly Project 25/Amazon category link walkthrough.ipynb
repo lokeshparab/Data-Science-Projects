{
 "cells": [
  {
   "cell_type": "code",
   "execution_count": 75,
   "id": "c3f4acb8",
   "metadata": {},
   "outputs": [],
   "source": [
    "import pandas as pd\n",
    "import re\n",
    "import requests as rq\n",
    "\n",
    "from selenium import webdriver      as wd\n",
    "from bs4      import BeautifulSoup  as BS\n",
    "from tqdm     import tqdm"
   ]
  },
  {
   "cell_type": "code",
   "execution_count": 11,
   "id": "715ad311",
   "metadata": {},
   "outputs": [
    {
     "data": {
      "text/html": [
       "<div>\n",
       "<style scoped>\n",
       "    .dataframe tbody tr th:only-of-type {\n",
       "        vertical-align: middle;\n",
       "    }\n",
       "\n",
       "    .dataframe tbody tr th {\n",
       "        vertical-align: top;\n",
       "    }\n",
       "\n",
       "    .dataframe thead th {\n",
       "        text-align: right;\n",
       "    }\n",
       "</style>\n",
       "<table border=\"1\" class=\"dataframe\">\n",
       "  <thead>\n",
       "    <tr style=\"text-align: right;\">\n",
       "      <th></th>\n",
       "      <th>maincategory</th>\n",
       "      <th>subcategory</th>\n",
       "      <th>category</th>\n",
       "      <th>link</th>\n",
       "    </tr>\n",
       "  </thead>\n",
       "  <tbody>\n",
       "    <tr>\n",
       "      <th>0</th>\n",
       "      <td>0</td>\n",
       "      <td>tv, audio &amp; cameras</td>\n",
       "      <td>Televisions</td>\n",
       "      <td>https://www.amazon.in/gp/browse.html?node=1389...</td>\n",
       "    </tr>\n",
       "    <tr>\n",
       "      <th>1</th>\n",
       "      <td>0</td>\n",
       "      <td>tv, audio &amp; cameras</td>\n",
       "      <td>Home Entertainment Systems</td>\n",
       "      <td>https://www.amazon.in/gp/browse.html?node=1389...</td>\n",
       "    </tr>\n",
       "    <tr>\n",
       "      <th>2</th>\n",
       "      <td>0</td>\n",
       "      <td>tv, audio &amp; cameras</td>\n",
       "      <td>Headphones</td>\n",
       "      <td>https://www.amazon.in/gp/browse.html?node=1388...</td>\n",
       "    </tr>\n",
       "    <tr>\n",
       "      <th>3</th>\n",
       "      <td>0</td>\n",
       "      <td>tv, audio &amp; cameras</td>\n",
       "      <td>Speakers</td>\n",
       "      <td>https://www.amazon.in/gp/browse.html?node=1389...</td>\n",
       "    </tr>\n",
       "    <tr>\n",
       "      <th>4</th>\n",
       "      <td>0</td>\n",
       "      <td>tv, audio &amp; cameras</td>\n",
       "      <td>Home Audio &amp; Theater</td>\n",
       "      <td>https://www.amazon.in/gp/browse.html?node=1389...</td>\n",
       "    </tr>\n",
       "  </tbody>\n",
       "</table>\n",
       "</div>"
      ],
      "text/plain": [
       "   maincategory          subcategory                    category  \\\n",
       "0             0  tv, audio & cameras                 Televisions   \n",
       "1             0  tv, audio & cameras  Home Entertainment Systems   \n",
       "2             0  tv, audio & cameras                  Headphones   \n",
       "3             0  tv, audio & cameras                    Speakers   \n",
       "4             0  tv, audio & cameras        Home Audio & Theater   \n",
       "\n",
       "                                                link  \n",
       "0  https://www.amazon.in/gp/browse.html?node=1389...  \n",
       "1  https://www.amazon.in/gp/browse.html?node=1389...  \n",
       "2  https://www.amazon.in/gp/browse.html?node=1388...  \n",
       "3  https://www.amazon.in/gp/browse.html?node=1389...  \n",
       "4  https://www.amazon.in/gp/browse.html?node=1389...  "
      ]
     },
     "execution_count": 11,
     "metadata": {},
     "output_type": "execute_result"
    }
   ],
   "source": [
    "df = pd.read_csv('Amazon_category.csv')\n",
    "df.head()"
   ]
  },
  {
   "cell_type": "markdown",
   "id": "db1cddd6",
   "metadata": {},
   "source": [
    "# Generate alternate link"
   ]
  },
  {
   "cell_type": "code",
   "execution_count": 12,
   "id": "6a53fbe7",
   "metadata": {},
   "outputs": [],
   "source": [
    "def links(link):\n",
    "    node_pattern = r'node=(\\d+)'\n",
    "    node_match = re.search(node_pattern, link)\n",
    "    \n",
    "    if node_match:\n",
    "        node_value = node_match.group(1)\n",
    "        sec_link = f'https://www.amazon.in/s?rh=n%3A{node_value}&fs=true'\n",
    "        return sec_link\n",
    "    else:\n",
    "        return float('nan')\n",
    "    \n",
    "df['alt_link'] = df['link'].apply(links)"
   ]
  },
  {
   "cell_type": "code",
   "execution_count": 13,
   "id": "4471a8b0",
   "metadata": {},
   "outputs": [
    {
     "data": {
      "text/html": [
       "<div>\n",
       "<style scoped>\n",
       "    .dataframe tbody tr th:only-of-type {\n",
       "        vertical-align: middle;\n",
       "    }\n",
       "\n",
       "    .dataframe tbody tr th {\n",
       "        vertical-align: top;\n",
       "    }\n",
       "\n",
       "    .dataframe thead th {\n",
       "        text-align: right;\n",
       "    }\n",
       "</style>\n",
       "<table border=\"1\" class=\"dataframe\">\n",
       "  <thead>\n",
       "    <tr style=\"text-align: right;\">\n",
       "      <th></th>\n",
       "      <th>maincategory</th>\n",
       "      <th>subcategory</th>\n",
       "      <th>category</th>\n",
       "      <th>link</th>\n",
       "      <th>alt_link</th>\n",
       "    </tr>\n",
       "  </thead>\n",
       "  <tbody>\n",
       "    <tr>\n",
       "      <th>0</th>\n",
       "      <td>0</td>\n",
       "      <td>tv, audio &amp; cameras</td>\n",
       "      <td>Televisions</td>\n",
       "      <td>https://www.amazon.in/gp/browse.html?node=1389...</td>\n",
       "      <td>https://www.amazon.in/s?rh=n%3A1389396031&amp;fs=true</td>\n",
       "    </tr>\n",
       "    <tr>\n",
       "      <th>1</th>\n",
       "      <td>0</td>\n",
       "      <td>tv, audio &amp; cameras</td>\n",
       "      <td>Home Entertainment Systems</td>\n",
       "      <td>https://www.amazon.in/gp/browse.html?node=1389...</td>\n",
       "      <td>https://www.amazon.in/s?rh=n%3A1389375031&amp;fs=true</td>\n",
       "    </tr>\n",
       "    <tr>\n",
       "      <th>2</th>\n",
       "      <td>0</td>\n",
       "      <td>tv, audio &amp; cameras</td>\n",
       "      <td>Headphones</td>\n",
       "      <td>https://www.amazon.in/gp/browse.html?node=1388...</td>\n",
       "      <td>https://www.amazon.in/s?rh=n%3A1388921031&amp;fs=true</td>\n",
       "    </tr>\n",
       "    <tr>\n",
       "      <th>3</th>\n",
       "      <td>0</td>\n",
       "      <td>tv, audio &amp; cameras</td>\n",
       "      <td>Speakers</td>\n",
       "      <td>https://www.amazon.in/gp/browse.html?node=1389...</td>\n",
       "      <td>https://www.amazon.in/s?rh=n%3A1389365031&amp;fs=true</td>\n",
       "    </tr>\n",
       "    <tr>\n",
       "      <th>4</th>\n",
       "      <td>0</td>\n",
       "      <td>tv, audio &amp; cameras</td>\n",
       "      <td>Home Audio &amp; Theater</td>\n",
       "      <td>https://www.amazon.in/gp/browse.html?node=1389...</td>\n",
       "      <td>https://www.amazon.in/s?rh=n%3A1389387031&amp;fs=true</td>\n",
       "    </tr>\n",
       "  </tbody>\n",
       "</table>\n",
       "</div>"
      ],
      "text/plain": [
       "   maincategory          subcategory                    category  \\\n",
       "0             0  tv, audio & cameras                 Televisions   \n",
       "1             0  tv, audio & cameras  Home Entertainment Systems   \n",
       "2             0  tv, audio & cameras                  Headphones   \n",
       "3             0  tv, audio & cameras                    Speakers   \n",
       "4             0  tv, audio & cameras        Home Audio & Theater   \n",
       "\n",
       "                                                link  \\\n",
       "0  https://www.amazon.in/gp/browse.html?node=1389...   \n",
       "1  https://www.amazon.in/gp/browse.html?node=1389...   \n",
       "2  https://www.amazon.in/gp/browse.html?node=1388...   \n",
       "3  https://www.amazon.in/gp/browse.html?node=1389...   \n",
       "4  https://www.amazon.in/gp/browse.html?node=1389...   \n",
       "\n",
       "                                            alt_link  \n",
       "0  https://www.amazon.in/s?rh=n%3A1389396031&fs=true  \n",
       "1  https://www.amazon.in/s?rh=n%3A1389375031&fs=true  \n",
       "2  https://www.amazon.in/s?rh=n%3A1388921031&fs=true  \n",
       "3  https://www.amazon.in/s?rh=n%3A1389365031&fs=true  \n",
       "4  https://www.amazon.in/s?rh=n%3A1389387031&fs=true  "
      ]
     },
     "execution_count": 13,
     "metadata": {},
     "output_type": "execute_result"
    }
   ],
   "source": [
    "df.head()"
   ]
  },
  {
   "cell_type": "code",
   "execution_count": 28,
   "id": "9b566cdc",
   "metadata": {},
   "outputs": [
    {
     "name": "stdout",
     "output_type": "stream",
     "text": [
      "https://www.amazon.in/s?rh=n%3A1389396031&fs=true\n"
     ]
    }
   ],
   "source": [
    "for i in df['alt_link']:\n",
    "    print(i)\n",
    "    break"
   ]
  },
  {
   "cell_type": "markdown",
   "id": "cc6386fe",
   "metadata": {},
   "source": [
    "# Checking status if Alternate link"
   ]
  },
  {
   "cell_type": "code",
   "execution_count": 27,
   "id": "d72f6c49",
   "metadata": {},
   "outputs": [],
   "source": [
    "def iteration_maker(link,driver):\n",
    "    iteration = 0\n",
    "    if type(link) is str:\n",
    "        nxt_link = link\n",
    "        \n",
    "        while True:\n",
    "            \n",
    "            driver.get(nxt_link)\n",
    "\n",
    "            content = BS(driver.page_source,'html.parser')\n",
    "            \n",
    "            if content: iteration += 1\n",
    "\n",
    "            tag = 's-pagination-item s-pagination-next s-pagination-button s-pagination-separator'\n",
    "            nxt_link = content.find('a',class_=tag)\n",
    "            \n",
    "            if nxt_link:\n",
    "                nxt_link = 'https://www.amazon.in' + nxt_link.get('href')\n",
    "    \n",
    "            else: break\n",
    "    return iteration"
   ]
  },
  {
   "cell_type": "markdown",
   "id": "2c880d12",
   "metadata": {},
   "source": [
    "# Counting Iteration"
   ]
  },
  {
   "cell_type": "code",
   "execution_count": 38,
   "id": "603f93a0",
   "metadata": {},
   "outputs": [],
   "source": [
    "def iteration_count(link):\n",
    "    iteration = 0\n",
    "    if type(link) is str:\n",
    "        nxt_link = link\n",
    "\n",
    "            \n",
    "        driver.get(nxt_link)\n",
    "\n",
    "        content = BS(driver.page_source,'html.parser')\n",
    "        \n",
    "        tag = 's-pagination-item s-pagination-disabled'\n",
    "        \n",
    "        data = content.find('span',tag)\n",
    "        \n",
    "        iteration = int(data.text.strip()) if data else 0\n",
    "        \n",
    "        \n",
    "    return iteration"
   ]
  },
  {
   "cell_type": "code",
   "execution_count": 39,
   "id": "0a461635",
   "metadata": {},
   "outputs": [],
   "source": [
    "# driver = wd.Chrome('webdriver/chromedriver.exe')\n",
    "# _,data = iteration_count('https://www.amazon.in/s?rh=n%3A1389396031&fs=true',driver)"
   ]
  },
  {
   "cell_type": "code",
   "execution_count": 40,
   "id": "5b278dfc",
   "metadata": {},
   "outputs": [
    {
     "name": "stderr",
     "output_type": "stream",
     "text": [
      "C:\\Users\\ASUS\\AppData\\Local\\Temp\\ipykernel_21100\\1340774941.py:1: DeprecationWarning: executable_path has been deprecated, please pass in a Service object\n",
      "  driver = wd.Chrome('webdriver/chromedriver.exe')\n"
     ]
    }
   ],
   "source": [
    "driver = wd.Chrome('webdriver/chromedriver.exe')\n",
    "df['iteration'] = df['alt_link'].apply(iteration_count)"
   ]
  },
  {
   "cell_type": "code",
   "execution_count": 41,
   "id": "ad31192d",
   "metadata": {},
   "outputs": [
    {
     "data": {
      "text/html": [
       "<div>\n",
       "<style scoped>\n",
       "    .dataframe tbody tr th:only-of-type {\n",
       "        vertical-align: middle;\n",
       "    }\n",
       "\n",
       "    .dataframe tbody tr th {\n",
       "        vertical-align: top;\n",
       "    }\n",
       "\n",
       "    .dataframe thead th {\n",
       "        text-align: right;\n",
       "    }\n",
       "</style>\n",
       "<table border=\"1\" class=\"dataframe\">\n",
       "  <thead>\n",
       "    <tr style=\"text-align: right;\">\n",
       "      <th></th>\n",
       "      <th>maincategory</th>\n",
       "      <th>subcategory</th>\n",
       "      <th>category</th>\n",
       "      <th>link</th>\n",
       "      <th>alt_link</th>\n",
       "      <th>iteration</th>\n",
       "    </tr>\n",
       "  </thead>\n",
       "  <tbody>\n",
       "    <tr>\n",
       "      <th>0</th>\n",
       "      <td>0</td>\n",
       "      <td>tv, audio &amp; cameras</td>\n",
       "      <td>Televisions</td>\n",
       "      <td>https://www.amazon.in/gp/browse.html?node=1389...</td>\n",
       "      <td>https://www.amazon.in/s?rh=n%3A1389396031&amp;fs=true</td>\n",
       "      <td>46</td>\n",
       "    </tr>\n",
       "    <tr>\n",
       "      <th>1</th>\n",
       "      <td>0</td>\n",
       "      <td>tv, audio &amp; cameras</td>\n",
       "      <td>Home Entertainment Systems</td>\n",
       "      <td>https://www.amazon.in/gp/browse.html?node=1389...</td>\n",
       "      <td>https://www.amazon.in/s?rh=n%3A1389375031&amp;fs=true</td>\n",
       "      <td>400</td>\n",
       "    </tr>\n",
       "    <tr>\n",
       "      <th>2</th>\n",
       "      <td>0</td>\n",
       "      <td>tv, audio &amp; cameras</td>\n",
       "      <td>Headphones</td>\n",
       "      <td>https://www.amazon.in/gp/browse.html?node=1388...</td>\n",
       "      <td>https://www.amazon.in/s?rh=n%3A1388921031&amp;fs=true</td>\n",
       "      <td>400</td>\n",
       "    </tr>\n",
       "    <tr>\n",
       "      <th>3</th>\n",
       "      <td>0</td>\n",
       "      <td>tv, audio &amp; cameras</td>\n",
       "      <td>Speakers</td>\n",
       "      <td>https://www.amazon.in/gp/browse.html?node=1389...</td>\n",
       "      <td>https://www.amazon.in/s?rh=n%3A1389365031&amp;fs=true</td>\n",
       "      <td>400</td>\n",
       "    </tr>\n",
       "    <tr>\n",
       "      <th>4</th>\n",
       "      <td>0</td>\n",
       "      <td>tv, audio &amp; cameras</td>\n",
       "      <td>Home Audio &amp; Theater</td>\n",
       "      <td>https://www.amazon.in/gp/browse.html?node=1389...</td>\n",
       "      <td>https://www.amazon.in/s?rh=n%3A1389387031&amp;fs=true</td>\n",
       "      <td>18</td>\n",
       "    </tr>\n",
       "  </tbody>\n",
       "</table>\n",
       "</div>"
      ],
      "text/plain": [
       "   maincategory          subcategory                    category  \\\n",
       "0             0  tv, audio & cameras                 Televisions   \n",
       "1             0  tv, audio & cameras  Home Entertainment Systems   \n",
       "2             0  tv, audio & cameras                  Headphones   \n",
       "3             0  tv, audio & cameras                    Speakers   \n",
       "4             0  tv, audio & cameras        Home Audio & Theater   \n",
       "\n",
       "                                                link  \\\n",
       "0  https://www.amazon.in/gp/browse.html?node=1389...   \n",
       "1  https://www.amazon.in/gp/browse.html?node=1389...   \n",
       "2  https://www.amazon.in/gp/browse.html?node=1388...   \n",
       "3  https://www.amazon.in/gp/browse.html?node=1389...   \n",
       "4  https://www.amazon.in/gp/browse.html?node=1389...   \n",
       "\n",
       "                                            alt_link  iteration  \n",
       "0  https://www.amazon.in/s?rh=n%3A1389396031&fs=true         46  \n",
       "1  https://www.amazon.in/s?rh=n%3A1389375031&fs=true        400  \n",
       "2  https://www.amazon.in/s?rh=n%3A1388921031&fs=true        400  \n",
       "3  https://www.amazon.in/s?rh=n%3A1389365031&fs=true        400  \n",
       "4  https://www.amazon.in/s?rh=n%3A1389387031&fs=true         18  "
      ]
     },
     "execution_count": 41,
     "metadata": {},
     "output_type": "execute_result"
    }
   ],
   "source": [
    "df.head()"
   ]
  },
  {
   "cell_type": "code",
   "execution_count": 43,
   "id": "47a54b4a",
   "metadata": {},
   "outputs": [
    {
     "data": {
      "text/plain": [
       "30"
      ]
     },
     "execution_count": 43,
     "metadata": {},
     "output_type": "execute_result"
    }
   ],
   "source": [
    "df['iteration'].nunique()"
   ]
  },
  {
   "cell_type": "code",
   "execution_count": 45,
   "id": "20c3ea80",
   "metadata": {},
   "outputs": [],
   "source": [
    "df.to_csv('Amazon_link_details.csv',index = False)"
   ]
  },
  {
   "cell_type": "code",
   "execution_count": 46,
   "id": "d1990035",
   "metadata": {},
   "outputs": [
    {
     "data": {
      "text/plain": [
       "count    165.000000\n",
       "mean     289.703030\n",
       "std      167.464893\n",
       "min        0.000000\n",
       "25%       75.000000\n",
       "50%      400.000000\n",
       "75%      400.000000\n",
       "max      400.000000\n",
       "Name: iteration, dtype: float64"
      ]
     },
     "execution_count": 46,
     "metadata": {},
     "output_type": "execute_result"
    }
   ],
   "source": [
    "df['iteration'].describe()"
   ]
  },
  {
   "cell_type": "code",
   "execution_count": 47,
   "id": "962d0685",
   "metadata": {},
   "outputs": [
    {
     "data": {
      "text/plain": [
       "array([ 46, 400,  18,   0,  10,  30,  90,  60, 300,  12, 311, 317,  15,\n",
       "        14, 147,  20,   7,  94,   8, 195, 291,  13,   9,  17, 284, 277,\n",
       "        75, 172,   6,  56], dtype=int64)"
      ]
     },
     "execution_count": 47,
     "metadata": {},
     "output_type": "execute_result"
    }
   ],
   "source": [
    "df['iteration'].unique()"
   ]
  },
  {
   "cell_type": "code",
   "execution_count": 49,
   "id": "488d4835",
   "metadata": {},
   "outputs": [
    {
     "data": {
      "text/plain": [
       "45"
      ]
     },
     "execution_count": 49,
     "metadata": {},
     "output_type": "execute_result"
    }
   ],
   "source": [
    "len(df[df['iteration'] < 100])"
   ]
  },
  {
   "cell_type": "code",
   "execution_count": 61,
   "id": "2a853ffc",
   "metadata": {},
   "outputs": [
    {
     "name": "stdout",
     "output_type": "stream",
     "text": [
      "DSLR Cameras https://www.amazon.in/s?rh=n%3A1389177031&fs=true\n",
      "0\n",
      "Men's Handlooms https://www.amazon.in/s?rh=n%3A11969751031&fs=true\n",
      "0\n",
      "Top Brands nan\n",
      "0\n",
      "Handloom & Handicraft Store https://www.amazon.in/s?rh=n%3A11971792031&fs=true\n",
      "0\n",
      "Sportswear https://www.amazon.in/s?rh=n%3A12302884031&fs=true\n",
      "0\n",
      "Explore Showroom nan\n",
      "0\n",
      "Shop by Room https://www.amazon.in/s?rh=n%3A10892568031&fs=true\n",
      "0\n",
      "Home & Kitchen Deals https://www.amazon.in/s?rh=n%3A4916278031&fs=true\n",
      "0\n",
      "Refurbished & Open Box https://www.amazon.in/s?rh=n%3A15290772031&fs=true\n",
      "0\n",
      "Editor's Corner https://www.amazon.in/s?rh=n%3A10591963031&fs=true\n",
      "0\n",
      "Audible Audiobooks & more https://www.amazon.in/s?rh=n%3A11477925031&fs=true\n",
      "0\n",
      "Audible Membership nan\n",
      "0\n",
      "Latest Video Games https://www.amazon.in/s?rh=n%3A4069183031&fs=true\n",
      "0\n",
      "Open web player nan\n",
      "0\n",
      "Amazon Prime Music nan\n",
      "0\n"
     ]
    }
   ],
   "source": [
    "for c,l,i in df[df['iteration'] < 6][['category','alt_link','iteration']].values:\n",
    "    print(c,l)\n",
    "    print(i)"
   ]
  },
  {
   "cell_type": "code",
   "execution_count": 60,
   "id": "9d5698e4",
   "metadata": {},
   "outputs": [
    {
     "data": {
      "text/html": [
       "<div>\n",
       "<style scoped>\n",
       "    .dataframe tbody tr th:only-of-type {\n",
       "        vertical-align: middle;\n",
       "    }\n",
       "\n",
       "    .dataframe tbody tr th {\n",
       "        vertical-align: top;\n",
       "    }\n",
       "\n",
       "    .dataframe thead th {\n",
       "        text-align: right;\n",
       "    }\n",
       "</style>\n",
       "<table border=\"1\" class=\"dataframe\">\n",
       "  <thead>\n",
       "    <tr style=\"text-align: right;\">\n",
       "      <th></th>\n",
       "      <th>maincategory</th>\n",
       "      <th>subcategory</th>\n",
       "      <th>category</th>\n",
       "      <th>link</th>\n",
       "      <th>alt_link</th>\n",
       "      <th>iteration</th>\n",
       "    </tr>\n",
       "  </thead>\n",
       "  <tbody>\n",
       "    <tr>\n",
       "      <th>6</th>\n",
       "      <td>0</td>\n",
       "      <td>tv, audio &amp; cameras</td>\n",
       "      <td>DSLR Cameras</td>\n",
       "      <td>https://www.amazon.in/gp/browse.html?node=1389...</td>\n",
       "      <td>https://www.amazon.in/s?rh=n%3A1389177031&amp;fs=true</td>\n",
       "      <td>0</td>\n",
       "    </tr>\n",
       "    <tr>\n",
       "      <th>36</th>\n",
       "      <td>1</td>\n",
       "      <td>stores</td>\n",
       "      <td>Men's Handlooms</td>\n",
       "      <td>https://www.amazon.in/gp/browse.html?node=1196...</td>\n",
       "      <td>https://www.amazon.in/s?rh=n%3A11969751031&amp;fs=...</td>\n",
       "      <td>0</td>\n",
       "    </tr>\n",
       "    <tr>\n",
       "      <th>42</th>\n",
       "      <td>2</td>\n",
       "      <td>women's clothing</td>\n",
       "      <td>Top Brands</td>\n",
       "      <td>https://www.amazon.in/s?bbn=1953602031&amp;lo=appa...</td>\n",
       "      <td>NaN</td>\n",
       "      <td>0</td>\n",
       "    </tr>\n",
       "    <tr>\n",
       "      <th>52</th>\n",
       "      <td>2</td>\n",
       "      <td>stores</td>\n",
       "      <td>Handloom &amp; Handicraft Store</td>\n",
       "      <td>https://www.amazon.in/gp/browse.html?node=1197...</td>\n",
       "      <td>https://www.amazon.in/s?rh=n%3A11971792031&amp;fs=...</td>\n",
       "      <td>0</td>\n",
       "    </tr>\n",
       "    <tr>\n",
       "      <th>53</th>\n",
       "      <td>2</td>\n",
       "      <td>stores</td>\n",
       "      <td>Sportswear</td>\n",
       "      <td>https://www.amazon.in/gp/browse.html?node=1230...</td>\n",
       "      <td>https://www.amazon.in/s?rh=n%3A12302884031&amp;fs=...</td>\n",
       "      <td>0</td>\n",
       "    </tr>\n",
       "    <tr>\n",
       "      <th>57</th>\n",
       "      <td>3</td>\n",
       "      <td>home &amp; kitchen</td>\n",
       "      <td>Explore Showroom</td>\n",
       "      <td>https://www.amazon.in/showroom?ref_=nav_em_srm...</td>\n",
       "      <td>NaN</td>\n",
       "      <td>0</td>\n",
       "    </tr>\n",
       "    <tr>\n",
       "      <th>71</th>\n",
       "      <td>3</td>\n",
       "      <td>home &amp; kitchen</td>\n",
       "      <td>Shop by Room</td>\n",
       "      <td>https://www.amazon.in/gp/browse.html?node=1089...</td>\n",
       "      <td>https://www.amazon.in/s?rh=n%3A10892568031&amp;fs=...</td>\n",
       "      <td>0</td>\n",
       "    </tr>\n",
       "    <tr>\n",
       "      <th>72</th>\n",
       "      <td>3</td>\n",
       "      <td>home &amp; kitchen</td>\n",
       "      <td>Home &amp; Kitchen Deals</td>\n",
       "      <td>https://www.amazon.in/gp/browse.html?node=4916...</td>\n",
       "      <td>https://www.amazon.in/s?rh=n%3A4916278031&amp;fs=true</td>\n",
       "      <td>0</td>\n",
       "    </tr>\n",
       "    <tr>\n",
       "      <th>100</th>\n",
       "      <td>5</td>\n",
       "      <td>sports &amp; fitness</td>\n",
       "      <td>Refurbished &amp; Open Box</td>\n",
       "      <td>https://www.amazon.in/gp/browse.html?node=1529...</td>\n",
       "      <td>https://www.amazon.in/s?rh=n%3A15290772031&amp;fs=...</td>\n",
       "      <td>0</td>\n",
       "    </tr>\n",
       "    <tr>\n",
       "      <th>138</th>\n",
       "      <td>8</td>\n",
       "      <td>books</td>\n",
       "      <td>Editor's Corner</td>\n",
       "      <td>https://www.amazon.in/gp/browse.html?node=1059...</td>\n",
       "      <td>https://www.amazon.in/s?rh=n%3A10591963031&amp;fs=...</td>\n",
       "      <td>0</td>\n",
       "    </tr>\n",
       "    <tr>\n",
       "      <th>145</th>\n",
       "      <td>8</td>\n",
       "      <td>audible audiobooks</td>\n",
       "      <td>Audible Audiobooks &amp; more</td>\n",
       "      <td>https://www.amazon.in/gp/browse.html?node=1147...</td>\n",
       "      <td>https://www.amazon.in/s?rh=n%3A11477925031&amp;fs=...</td>\n",
       "      <td>0</td>\n",
       "    </tr>\n",
       "    <tr>\n",
       "      <th>146</th>\n",
       "      <td>8</td>\n",
       "      <td>audible audiobooks</td>\n",
       "      <td>Audible Membership</td>\n",
       "      <td>https://www.amazon.in/dp/B077S5CVBQ?ref_=nav_e...</td>\n",
       "      <td>NaN</td>\n",
       "      <td>0</td>\n",
       "    </tr>\n",
       "    <tr>\n",
       "      <th>153</th>\n",
       "      <td>9</td>\n",
       "      <td>video games</td>\n",
       "      <td>Latest Video Games</td>\n",
       "      <td>https://www.amazon.in/gp/browse.html?node=4069...</td>\n",
       "      <td>https://www.amazon.in/s?rh=n%3A4069183031&amp;fs=true</td>\n",
       "      <td>0</td>\n",
       "    </tr>\n",
       "    <tr>\n",
       "      <th>163</th>\n",
       "      <td>9</td>\n",
       "      <td>stream music</td>\n",
       "      <td>Open web player</td>\n",
       "      <td>https://music.amazon.in/home?ref_=nav_em_dmm_i...</td>\n",
       "      <td>NaN</td>\n",
       "      <td>0</td>\n",
       "    </tr>\n",
       "    <tr>\n",
       "      <th>164</th>\n",
       "      <td>9</td>\n",
       "      <td>stream music</td>\n",
       "      <td>Amazon Prime Music</td>\n",
       "      <td>http://www.amazon.in/music/prime?ref_=nav_em_d...</td>\n",
       "      <td>NaN</td>\n",
       "      <td>0</td>\n",
       "    </tr>\n",
       "  </tbody>\n",
       "</table>\n",
       "</div>"
      ],
      "text/plain": [
       "     maincategory          subcategory                     category  \\\n",
       "6               0  tv, audio & cameras                 DSLR Cameras   \n",
       "36              1               stores              Men's Handlooms   \n",
       "42              2     women's clothing                   Top Brands   \n",
       "52              2               stores  Handloom & Handicraft Store   \n",
       "53              2               stores                   Sportswear   \n",
       "57              3       home & kitchen             Explore Showroom   \n",
       "71              3       home & kitchen                 Shop by Room   \n",
       "72              3       home & kitchen         Home & Kitchen Deals   \n",
       "100             5     sports & fitness       Refurbished & Open Box   \n",
       "138             8                books              Editor's Corner   \n",
       "145             8   audible audiobooks    Audible Audiobooks & more   \n",
       "146             8   audible audiobooks           Audible Membership   \n",
       "153             9          video games           Latest Video Games   \n",
       "163             9         stream music              Open web player   \n",
       "164             9         stream music           Amazon Prime Music   \n",
       "\n",
       "                                                  link  \\\n",
       "6    https://www.amazon.in/gp/browse.html?node=1389...   \n",
       "36   https://www.amazon.in/gp/browse.html?node=1196...   \n",
       "42   https://www.amazon.in/s?bbn=1953602031&lo=appa...   \n",
       "52   https://www.amazon.in/gp/browse.html?node=1197...   \n",
       "53   https://www.amazon.in/gp/browse.html?node=1230...   \n",
       "57   https://www.amazon.in/showroom?ref_=nav_em_srm...   \n",
       "71   https://www.amazon.in/gp/browse.html?node=1089...   \n",
       "72   https://www.amazon.in/gp/browse.html?node=4916...   \n",
       "100  https://www.amazon.in/gp/browse.html?node=1529...   \n",
       "138  https://www.amazon.in/gp/browse.html?node=1059...   \n",
       "145  https://www.amazon.in/gp/browse.html?node=1147...   \n",
       "146  https://www.amazon.in/dp/B077S5CVBQ?ref_=nav_e...   \n",
       "153  https://www.amazon.in/gp/browse.html?node=4069...   \n",
       "163  https://music.amazon.in/home?ref_=nav_em_dmm_i...   \n",
       "164  http://www.amazon.in/music/prime?ref_=nav_em_d...   \n",
       "\n",
       "                                              alt_link  iteration  \n",
       "6    https://www.amazon.in/s?rh=n%3A1389177031&fs=true          0  \n",
       "36   https://www.amazon.in/s?rh=n%3A11969751031&fs=...          0  \n",
       "42                                                 NaN          0  \n",
       "52   https://www.amazon.in/s?rh=n%3A11971792031&fs=...          0  \n",
       "53   https://www.amazon.in/s?rh=n%3A12302884031&fs=...          0  \n",
       "57                                                 NaN          0  \n",
       "71   https://www.amazon.in/s?rh=n%3A10892568031&fs=...          0  \n",
       "72   https://www.amazon.in/s?rh=n%3A4916278031&fs=true          0  \n",
       "100  https://www.amazon.in/s?rh=n%3A15290772031&fs=...          0  \n",
       "138  https://www.amazon.in/s?rh=n%3A10591963031&fs=...          0  \n",
       "145  https://www.amazon.in/s?rh=n%3A11477925031&fs=...          0  \n",
       "146                                                NaN          0  \n",
       "153  https://www.amazon.in/s?rh=n%3A4069183031&fs=true          0  \n",
       "163                                                NaN          0  \n",
       "164                                                NaN          0  "
      ]
     },
     "execution_count": 60,
     "metadata": {},
     "output_type": "execute_result"
    }
   ],
   "source": [
    "df[df['iteration'] < 6]"
   ]
  },
  {
   "cell_type": "markdown",
   "id": "25ac0c8f",
   "metadata": {},
   "source": [
    "# Getting qid and ref"
   ]
  },
  {
   "cell_type": "code",
   "execution_count": 79,
   "id": "f1820e06",
   "metadata": {},
   "outputs": [
    {
     "name": "stderr",
     "output_type": "stream",
     "text": [
      "C:\\Users\\ASUS\\AppData\\Local\\Temp\\ipykernel_21100\\351777777.py:6: DeprecationWarning: executable_path has been deprecated, please pass in a Service object\n",
      "  driver = wd.Chrome('webdriver/chromedriver.exe')\n",
      "100%|████████████████████████████████████████████████████████████████████████████████| 165/165 [06:15<00:00,  2.28s/it]\n"
     ]
    }
   ],
   "source": [
    "dct = {\n",
    "    'qid':[],\n",
    "    'ref':[]\n",
    "}\n",
    "\n",
    "driver = wd.Chrome('webdriver/chromedriver.exe')\n",
    "for l,i in tqdm(df[['alt_link','iteration']].values):\n",
    "    #print(l)\n",
    "    \n",
    "    if i != 0:\n",
    "        driver.get(l)\n",
    "\n",
    "        content = BS(driver.page_source , 'html.parser')\n",
    "\n",
    "        tag = 's-pagination-item s-pagination-next s-pagination-button s-pagination-separator'\n",
    "        nxt_link = content.find('a',class_=tag)\n",
    "        nxt_link = nxt_link.get('href')\n",
    "        #print('https://www.amazon.in' + nxt_link)\n",
    "        \n",
    "        node_pattern = r'qid=(\\d+)&ref=([a-zA-Z0-9_]+)'\n",
    "        node_match = re.search(node_pattern, nxt_link)\n",
    "\n",
    "        qid = node_match.group(1)\n",
    "        ref = node_match.group(2)\n",
    "            #print(qid,ref)\n",
    "    else:\n",
    "        #print('None')\n",
    "        qid = float('nan')\n",
    "        ref = float('nan')\n",
    "        \n",
    "    dct['qid'].append(qid)\n",
    "    dct['ref'].append(ref)\n",
    "\n",
    "df_ = pd.DataFrame(dct)"
   ]
  },
  {
   "cell_type": "code",
   "execution_count": 80,
   "id": "5dc0361d",
   "metadata": {},
   "outputs": [
    {
     "name": "stdout",
     "output_type": "stream",
     "text": [
      "<class 'pandas.core.frame.DataFrame'>\n",
      "RangeIndex: 165 entries, 0 to 164\n",
      "Data columns (total 2 columns):\n",
      " #   Column  Non-Null Count  Dtype \n",
      "---  ------  --------------  ----- \n",
      " 0   qid     150 non-null    object\n",
      " 1   ref     150 non-null    object\n",
      "dtypes: object(2)\n",
      "memory usage: 2.7+ KB\n"
     ]
    }
   ],
   "source": [
    "df_.info()"
   ]
  },
  {
   "cell_type": "code",
   "execution_count": 83,
   "id": "9ceedec7",
   "metadata": {},
   "outputs": [
    {
     "data": {
      "text/plain": [
       "array(['sr_pg_1', nan], dtype=object)"
      ]
     },
     "execution_count": 83,
     "metadata": {},
     "output_type": "execute_result"
    }
   ],
   "source": [
    "df_['ref'].unique()"
   ]
  },
  {
   "cell_type": "code",
   "execution_count": 81,
   "id": "10bdbe59",
   "metadata": {},
   "outputs": [
    {
     "data": {
      "text/html": [
       "<div>\n",
       "<style scoped>\n",
       "    .dataframe tbody tr th:only-of-type {\n",
       "        vertical-align: middle;\n",
       "    }\n",
       "\n",
       "    .dataframe tbody tr th {\n",
       "        vertical-align: top;\n",
       "    }\n",
       "\n",
       "    .dataframe thead th {\n",
       "        text-align: right;\n",
       "    }\n",
       "</style>\n",
       "<table border=\"1\" class=\"dataframe\">\n",
       "  <thead>\n",
       "    <tr style=\"text-align: right;\">\n",
       "      <th></th>\n",
       "      <th>qid</th>\n",
       "      <th>ref</th>\n",
       "    </tr>\n",
       "  </thead>\n",
       "  <tbody>\n",
       "    <tr>\n",
       "      <th>0</th>\n",
       "      <td>1678609818</td>\n",
       "      <td>sr_pg_1</td>\n",
       "    </tr>\n",
       "    <tr>\n",
       "      <th>1</th>\n",
       "      <td>1678609821</td>\n",
       "      <td>sr_pg_1</td>\n",
       "    </tr>\n",
       "    <tr>\n",
       "      <th>2</th>\n",
       "      <td>1678609823</td>\n",
       "      <td>sr_pg_1</td>\n",
       "    </tr>\n",
       "    <tr>\n",
       "      <th>3</th>\n",
       "      <td>1678609825</td>\n",
       "      <td>sr_pg_1</td>\n",
       "    </tr>\n",
       "    <tr>\n",
       "      <th>4</th>\n",
       "      <td>1678609827</td>\n",
       "      <td>sr_pg_1</td>\n",
       "    </tr>\n",
       "  </tbody>\n",
       "</table>\n",
       "</div>"
      ],
      "text/plain": [
       "          qid      ref\n",
       "0  1678609818  sr_pg_1\n",
       "1  1678609821  sr_pg_1\n",
       "2  1678609823  sr_pg_1\n",
       "3  1678609825  sr_pg_1\n",
       "4  1678609827  sr_pg_1"
      ]
     },
     "execution_count": 81,
     "metadata": {},
     "output_type": "execute_result"
    }
   ],
   "source": [
    "df_.head()"
   ]
  },
  {
   "cell_type": "code",
   "execution_count": 86,
   "id": "ef157599",
   "metadata": {},
   "outputs": [],
   "source": [
    "df = pd.concat((df,df_),axis =1)"
   ]
  },
  {
   "cell_type": "code",
   "execution_count": 87,
   "id": "7d0be451",
   "metadata": {},
   "outputs": [],
   "source": [
    "df.to_csv('Amazon_full_details.csv',index = False)"
   ]
  }
 ],
 "metadata": {
  "kernelspec": {
   "display_name": "Python 3 (ipykernel)",
   "language": "python",
   "name": "python3"
  },
  "language_info": {
   "codemirror_mode": {
    "name": "ipython",
    "version": 3
   },
   "file_extension": ".py",
   "mimetype": "text/x-python",
   "name": "python",
   "nbconvert_exporter": "python",
   "pygments_lexer": "ipython3",
   "version": "3.9.12"
  }
 },
 "nbformat": 4,
 "nbformat_minor": 5
}
