{
 "cells": [
  {
   "cell_type": "code",
   "execution_count": 14,
   "id": "c3f4acb8",
   "metadata": {},
   "outputs": [],
   "source": [
    "import pandas as pd\n",
    "import re\n",
    "import requests as rq\n",
    "\n",
    "from selenium import webdriver as wd"
   ]
  },
  {
   "cell_type": "code",
   "execution_count": 5,
   "id": "715ad311",
   "metadata": {},
   "outputs": [
    {
     "data": {
      "text/html": [
       "<div>\n",
       "<style scoped>\n",
       "    .dataframe tbody tr th:only-of-type {\n",
       "        vertical-align: middle;\n",
       "    }\n",
       "\n",
       "    .dataframe tbody tr th {\n",
       "        vertical-align: top;\n",
       "    }\n",
       "\n",
       "    .dataframe thead th {\n",
       "        text-align: right;\n",
       "    }\n",
       "</style>\n",
       "<table border=\"1\" class=\"dataframe\">\n",
       "  <thead>\n",
       "    <tr style=\"text-align: right;\">\n",
       "      <th></th>\n",
       "      <th>maincategory</th>\n",
       "      <th>subcategory</th>\n",
       "      <th>category</th>\n",
       "      <th>link</th>\n",
       "    </tr>\n",
       "  </thead>\n",
       "  <tbody>\n",
       "    <tr>\n",
       "      <th>0</th>\n",
       "      <td>0</td>\n",
       "      <td>tv, audio &amp; cameras</td>\n",
       "      <td>Televisions</td>\n",
       "      <td>https://www.amazon.in/gp/browse.html?node=1389...</td>\n",
       "    </tr>\n",
       "    <tr>\n",
       "      <th>1</th>\n",
       "      <td>0</td>\n",
       "      <td>tv, audio &amp; cameras</td>\n",
       "      <td>Home Entertainment Systems</td>\n",
       "      <td>https://www.amazon.in/gp/browse.html?node=1389...</td>\n",
       "    </tr>\n",
       "    <tr>\n",
       "      <th>2</th>\n",
       "      <td>0</td>\n",
       "      <td>tv, audio &amp; cameras</td>\n",
       "      <td>Headphones</td>\n",
       "      <td>https://www.amazon.in/gp/browse.html?node=1388...</td>\n",
       "    </tr>\n",
       "    <tr>\n",
       "      <th>3</th>\n",
       "      <td>0</td>\n",
       "      <td>tv, audio &amp; cameras</td>\n",
       "      <td>Speakers</td>\n",
       "      <td>https://www.amazon.in/gp/browse.html?node=1389...</td>\n",
       "    </tr>\n",
       "    <tr>\n",
       "      <th>4</th>\n",
       "      <td>0</td>\n",
       "      <td>tv, audio &amp; cameras</td>\n",
       "      <td>Home Audio &amp; Theater</td>\n",
       "      <td>https://www.amazon.in/gp/browse.html?node=1389...</td>\n",
       "    </tr>\n",
       "  </tbody>\n",
       "</table>\n",
       "</div>"
      ],
      "text/plain": [
       "   maincategory          subcategory                    category  \\\n",
       "0             0  tv, audio & cameras                 Televisions   \n",
       "1             0  tv, audio & cameras  Home Entertainment Systems   \n",
       "2             0  tv, audio & cameras                  Headphones   \n",
       "3             0  tv, audio & cameras                    Speakers   \n",
       "4             0  tv, audio & cameras        Home Audio & Theater   \n",
       "\n",
       "                                                link  \n",
       "0  https://www.amazon.in/gp/browse.html?node=1389...  \n",
       "1  https://www.amazon.in/gp/browse.html?node=1389...  \n",
       "2  https://www.amazon.in/gp/browse.html?node=1388...  \n",
       "3  https://www.amazon.in/gp/browse.html?node=1389...  \n",
       "4  https://www.amazon.in/gp/browse.html?node=1389...  "
      ]
     },
     "execution_count": 5,
     "metadata": {},
     "output_type": "execute_result"
    }
   ],
   "source": [
    "df = pd.read_csv('Amazon_category.csv')\n",
    "df.head()"
   ]
  },
  {
   "cell_type": "markdown",
   "id": "db1cddd6",
   "metadata": {},
   "source": [
    "# Generate alternate link"
   ]
  },
  {
   "cell_type": "code",
   "execution_count": 8,
   "id": "6a53fbe7",
   "metadata": {},
   "outputs": [],
   "source": [
    "def links(link):\n",
    "    node_pattern = r'node=(\\d+)'\n",
    "    node_match = re.search(node_pattern, link)\n",
    "    \n",
    "    if node_match:\n",
    "        node_value = node_match.group(1)\n",
    "        sec_link = f'https://www.amazon.in/s?rh=n%3A{node_value}&fs=true'\n",
    "        return sec_link\n",
    "    else:\n",
    "        return float('nan')\n",
    "    \n",
    "df['alt_link'] = df['link'].apply(links)"
   ]
  },
  {
   "cell_type": "code",
   "execution_count": 9,
   "id": "4471a8b0",
   "metadata": {},
   "outputs": [
    {
     "data": {
      "text/html": [
       "<div>\n",
       "<style scoped>\n",
       "    .dataframe tbody tr th:only-of-type {\n",
       "        vertical-align: middle;\n",
       "    }\n",
       "\n",
       "    .dataframe tbody tr th {\n",
       "        vertical-align: top;\n",
       "    }\n",
       "\n",
       "    .dataframe thead th {\n",
       "        text-align: right;\n",
       "    }\n",
       "</style>\n",
       "<table border=\"1\" class=\"dataframe\">\n",
       "  <thead>\n",
       "    <tr style=\"text-align: right;\">\n",
       "      <th></th>\n",
       "      <th>maincategory</th>\n",
       "      <th>subcategory</th>\n",
       "      <th>category</th>\n",
       "      <th>link</th>\n",
       "      <th>alt_link</th>\n",
       "    </tr>\n",
       "  </thead>\n",
       "  <tbody>\n",
       "    <tr>\n",
       "      <th>0</th>\n",
       "      <td>0</td>\n",
       "      <td>tv, audio &amp; cameras</td>\n",
       "      <td>Televisions</td>\n",
       "      <td>https://www.amazon.in/gp/browse.html?node=1389...</td>\n",
       "      <td>https://www.amazon.in/s?rh=n%3A1389396031&amp;fs=true</td>\n",
       "    </tr>\n",
       "    <tr>\n",
       "      <th>1</th>\n",
       "      <td>0</td>\n",
       "      <td>tv, audio &amp; cameras</td>\n",
       "      <td>Home Entertainment Systems</td>\n",
       "      <td>https://www.amazon.in/gp/browse.html?node=1389...</td>\n",
       "      <td>https://www.amazon.in/s?rh=n%3A1389375031&amp;fs=true</td>\n",
       "    </tr>\n",
       "    <tr>\n",
       "      <th>2</th>\n",
       "      <td>0</td>\n",
       "      <td>tv, audio &amp; cameras</td>\n",
       "      <td>Headphones</td>\n",
       "      <td>https://www.amazon.in/gp/browse.html?node=1388...</td>\n",
       "      <td>https://www.amazon.in/s?rh=n%3A1388921031&amp;fs=true</td>\n",
       "    </tr>\n",
       "    <tr>\n",
       "      <th>3</th>\n",
       "      <td>0</td>\n",
       "      <td>tv, audio &amp; cameras</td>\n",
       "      <td>Speakers</td>\n",
       "      <td>https://www.amazon.in/gp/browse.html?node=1389...</td>\n",
       "      <td>https://www.amazon.in/s?rh=n%3A1389365031&amp;fs=true</td>\n",
       "    </tr>\n",
       "    <tr>\n",
       "      <th>4</th>\n",
       "      <td>0</td>\n",
       "      <td>tv, audio &amp; cameras</td>\n",
       "      <td>Home Audio &amp; Theater</td>\n",
       "      <td>https://www.amazon.in/gp/browse.html?node=1389...</td>\n",
       "      <td>https://www.amazon.in/s?rh=n%3A1389387031&amp;fs=true</td>\n",
       "    </tr>\n",
       "  </tbody>\n",
       "</table>\n",
       "</div>"
      ],
      "text/plain": [
       "   maincategory          subcategory                    category  \\\n",
       "0             0  tv, audio & cameras                 Televisions   \n",
       "1             0  tv, audio & cameras  Home Entertainment Systems   \n",
       "2             0  tv, audio & cameras                  Headphones   \n",
       "3             0  tv, audio & cameras                    Speakers   \n",
       "4             0  tv, audio & cameras        Home Audio & Theater   \n",
       "\n",
       "                                                link  \\\n",
       "0  https://www.amazon.in/gp/browse.html?node=1389...   \n",
       "1  https://www.amazon.in/gp/browse.html?node=1389...   \n",
       "2  https://www.amazon.in/gp/browse.html?node=1388...   \n",
       "3  https://www.amazon.in/gp/browse.html?node=1389...   \n",
       "4  https://www.amazon.in/gp/browse.html?node=1389...   \n",
       "\n",
       "                                            alt_link  \n",
       "0  https://www.amazon.in/s?rh=n%3A1389396031&fs=true  \n",
       "1  https://www.amazon.in/s?rh=n%3A1389375031&fs=true  \n",
       "2  https://www.amazon.in/s?rh=n%3A1388921031&fs=true  \n",
       "3  https://www.amazon.in/s?rh=n%3A1389365031&fs=true  \n",
       "4  https://www.amazon.in/s?rh=n%3A1389387031&fs=true  "
      ]
     },
     "execution_count": 9,
     "metadata": {},
     "output_type": "execute_result"
    }
   ],
   "source": [
    "df.head()"
   ]
  },
  {
   "cell_type": "markdown",
   "id": "cc6386fe",
   "metadata": {},
   "source": [
    "# Checking status if Alternate link"
   ]
  },
  {
   "cell_type": "code",
   "execution_count": 17,
   "id": "d72f6c49",
   "metadata": {},
   "outputs": [
    {
     "name": "stderr",
     "output_type": "stream",
     "text": [
      "C:\\Users\\ASUS\\AppData\\Local\\Temp\\ipykernel_25020\\3040399460.py:1: DeprecationWarning: executable_path has been deprecated, please pass in a Service object\n",
      "  driver = wd.Chrome('webdriver/chromedriver.exe')\n"
     ]
    }
   ],
   "source": [
    "driver = wd.Chrome('webdriver/chromedriver.exe')\n",
    "for i in df['alt_link']:\n",
    "    if type(i) is str:\n",
    "        driver.get(i)"
   ]
  },
  {
   "cell_type": "code",
   "execution_count": null,
   "id": "cb20c12f",
   "metadata": {},
   "outputs": [],
   "source": []
  }
 ],
 "metadata": {
  "kernelspec": {
   "display_name": "Python 3 (ipykernel)",
   "language": "python",
   "name": "python3"
  },
  "language_info": {
   "codemirror_mode": {
    "name": "ipython",
    "version": 3
   },
   "file_extension": ".py",
   "mimetype": "text/x-python",
   "name": "python",
   "nbconvert_exporter": "python",
   "pygments_lexer": "ipython3",
   "version": "3.9.12"
  }
 },
 "nbformat": 4,
 "nbformat_minor": 5
}
