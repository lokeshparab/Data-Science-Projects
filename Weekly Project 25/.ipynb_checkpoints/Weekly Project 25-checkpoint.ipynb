{
 "cells": [
  {
   "cell_type": "markdown",
   "id": "e5401e09",
   "metadata": {},
   "source": [
    "# Import Library"
   ]
  },
  {
   "cell_type": "code",
   "execution_count": 72,
   "id": "a4d6f542",
   "metadata": {},
   "outputs": [],
   "source": [
    "import pandas   as pd\n",
    "import requests as rq\n",
    "import numpy    as np\n",
    "\n",
    "from selenium import webdriver     as wd\n",
    "from bs4      import BeautifulSoup as BS\n",
    "from tqdm     import tqdm"
   ]
  },
  {
   "cell_type": "markdown",
   "id": "c18dc436",
   "metadata": {},
   "source": [
    "# Loading Dataset"
   ]
  },
  {
   "cell_type": "code",
   "execution_count": 2,
   "id": "bf460fbf",
   "metadata": {},
   "outputs": [
    {
     "data": {
      "text/html": [
       "<div>\n",
       "<style scoped>\n",
       "    .dataframe tbody tr th:only-of-type {\n",
       "        vertical-align: middle;\n",
       "    }\n",
       "\n",
       "    .dataframe tbody tr th {\n",
       "        vertical-align: top;\n",
       "    }\n",
       "\n",
       "    .dataframe thead th {\n",
       "        text-align: right;\n",
       "    }\n",
       "</style>\n",
       "<table border=\"1\" class=\"dataframe\">\n",
       "  <thead>\n",
       "    <tr style=\"text-align: right;\">\n",
       "      <th></th>\n",
       "      <th>maincategory</th>\n",
       "      <th>subcategory</th>\n",
       "      <th>category</th>\n",
       "      <th>link</th>\n",
       "      <th>alt_link</th>\n",
       "      <th>iteration</th>\n",
       "      <th>qid</th>\n",
       "      <th>ref</th>\n",
       "    </tr>\n",
       "  </thead>\n",
       "  <tbody>\n",
       "    <tr>\n",
       "      <th>0</th>\n",
       "      <td>0</td>\n",
       "      <td>tv, audio &amp; cameras</td>\n",
       "      <td>Televisions</td>\n",
       "      <td>https://www.amazon.in/gp/browse.html?node=1389...</td>\n",
       "      <td>https://www.amazon.in/s?rh=n%3A1389396031&amp;fs=true</td>\n",
       "      <td>46</td>\n",
       "      <td>1.678610e+09</td>\n",
       "      <td>sr_pg_1</td>\n",
       "    </tr>\n",
       "    <tr>\n",
       "      <th>1</th>\n",
       "      <td>0</td>\n",
       "      <td>tv, audio &amp; cameras</td>\n",
       "      <td>Home Entertainment Systems</td>\n",
       "      <td>https://www.amazon.in/gp/browse.html?node=1389...</td>\n",
       "      <td>https://www.amazon.in/s?rh=n%3A1389375031&amp;fs=true</td>\n",
       "      <td>400</td>\n",
       "      <td>1.678610e+09</td>\n",
       "      <td>sr_pg_1</td>\n",
       "    </tr>\n",
       "    <tr>\n",
       "      <th>2</th>\n",
       "      <td>0</td>\n",
       "      <td>tv, audio &amp; cameras</td>\n",
       "      <td>Headphones</td>\n",
       "      <td>https://www.amazon.in/gp/browse.html?node=1388...</td>\n",
       "      <td>https://www.amazon.in/s?rh=n%3A1388921031&amp;fs=true</td>\n",
       "      <td>400</td>\n",
       "      <td>1.678610e+09</td>\n",
       "      <td>sr_pg_1</td>\n",
       "    </tr>\n",
       "    <tr>\n",
       "      <th>3</th>\n",
       "      <td>0</td>\n",
       "      <td>tv, audio &amp; cameras</td>\n",
       "      <td>Speakers</td>\n",
       "      <td>https://www.amazon.in/gp/browse.html?node=1389...</td>\n",
       "      <td>https://www.amazon.in/s?rh=n%3A1389365031&amp;fs=true</td>\n",
       "      <td>400</td>\n",
       "      <td>1.678610e+09</td>\n",
       "      <td>sr_pg_1</td>\n",
       "    </tr>\n",
       "    <tr>\n",
       "      <th>4</th>\n",
       "      <td>0</td>\n",
       "      <td>tv, audio &amp; cameras</td>\n",
       "      <td>Home Audio &amp; Theater</td>\n",
       "      <td>https://www.amazon.in/gp/browse.html?node=1389...</td>\n",
       "      <td>https://www.amazon.in/s?rh=n%3A1389387031&amp;fs=true</td>\n",
       "      <td>18</td>\n",
       "      <td>1.678610e+09</td>\n",
       "      <td>sr_pg_1</td>\n",
       "    </tr>\n",
       "  </tbody>\n",
       "</table>\n",
       "</div>"
      ],
      "text/plain": [
       "   maincategory          subcategory                    category  \\\n",
       "0             0  tv, audio & cameras                 Televisions   \n",
       "1             0  tv, audio & cameras  Home Entertainment Systems   \n",
       "2             0  tv, audio & cameras                  Headphones   \n",
       "3             0  tv, audio & cameras                    Speakers   \n",
       "4             0  tv, audio & cameras        Home Audio & Theater   \n",
       "\n",
       "                                                link  \\\n",
       "0  https://www.amazon.in/gp/browse.html?node=1389...   \n",
       "1  https://www.amazon.in/gp/browse.html?node=1389...   \n",
       "2  https://www.amazon.in/gp/browse.html?node=1388...   \n",
       "3  https://www.amazon.in/gp/browse.html?node=1389...   \n",
       "4  https://www.amazon.in/gp/browse.html?node=1389...   \n",
       "\n",
       "                                            alt_link  iteration           qid  \\\n",
       "0  https://www.amazon.in/s?rh=n%3A1389396031&fs=true         46  1.678610e+09   \n",
       "1  https://www.amazon.in/s?rh=n%3A1389375031&fs=true        400  1.678610e+09   \n",
       "2  https://www.amazon.in/s?rh=n%3A1388921031&fs=true        400  1.678610e+09   \n",
       "3  https://www.amazon.in/s?rh=n%3A1389365031&fs=true        400  1.678610e+09   \n",
       "4  https://www.amazon.in/s?rh=n%3A1389387031&fs=true         18  1.678610e+09   \n",
       "\n",
       "       ref  \n",
       "0  sr_pg_1  \n",
       "1  sr_pg_1  \n",
       "2  sr_pg_1  \n",
       "3  sr_pg_1  \n",
       "4  sr_pg_1  "
      ]
     },
     "execution_count": 2,
     "metadata": {},
     "output_type": "execute_result"
    }
   ],
   "source": [
    "df = pd.read_csv('Amazon_full_details.csv')\n",
    "df.head()"
   ]
  },
  {
   "cell_type": "code",
   "execution_count": 3,
   "id": "d973ebd9",
   "metadata": {},
   "outputs": [
    {
     "name": "stdout",
     "output_type": "stream",
     "text": [
      "<class 'pandas.core.frame.DataFrame'>\n",
      "RangeIndex: 165 entries, 0 to 164\n",
      "Data columns (total 8 columns):\n",
      " #   Column        Non-Null Count  Dtype  \n",
      "---  ------        --------------  -----  \n",
      " 0   maincategory  165 non-null    int64  \n",
      " 1   subcategory   165 non-null    object \n",
      " 2   category      165 non-null    object \n",
      " 3   link          165 non-null    object \n",
      " 4   alt_link      160 non-null    object \n",
      " 5   iteration     165 non-null    int64  \n",
      " 6   qid           150 non-null    float64\n",
      " 7   ref           150 non-null    object \n",
      "dtypes: float64(1), int64(2), object(5)\n",
      "memory usage: 10.4+ KB\n"
     ]
    }
   ],
   "source": [
    "df.info()"
   ]
  },
  {
   "cell_type": "markdown",
   "id": "927b8f97",
   "metadata": {},
   "source": [
    "# Preprocessing"
   ]
  },
  {
   "cell_type": "code",
   "execution_count": 4,
   "id": "0c33f67f",
   "metadata": {},
   "outputs": [],
   "source": [
    "df = df[df['qid'].isna() == False]"
   ]
  },
  {
   "cell_type": "code",
   "execution_count": 5,
   "id": "4443918b",
   "metadata": {},
   "outputs": [],
   "source": [
    "del df['ref']\n",
    "del df['maincategory']\n",
    "del df['link']"
   ]
  },
  {
   "cell_type": "code",
   "execution_count": 6,
   "id": "327f9756",
   "metadata": {},
   "outputs": [
    {
     "name": "stdout",
     "output_type": "stream",
     "text": [
      "<class 'pandas.core.frame.DataFrame'>\n",
      "Int64Index: 150 entries, 0 to 162\n",
      "Data columns (total 5 columns):\n",
      " #   Column       Non-Null Count  Dtype  \n",
      "---  ------       --------------  -----  \n",
      " 0   subcategory  150 non-null    object \n",
      " 1   category     150 non-null    object \n",
      " 2   alt_link     150 non-null    object \n",
      " 3   iteration    150 non-null    int64  \n",
      " 4   qid          150 non-null    float64\n",
      "dtypes: float64(1), int64(1), object(3)\n",
      "memory usage: 7.0+ KB\n"
     ]
    }
   ],
   "source": [
    "df.info()"
   ]
  },
  {
   "cell_type": "code",
   "execution_count": 7,
   "id": "dea2d5b9",
   "metadata": {},
   "outputs": [
    {
     "data": {
      "text/html": [
       "<div>\n",
       "<style scoped>\n",
       "    .dataframe tbody tr th:only-of-type {\n",
       "        vertical-align: middle;\n",
       "    }\n",
       "\n",
       "    .dataframe tbody tr th {\n",
       "        vertical-align: top;\n",
       "    }\n",
       "\n",
       "    .dataframe thead th {\n",
       "        text-align: right;\n",
       "    }\n",
       "</style>\n",
       "<table border=\"1\" class=\"dataframe\">\n",
       "  <thead>\n",
       "    <tr style=\"text-align: right;\">\n",
       "      <th></th>\n",
       "      <th>subcategory</th>\n",
       "      <th>category</th>\n",
       "      <th>alt_link</th>\n",
       "      <th>iteration</th>\n",
       "      <th>qid</th>\n",
       "    </tr>\n",
       "  </thead>\n",
       "  <tbody>\n",
       "    <tr>\n",
       "      <th>0</th>\n",
       "      <td>tv, audio &amp; cameras</td>\n",
       "      <td>Televisions</td>\n",
       "      <td>https://www.amazon.in/s?rh=n%3A1389396031&amp;fs=true</td>\n",
       "      <td>46</td>\n",
       "      <td>1.678610e+09</td>\n",
       "    </tr>\n",
       "    <tr>\n",
       "      <th>1</th>\n",
       "      <td>tv, audio &amp; cameras</td>\n",
       "      <td>Home Entertainment Systems</td>\n",
       "      <td>https://www.amazon.in/s?rh=n%3A1389375031&amp;fs=true</td>\n",
       "      <td>400</td>\n",
       "      <td>1.678610e+09</td>\n",
       "    </tr>\n",
       "    <tr>\n",
       "      <th>2</th>\n",
       "      <td>tv, audio &amp; cameras</td>\n",
       "      <td>Headphones</td>\n",
       "      <td>https://www.amazon.in/s?rh=n%3A1388921031&amp;fs=true</td>\n",
       "      <td>400</td>\n",
       "      <td>1.678610e+09</td>\n",
       "    </tr>\n",
       "    <tr>\n",
       "      <th>3</th>\n",
       "      <td>tv, audio &amp; cameras</td>\n",
       "      <td>Speakers</td>\n",
       "      <td>https://www.amazon.in/s?rh=n%3A1389365031&amp;fs=true</td>\n",
       "      <td>400</td>\n",
       "      <td>1.678610e+09</td>\n",
       "    </tr>\n",
       "    <tr>\n",
       "      <th>4</th>\n",
       "      <td>tv, audio &amp; cameras</td>\n",
       "      <td>Home Audio &amp; Theater</td>\n",
       "      <td>https://www.amazon.in/s?rh=n%3A1389387031&amp;fs=true</td>\n",
       "      <td>18</td>\n",
       "      <td>1.678610e+09</td>\n",
       "    </tr>\n",
       "  </tbody>\n",
       "</table>\n",
       "</div>"
      ],
      "text/plain": [
       "           subcategory                    category  \\\n",
       "0  tv, audio & cameras                 Televisions   \n",
       "1  tv, audio & cameras  Home Entertainment Systems   \n",
       "2  tv, audio & cameras                  Headphones   \n",
       "3  tv, audio & cameras                    Speakers   \n",
       "4  tv, audio & cameras        Home Audio & Theater   \n",
       "\n",
       "                                            alt_link  iteration           qid  \n",
       "0  https://www.amazon.in/s?rh=n%3A1389396031&fs=true         46  1.678610e+09  \n",
       "1  https://www.amazon.in/s?rh=n%3A1389375031&fs=true        400  1.678610e+09  \n",
       "2  https://www.amazon.in/s?rh=n%3A1388921031&fs=true        400  1.678610e+09  \n",
       "3  https://www.amazon.in/s?rh=n%3A1389365031&fs=true        400  1.678610e+09  \n",
       "4  https://www.amazon.in/s?rh=n%3A1389387031&fs=true         18  1.678610e+09  "
      ]
     },
     "execution_count": 7,
     "metadata": {},
     "output_type": "execute_result"
    }
   ],
   "source": [
    "df.head()"
   ]
  },
  {
   "cell_type": "markdown",
   "id": "2f9d6e33",
   "metadata": {},
   "source": [
    "# Webscraping  Amazon Product"
   ]
  },
  {
   "cell_type": "code",
   "execution_count": 108,
   "id": "d97ede63",
   "metadata": {},
   "outputs": [
    {
     "name": "stderr",
     "output_type": "stream",
     "text": [
      "  2%|█▌                                                                            | 3/150 [20:38<16:51:49, 412.99s/it]\n"
     ]
    },
    {
     "ename": "KeyboardInterrupt",
     "evalue": "",
     "output_type": "error",
     "traceback": [
      "\u001b[1;31m---------------------------------------------------------------------------\u001b[0m",
      "\u001b[1;31mKeyboardInterrupt\u001b[0m                         Traceback (most recent call last)",
      "Input \u001b[1;32mIn [108]\u001b[0m, in \u001b[0;36m<cell line: 17>\u001b[1;34m()\u001b[0m\n\u001b[0;32m     20\u001b[0m link \u001b[38;5;241m=\u001b[39m base_link \u001b[38;5;241m+\u001b[39m \u001b[38;5;124mf\u001b[39m\u001b[38;5;124m\"\u001b[39m\u001b[38;5;124m&page=\u001b[39m\u001b[38;5;132;01m{\u001b[39;00mi\u001b[38;5;132;01m}\u001b[39;00m\u001b[38;5;124m&qid=\u001b[39m\u001b[38;5;132;01m{\u001b[39;00mqid\u001b[38;5;132;01m}\u001b[39;00m\u001b[38;5;124m\"\u001b[39m\n\u001b[0;32m     21\u001b[0m \u001b[38;5;66;03m#print(link)\u001b[39;00m\n\u001b[1;32m---> 23\u001b[0m res \u001b[38;5;241m=\u001b[39m \u001b[43mrq\u001b[49m\u001b[38;5;241;43m.\u001b[39;49m\u001b[43mget\u001b[49m\u001b[43m(\u001b[49m\u001b[43mlink\u001b[49m\u001b[43m,\u001b[49m\u001b[43m \u001b[49m\u001b[43mheaders\u001b[49m\u001b[43m \u001b[49m\u001b[38;5;241;43m=\u001b[39;49m\u001b[43m \u001b[49m\u001b[43mheaders\u001b[49m\u001b[43m)\u001b[49m\n\u001b[0;32m     24\u001b[0m \u001b[38;5;66;03m#print(res.ok)\u001b[39;00m\n\u001b[0;32m     25\u001b[0m soup \u001b[38;5;241m=\u001b[39m BS(res\u001b[38;5;241m.\u001b[39mcontent,\u001b[38;5;124m'\u001b[39m\u001b[38;5;124mhtml.parser\u001b[39m\u001b[38;5;124m'\u001b[39m)\n",
      "File \u001b[1;32mE:\\Anaconda\\lib\\site-packages\\requests\\api.py:75\u001b[0m, in \u001b[0;36mget\u001b[1;34m(url, params, **kwargs)\u001b[0m\n\u001b[0;32m     64\u001b[0m \u001b[38;5;28;01mdef\u001b[39;00m \u001b[38;5;21mget\u001b[39m(url, params\u001b[38;5;241m=\u001b[39m\u001b[38;5;28;01mNone\u001b[39;00m, \u001b[38;5;241m*\u001b[39m\u001b[38;5;241m*\u001b[39mkwargs):\n\u001b[0;32m     65\u001b[0m     \u001b[38;5;124mr\u001b[39m\u001b[38;5;124;03m\"\"\"Sends a GET request.\u001b[39;00m\n\u001b[0;32m     66\u001b[0m \n\u001b[0;32m     67\u001b[0m \u001b[38;5;124;03m    :param url: URL for the new :class:`Request` object.\u001b[39;00m\n\u001b[1;32m   (...)\u001b[0m\n\u001b[0;32m     72\u001b[0m \u001b[38;5;124;03m    :rtype: requests.Response\u001b[39;00m\n\u001b[0;32m     73\u001b[0m \u001b[38;5;124;03m    \"\"\"\u001b[39;00m\n\u001b[1;32m---> 75\u001b[0m     \u001b[38;5;28;01mreturn\u001b[39;00m request(\u001b[38;5;124m'\u001b[39m\u001b[38;5;124mget\u001b[39m\u001b[38;5;124m'\u001b[39m, url, params\u001b[38;5;241m=\u001b[39mparams, \u001b[38;5;241m*\u001b[39m\u001b[38;5;241m*\u001b[39mkwargs)\n",
      "File \u001b[1;32mE:\\Anaconda\\lib\\site-packages\\requests\\api.py:61\u001b[0m, in \u001b[0;36mrequest\u001b[1;34m(method, url, **kwargs)\u001b[0m\n\u001b[0;32m     57\u001b[0m \u001b[38;5;66;03m# By using the 'with' statement we are sure the session is closed, thus we\u001b[39;00m\n\u001b[0;32m     58\u001b[0m \u001b[38;5;66;03m# avoid leaving sockets open which can trigger a ResourceWarning in some\u001b[39;00m\n\u001b[0;32m     59\u001b[0m \u001b[38;5;66;03m# cases, and look like a memory leak in others.\u001b[39;00m\n\u001b[0;32m     60\u001b[0m \u001b[38;5;28;01mwith\u001b[39;00m sessions\u001b[38;5;241m.\u001b[39mSession() \u001b[38;5;28;01mas\u001b[39;00m session:\n\u001b[1;32m---> 61\u001b[0m     \u001b[38;5;28;01mreturn\u001b[39;00m session\u001b[38;5;241m.\u001b[39mrequest(method\u001b[38;5;241m=\u001b[39mmethod, url\u001b[38;5;241m=\u001b[39murl, \u001b[38;5;241m*\u001b[39m\u001b[38;5;241m*\u001b[39mkwargs)\n",
      "File \u001b[1;32mE:\\Anaconda\\lib\\site-packages\\requests\\sessions.py:529\u001b[0m, in \u001b[0;36mSession.request\u001b[1;34m(self, method, url, params, data, headers, cookies, files, auth, timeout, allow_redirects, proxies, hooks, stream, verify, cert, json)\u001b[0m\n\u001b[0;32m    524\u001b[0m send_kwargs \u001b[38;5;241m=\u001b[39m {\n\u001b[0;32m    525\u001b[0m     \u001b[38;5;124m'\u001b[39m\u001b[38;5;124mtimeout\u001b[39m\u001b[38;5;124m'\u001b[39m: timeout,\n\u001b[0;32m    526\u001b[0m     \u001b[38;5;124m'\u001b[39m\u001b[38;5;124mallow_redirects\u001b[39m\u001b[38;5;124m'\u001b[39m: allow_redirects,\n\u001b[0;32m    527\u001b[0m }\n\u001b[0;32m    528\u001b[0m send_kwargs\u001b[38;5;241m.\u001b[39mupdate(settings)\n\u001b[1;32m--> 529\u001b[0m resp \u001b[38;5;241m=\u001b[39m \u001b[38;5;28mself\u001b[39m\u001b[38;5;241m.\u001b[39msend(prep, \u001b[38;5;241m*\u001b[39m\u001b[38;5;241m*\u001b[39msend_kwargs)\n\u001b[0;32m    531\u001b[0m \u001b[38;5;28;01mreturn\u001b[39;00m resp\n",
      "File \u001b[1;32mE:\\Anaconda\\lib\\site-packages\\requests\\sessions.py:687\u001b[0m, in \u001b[0;36mSession.send\u001b[1;34m(self, request, **kwargs)\u001b[0m\n\u001b[0;32m    684\u001b[0m         \u001b[38;5;28;01mpass\u001b[39;00m\n\u001b[0;32m    686\u001b[0m \u001b[38;5;28;01mif\u001b[39;00m \u001b[38;5;129;01mnot\u001b[39;00m stream:\n\u001b[1;32m--> 687\u001b[0m     \u001b[43mr\u001b[49m\u001b[38;5;241;43m.\u001b[39;49m\u001b[43mcontent\u001b[49m\n\u001b[0;32m    689\u001b[0m \u001b[38;5;28;01mreturn\u001b[39;00m r\n",
      "File \u001b[1;32mE:\\Anaconda\\lib\\site-packages\\requests\\models.py:838\u001b[0m, in \u001b[0;36mResponse.content\u001b[1;34m(self)\u001b[0m\n\u001b[0;32m    836\u001b[0m         \u001b[38;5;28mself\u001b[39m\u001b[38;5;241m.\u001b[39m_content \u001b[38;5;241m=\u001b[39m \u001b[38;5;28;01mNone\u001b[39;00m\n\u001b[0;32m    837\u001b[0m     \u001b[38;5;28;01melse\u001b[39;00m:\n\u001b[1;32m--> 838\u001b[0m         \u001b[38;5;28mself\u001b[39m\u001b[38;5;241m.\u001b[39m_content \u001b[38;5;241m=\u001b[39m \u001b[38;5;124;43mb\u001b[39;49m\u001b[38;5;124;43m'\u001b[39;49m\u001b[38;5;124;43m'\u001b[39;49m\u001b[38;5;241;43m.\u001b[39;49m\u001b[43mjoin\u001b[49m\u001b[43m(\u001b[49m\u001b[38;5;28;43mself\u001b[39;49m\u001b[38;5;241;43m.\u001b[39;49m\u001b[43miter_content\u001b[49m\u001b[43m(\u001b[49m\u001b[43mCONTENT_CHUNK_SIZE\u001b[49m\u001b[43m)\u001b[49m\u001b[43m)\u001b[49m \u001b[38;5;129;01mor\u001b[39;00m \u001b[38;5;124mb\u001b[39m\u001b[38;5;124m'\u001b[39m\u001b[38;5;124m'\u001b[39m\n\u001b[0;32m    840\u001b[0m \u001b[38;5;28mself\u001b[39m\u001b[38;5;241m.\u001b[39m_content_consumed \u001b[38;5;241m=\u001b[39m \u001b[38;5;28;01mTrue\u001b[39;00m\n\u001b[0;32m    841\u001b[0m \u001b[38;5;66;03m# don't need to release the connection; that's been handled by urllib3\u001b[39;00m\n\u001b[0;32m    842\u001b[0m \u001b[38;5;66;03m# since we exhausted the data.\u001b[39;00m\n",
      "File \u001b[1;32mE:\\Anaconda\\lib\\site-packages\\requests\\models.py:760\u001b[0m, in \u001b[0;36mResponse.iter_content.<locals>.generate\u001b[1;34m()\u001b[0m\n\u001b[0;32m    758\u001b[0m \u001b[38;5;28;01mif\u001b[39;00m \u001b[38;5;28mhasattr\u001b[39m(\u001b[38;5;28mself\u001b[39m\u001b[38;5;241m.\u001b[39mraw, \u001b[38;5;124m'\u001b[39m\u001b[38;5;124mstream\u001b[39m\u001b[38;5;124m'\u001b[39m):\n\u001b[0;32m    759\u001b[0m     \u001b[38;5;28;01mtry\u001b[39;00m:\n\u001b[1;32m--> 760\u001b[0m         \u001b[38;5;28;01mfor\u001b[39;00m chunk \u001b[38;5;129;01min\u001b[39;00m \u001b[38;5;28mself\u001b[39m\u001b[38;5;241m.\u001b[39mraw\u001b[38;5;241m.\u001b[39mstream(chunk_size, decode_content\u001b[38;5;241m=\u001b[39m\u001b[38;5;28;01mTrue\u001b[39;00m):\n\u001b[0;32m    761\u001b[0m             \u001b[38;5;28;01myield\u001b[39;00m chunk\n\u001b[0;32m    762\u001b[0m     \u001b[38;5;28;01mexcept\u001b[39;00m ProtocolError \u001b[38;5;28;01mas\u001b[39;00m e:\n",
      "File \u001b[1;32mE:\\Anaconda\\lib\\site-packages\\urllib3\\response.py:575\u001b[0m, in \u001b[0;36mHTTPResponse.stream\u001b[1;34m(self, amt, decode_content)\u001b[0m\n\u001b[0;32m    559\u001b[0m \u001b[38;5;124;03m\"\"\"\u001b[39;00m\n\u001b[0;32m    560\u001b[0m \u001b[38;5;124;03mA generator wrapper for the read() method. A call will block until\u001b[39;00m\n\u001b[0;32m    561\u001b[0m \u001b[38;5;124;03m``amt`` bytes have been read from the connection or until the\u001b[39;00m\n\u001b[1;32m   (...)\u001b[0m\n\u001b[0;32m    572\u001b[0m \u001b[38;5;124;03m    'content-encoding' header.\u001b[39;00m\n\u001b[0;32m    573\u001b[0m \u001b[38;5;124;03m\"\"\"\u001b[39;00m\n\u001b[0;32m    574\u001b[0m \u001b[38;5;28;01mif\u001b[39;00m \u001b[38;5;28mself\u001b[39m\u001b[38;5;241m.\u001b[39mchunked \u001b[38;5;129;01mand\u001b[39;00m \u001b[38;5;28mself\u001b[39m\u001b[38;5;241m.\u001b[39msupports_chunked_reads():\n\u001b[1;32m--> 575\u001b[0m     \u001b[38;5;28;01mfor\u001b[39;00m line \u001b[38;5;129;01min\u001b[39;00m \u001b[38;5;28mself\u001b[39m\u001b[38;5;241m.\u001b[39mread_chunked(amt, decode_content\u001b[38;5;241m=\u001b[39mdecode_content):\n\u001b[0;32m    576\u001b[0m         \u001b[38;5;28;01myield\u001b[39;00m line\n\u001b[0;32m    577\u001b[0m \u001b[38;5;28;01melse\u001b[39;00m:\n",
      "File \u001b[1;32mE:\\Anaconda\\lib\\site-packages\\urllib3\\response.py:767\u001b[0m, in \u001b[0;36mHTTPResponse.read_chunked\u001b[1;34m(self, amt, decode_content)\u001b[0m\n\u001b[0;32m    764\u001b[0m     \u001b[38;5;28;01mreturn\u001b[39;00m\n\u001b[0;32m    766\u001b[0m \u001b[38;5;28;01mwhile\u001b[39;00m \u001b[38;5;28;01mTrue\u001b[39;00m:\n\u001b[1;32m--> 767\u001b[0m     \u001b[38;5;28;43mself\u001b[39;49m\u001b[38;5;241;43m.\u001b[39;49m\u001b[43m_update_chunk_length\u001b[49m\u001b[43m(\u001b[49m\u001b[43m)\u001b[49m\n\u001b[0;32m    768\u001b[0m     \u001b[38;5;28;01mif\u001b[39;00m \u001b[38;5;28mself\u001b[39m\u001b[38;5;241m.\u001b[39mchunk_left \u001b[38;5;241m==\u001b[39m \u001b[38;5;241m0\u001b[39m:\n\u001b[0;32m    769\u001b[0m         \u001b[38;5;28;01mbreak\u001b[39;00m\n",
      "File \u001b[1;32mE:\\Anaconda\\lib\\site-packages\\urllib3\\response.py:697\u001b[0m, in \u001b[0;36mHTTPResponse._update_chunk_length\u001b[1;34m(self)\u001b[0m\n\u001b[0;32m    695\u001b[0m \u001b[38;5;28;01mif\u001b[39;00m \u001b[38;5;28mself\u001b[39m\u001b[38;5;241m.\u001b[39mchunk_left \u001b[38;5;129;01mis\u001b[39;00m \u001b[38;5;129;01mnot\u001b[39;00m \u001b[38;5;28;01mNone\u001b[39;00m:\n\u001b[0;32m    696\u001b[0m     \u001b[38;5;28;01mreturn\u001b[39;00m\n\u001b[1;32m--> 697\u001b[0m line \u001b[38;5;241m=\u001b[39m \u001b[38;5;28;43mself\u001b[39;49m\u001b[38;5;241;43m.\u001b[39;49m\u001b[43m_fp\u001b[49m\u001b[38;5;241;43m.\u001b[39;49m\u001b[43mfp\u001b[49m\u001b[38;5;241;43m.\u001b[39;49m\u001b[43mreadline\u001b[49m\u001b[43m(\u001b[49m\u001b[43m)\u001b[49m\n\u001b[0;32m    698\u001b[0m line \u001b[38;5;241m=\u001b[39m line\u001b[38;5;241m.\u001b[39msplit(\u001b[38;5;124mb\u001b[39m\u001b[38;5;124m\"\u001b[39m\u001b[38;5;124m;\u001b[39m\u001b[38;5;124m\"\u001b[39m, \u001b[38;5;241m1\u001b[39m)[\u001b[38;5;241m0\u001b[39m]\n\u001b[0;32m    699\u001b[0m \u001b[38;5;28;01mtry\u001b[39;00m:\n",
      "File \u001b[1;32mE:\\Anaconda\\lib\\socket.py:704\u001b[0m, in \u001b[0;36mSocketIO.readinto\u001b[1;34m(self, b)\u001b[0m\n\u001b[0;32m    702\u001b[0m \u001b[38;5;28;01mwhile\u001b[39;00m \u001b[38;5;28;01mTrue\u001b[39;00m:\n\u001b[0;32m    703\u001b[0m     \u001b[38;5;28;01mtry\u001b[39;00m:\n\u001b[1;32m--> 704\u001b[0m         \u001b[38;5;28;01mreturn\u001b[39;00m \u001b[38;5;28;43mself\u001b[39;49m\u001b[38;5;241;43m.\u001b[39;49m\u001b[43m_sock\u001b[49m\u001b[38;5;241;43m.\u001b[39;49m\u001b[43mrecv_into\u001b[49m\u001b[43m(\u001b[49m\u001b[43mb\u001b[49m\u001b[43m)\u001b[49m\n\u001b[0;32m    705\u001b[0m     \u001b[38;5;28;01mexcept\u001b[39;00m timeout:\n\u001b[0;32m    706\u001b[0m         \u001b[38;5;28mself\u001b[39m\u001b[38;5;241m.\u001b[39m_timeout_occurred \u001b[38;5;241m=\u001b[39m \u001b[38;5;28;01mTrue\u001b[39;00m\n",
      "File \u001b[1;32mE:\\Anaconda\\lib\\ssl.py:1241\u001b[0m, in \u001b[0;36mSSLSocket.recv_into\u001b[1;34m(self, buffer, nbytes, flags)\u001b[0m\n\u001b[0;32m   1237\u001b[0m     \u001b[38;5;28;01mif\u001b[39;00m flags \u001b[38;5;241m!=\u001b[39m \u001b[38;5;241m0\u001b[39m:\n\u001b[0;32m   1238\u001b[0m         \u001b[38;5;28;01mraise\u001b[39;00m \u001b[38;5;167;01mValueError\u001b[39;00m(\n\u001b[0;32m   1239\u001b[0m           \u001b[38;5;124m\"\u001b[39m\u001b[38;5;124mnon-zero flags not allowed in calls to recv_into() on \u001b[39m\u001b[38;5;132;01m%s\u001b[39;00m\u001b[38;5;124m\"\u001b[39m \u001b[38;5;241m%\u001b[39m\n\u001b[0;32m   1240\u001b[0m           \u001b[38;5;28mself\u001b[39m\u001b[38;5;241m.\u001b[39m\u001b[38;5;18m__class__\u001b[39m)\n\u001b[1;32m-> 1241\u001b[0m     \u001b[38;5;28;01mreturn\u001b[39;00m \u001b[38;5;28;43mself\u001b[39;49m\u001b[38;5;241;43m.\u001b[39;49m\u001b[43mread\u001b[49m\u001b[43m(\u001b[49m\u001b[43mnbytes\u001b[49m\u001b[43m,\u001b[49m\u001b[43m \u001b[49m\u001b[43mbuffer\u001b[49m\u001b[43m)\u001b[49m\n\u001b[0;32m   1242\u001b[0m \u001b[38;5;28;01melse\u001b[39;00m:\n\u001b[0;32m   1243\u001b[0m     \u001b[38;5;28;01mreturn\u001b[39;00m \u001b[38;5;28msuper\u001b[39m()\u001b[38;5;241m.\u001b[39mrecv_into(buffer, nbytes, flags)\n",
      "File \u001b[1;32mE:\\Anaconda\\lib\\ssl.py:1099\u001b[0m, in \u001b[0;36mSSLSocket.read\u001b[1;34m(self, len, buffer)\u001b[0m\n\u001b[0;32m   1097\u001b[0m \u001b[38;5;28;01mtry\u001b[39;00m:\n\u001b[0;32m   1098\u001b[0m     \u001b[38;5;28;01mif\u001b[39;00m buffer \u001b[38;5;129;01mis\u001b[39;00m \u001b[38;5;129;01mnot\u001b[39;00m \u001b[38;5;28;01mNone\u001b[39;00m:\n\u001b[1;32m-> 1099\u001b[0m         \u001b[38;5;28;01mreturn\u001b[39;00m \u001b[38;5;28;43mself\u001b[39;49m\u001b[38;5;241;43m.\u001b[39;49m\u001b[43m_sslobj\u001b[49m\u001b[38;5;241;43m.\u001b[39;49m\u001b[43mread\u001b[49m\u001b[43m(\u001b[49m\u001b[38;5;28;43mlen\u001b[39;49m\u001b[43m,\u001b[49m\u001b[43m \u001b[49m\u001b[43mbuffer\u001b[49m\u001b[43m)\u001b[49m\n\u001b[0;32m   1100\u001b[0m     \u001b[38;5;28;01melse\u001b[39;00m:\n\u001b[0;32m   1101\u001b[0m         \u001b[38;5;28;01mreturn\u001b[39;00m \u001b[38;5;28mself\u001b[39m\u001b[38;5;241m.\u001b[39m_sslobj\u001b[38;5;241m.\u001b[39mread(\u001b[38;5;28mlen\u001b[39m)\n",
      "\u001b[1;31mKeyboardInterrupt\u001b[0m: "
     ]
    }
   ],
   "source": [
    "headers = {'User-Agent': 'Mozilla/5.0 (Windows NT 10.0; Win64; x64) AppleWebKit/537.36 (KHTML, like Gecko) Chrome/111.0.0.0 Safari/537.36'}\n",
    "#driver = wb.Chrome('webdriver/chromedriver.exe')\n",
    "\n",
    "products = { \n",
    "    'name'          :[],\n",
    "    'main_category' :[],\n",
    "    'sub_category'  :[],\n",
    "    'image'         :[],\n",
    "    'link'          :[],\n",
    "    'ratings'       :[],\n",
    "    'no_of_ratings' :[],\n",
    "    'discount_price':[],\n",
    "    'actual_price'  :[],\n",
    "}\n",
    "\n",
    "\n",
    "for main_category,sub_category,base_link,iteration,qid in tqdm(df.values):\n",
    "    \n",
    "    for i in range(1,iteration + 1):\n",
    "        link = base_link + f\"&page={i}&qid={qid}\"\n",
    "        #print(link)\n",
    "        \n",
    "        res = rq.get(link, headers = headers)\n",
    "        #print(res.ok)\n",
    "        soup = BS(res.content,'html.parser')\n",
    "        \n",
    "        data = soup.find('div',class_ = 's-main-slot s-result-list s-search-results sg-row')\n",
    "        pros = data.find_all('div', class_= 'sg-col-4-of-24 sg-col-4-of-12 s-result-item s-asin sg-col-4-of-16 sg-col s-widget-spacing-small sg-col-4-of-20')\n",
    "        #driver.get(link)\n",
    "        \n",
    "        for pro in pros:\n",
    "            \n",
    "            try:\n",
    "                # Product details section\n",
    "                product_detail = pro.find('a', class_ = 'a-link-normal s-no-outline')\n",
    "\n",
    "                product_link   = 'https://www.amazon.in' + product_detail.get('href')\n",
    "                product_img    = product_detail.find('img')\n",
    "\n",
    "                product_name   = product_img   .get('alt')\n",
    "                product_img    = product_img   .get('src')\n",
    "\n",
    "                # rating section\n",
    "\n",
    "                ratings        = pro.find('div', class_ ='a-section a-spacing-none a-spacing-top-micro')\n",
    "\n",
    "                if ratings:\n",
    "                    ratings    = [i.get('aria-label') for i in ratings.find_all('span')] \n",
    "                    ratings    = list(filter(lambda x: x is not None,ratings))\n",
    "                else:\n",
    "                    ratings    = []  \n",
    "\n",
    "                # price section\n",
    "\n",
    "                prices          = pro.find('div', class_ = 'a-section a-spacing-none a-spacing-top-small s-price-instructions-style') \n",
    "\n",
    "                prices          = [i.text for i in prices.find_all('span',class_ ='a-offscreen')] if prices else [np.nan] * 2\n",
    "\n",
    "                products['main_category' ].append( main_category         )\n",
    "                products['sub_category'  ].append( sub_category          )\n",
    "\n",
    "                products['name'          ].append( product_name          )\n",
    "                products['image'         ].append( product_img           )\n",
    "                products['link'          ].append( product_link          )\n",
    "\n",
    "                products['ratings'       ].append( ratings[0].split()[0] if len(ratings) == 2 else np.nan )\n",
    "                products['no_of_ratings' ].append( ratings[1]            if len(ratings) == 2 else np.nan  )\n",
    "\n",
    "                products['discount_price'].append(  prices[0] if len(prices) == 2 else np.nan    )\n",
    "                products['actual_price'  ].append(  prices[1] if len(prices) == 2 else prices[0] )\n",
    "                \n",
    "            except Exception as e:\n",
    "                with open(f'error_{qid}_{iteration}.txt','w') as file:\n",
    "                    file.write(f\"category: {category}\")\n",
    "                    file.write(f\"link    : {link}\")\n",
    "                    file.write()\n",
    "                    file.write(str(e))\n",
    "                    file.close()\n",
    "            \n",
    "        # check point\n",
    "    product = pd.DataFrame(products)\n",
    "    product.to_csv(f\"{sub_category}.csv\", index = False)\n",
    "#             print(product_link)\n",
    "#             print(product_name)\n",
    "#             print(product_img)\n",
    "#             print(ratings) \n",
    "#             print(prices)\n",
    "#             print()\n",
    "#             break\n",
    "#         break\n",
    "        \n",
    "        \n",
    "#     break"
   ]
  },
  {
   "cell_type": "code",
   "execution_count": 98,
   "id": "e1658e5f",
   "metadata": {},
   "outputs": [],
   "source": [
    "ratings"
   ]
  },
  {
   "cell_type": "code",
   "execution_count": 99,
   "id": "7c7ab3f4",
   "metadata": {},
   "outputs": [
    {
     "name": "stdout",
     "output_type": "stream",
     "text": [
      "https://www.amazon.in/s?rh=n%3A1389396031&fs=true&page=21&qid=1678609818.0\n"
     ]
    }
   ],
   "source": [
    "print(link)"
   ]
  },
  {
   "cell_type": "code",
   "execution_count": 100,
   "id": "1704cfdd",
   "metadata": {},
   "outputs": [
    {
     "data": {
      "text/plain": [
       "'Salora 98 cm (39 Inches) HD Ready Smart LED TV SLV-4392 SH (Black) (2021 Model)'"
      ]
     },
     "execution_count": 100,
     "metadata": {},
     "output_type": "execute_result"
    }
   ],
   "source": [
    "product_name"
   ]
  },
  {
   "cell_type": "code",
   "execution_count": 79,
   "id": "151bf5f0",
   "metadata": {},
   "outputs": [
    {
     "data": {
      "text/plain": [
       "<div class=\"a-section a-spacing-none a-spacing-top-small s-price-instructions-style\"><div class=\"a-row a-size-base a-color-base\"><a class=\"a-size-base a-link-normal s-underline-text s-underline-link-text s-link-style a-text-normal\" href=\"/Mi-inches-Ready-Android-Black/dp/B084872DQY/ref=sr_1_94?qid=1678722349&amp;s=electronics&amp;sr=1-94\" target=\"_blank\"><span class=\"a-price\" data-a-color=\"base\" data-a-size=\"xl\"><span class=\"a-offscreen\">₹16,499</span><span aria-hidden=\"true\"><span class=\"a-price-symbol\">₹</span><span class=\"a-price-whole\">16,499</span></span></span> </a> </div><div class=\"a-row a-size-base a-color-secondary\"><span class=\"a-color-secondary\"><span class=\"rush-component\" data-component-type=\"s-truncate\"><span class=\"a-truncate\" data-a-max-rows=\"1\" data-a-overflow-marker=\"&amp;hellip;\" data-a-word-break=\"normal\" style=\"line-height: 1.3em !important; max-height: 1.3em;\"><span class=\"a-truncate-full\">Save extra with Cashback</span><span aria-hidden=\"true\" class=\"a-truncate-cut a-hidden\"></span></span></span></span></div></div>"
      ]
     },
     "execution_count": 79,
     "metadata": {},
     "output_type": "execute_result"
    }
   ],
   "source": [
    "a = pro.find('div', class_ = 'a-section a-spacing-none a-spacing-top-small s-price-instructions-style')"
   ]
  },
  {
   "cell_type": "code",
   "execution_count": 81,
   "id": "21f5e084",
   "metadata": {},
   "outputs": [
    {
     "data": {
      "text/plain": [
       "['₹52,999', '₹85,000']"
      ]
     },
     "execution_count": 81,
     "metadata": {},
     "output_type": "execute_result"
    }
   ],
   "source": [
    "[i.text for i in a.find_all('span',class_ ='a-offscreen')] if prices else [np.nan] * 2"
   ]
  },
  {
   "cell_type": "code",
   "execution_count": 92,
   "id": "45a1174e",
   "metadata": {},
   "outputs": [
    {
     "data": {
      "text/plain": [
       "['₹59,525', '₹89,400']"
      ]
     },
     "execution_count": 92,
     "metadata": {},
     "output_type": "execute_result"
    }
   ],
   "source": [
    "prices"
   ]
  },
  {
   "cell_type": "code",
   "execution_count": 102,
   "id": "e8c9150a",
   "metadata": {},
   "outputs": [],
   "source": [
    "product = pd.DataFrame(products)"
   ]
  },
  {
   "cell_type": "code",
   "execution_count": 103,
   "id": "146bbdf2",
   "metadata": {},
   "outputs": [
    {
     "name": "stdout",
     "output_type": "stream",
     "text": [
      "<class 'pandas.core.frame.DataFrame'>\n",
      "RangeIndex: 1104 entries, 0 to 1103\n",
      "Data columns (total 7 columns):\n",
      " #   Column          Non-Null Count  Dtype \n",
      "---  ------          --------------  ----- \n",
      " 0   name            1104 non-null   object\n",
      " 1   image           1104 non-null   object\n",
      " 2   link            1104 non-null   object\n",
      " 3   ratings         577 non-null    object\n",
      " 4   no_of_ratings   577 non-null    object\n",
      " 5   discount_price  698 non-null    object\n",
      " 6   actual_price    733 non-null    object\n",
      "dtypes: object(7)\n",
      "memory usage: 60.5+ KB\n"
     ]
    }
   ],
   "source": [
    "product.info()"
   ]
  },
  {
   "cell_type": "code",
   "execution_count": null,
   "id": "c88a7b48",
   "metadata": {},
   "outputs": [],
   "source": []
  }
 ],
 "metadata": {
  "kernelspec": {
   "display_name": "Python 3 (ipykernel)",
   "language": "python",
   "name": "python3"
  },
  "language_info": {
   "codemirror_mode": {
    "name": "ipython",
    "version": 3
   },
   "file_extension": ".py",
   "mimetype": "text/x-python",
   "name": "python",
   "nbconvert_exporter": "python",
   "pygments_lexer": "ipython3",
   "version": "3.9.12"
  }
 },
 "nbformat": 4,
 "nbformat_minor": 5
}
