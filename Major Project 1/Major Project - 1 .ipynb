{
 "cells": [
  {
   "cell_type": "markdown",
   "id": "4ec03ff5",
   "metadata": {},
   "source": [
    "# Write a program to create a dictionary with product id as the key and product details as values for inventory management system"
   ]
  },
  {
   "cell_type": "markdown",
   "id": "60d6d013",
   "metadata": {},
   "source": [
    "## Importing Libraries"
   ]
  },
  {
   "cell_type": "code",
   "execution_count": 17,
   "id": "1c17c1bf",
   "metadata": {},
   "outputs": [],
   "source": [
    "import json as js\n",
    "import numpy as np"
   ]
  },
  {
   "cell_type": "code",
   "execution_count": 6,
   "id": "bb7bc784",
   "metadata": {},
   "outputs": [],
   "source": [
    "# reads records.json file and return dictionary \n",
    "def read_file():\n",
    "    print(\"*\"*80)\n",
    "    fw = open('records.json','r')\n",
    "    r = js.loads(fw.read())\n",
    "    fw.close()\n",
    "    return r\n",
    "\n",
    "#Write records.json file for given dictionaty input \n",
    "def write_file(var):\n",
    "    fw = open('records.json','w')\n",
    "    fw.write(js.dumps(var))\n",
    "    fw.close()"
   ]
  },
  {
   "cell_type": "code",
   "execution_count": 8,
   "id": "d3c1a16c",
   "metadata": {},
   "outputs": [
    {
     "name": "stdout",
     "output_type": "stream",
     "text": [
      "********************************************************************************\n"
     ]
    }
   ],
   "source": [
    "data = read_file()"
   ]
  },
  {
   "cell_type": "code",
   "execution_count": 11,
   "id": "49545ea1",
   "metadata": {},
   "outputs": [
    {
     "data": {
      "text/plain": [
       "'132'"
      ]
     },
     "execution_count": 11,
     "metadata": {},
     "output_type": "execute_result"
    }
   ],
   "source": [
    "max(data.keys())"
   ]
  },
  {
   "cell_type": "code",
   "execution_count": 22,
   "id": "e106380f",
   "metadata": {},
   "outputs": [
    {
     "data": {
      "text/plain": [
       "132"
      ]
     },
     "execution_count": 22,
     "metadata": {},
     "output_type": "execute_result"
    }
   ],
   "source": [
    "np.array(list(data.keys()),dtype = int).max()"
   ]
  },
  {
   "cell_type": "code",
   "execution_count": 16,
   "id": "53ae2f66",
   "metadata": {},
   "outputs": [
    {
     "data": {
      "text/plain": [
       "'99'"
      ]
     },
     "execution_count": 16,
     "metadata": {},
     "output_type": "execute_result"
    }
   ],
   "source": [
    "max('99','100')"
   ]
  },
  {
   "cell_type": "code",
   "execution_count": 23,
   "id": "2fc1a029",
   "metadata": {},
   "outputs": [
    {
     "data": {
      "text/plain": [
       "100"
      ]
     },
     "execution_count": 23,
     "metadata": {},
     "output_type": "execute_result"
    }
   ],
   "source": [
    "int('100')"
   ]
  },
  {
   "cell_type": "code",
   "execution_count": null,
   "id": "0b96ba2d",
   "metadata": {},
   "outputs": [],
   "source": []
  }
 ],
 "metadata": {
  "kernelspec": {
   "display_name": "Python 3 (ipykernel)",
   "language": "python",
   "name": "python3"
  },
  "language_info": {
   "codemirror_mode": {
    "name": "ipython",
    "version": 3
   },
   "file_extension": ".py",
   "mimetype": "text/x-python",
   "name": "python",
   "nbconvert_exporter": "python",
   "pygments_lexer": "ipython3",
   "version": "3.9.12"
  }
 },
 "nbformat": 4,
 "nbformat_minor": 5
}
