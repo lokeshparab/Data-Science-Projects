{
 "cells": [
  {
   "cell_type": "code",
   "execution_count": 1,
   "id": "bbda4e26",
   "metadata": {},
   "outputs": [],
   "source": [
    "import json as js\n",
    "import numpy as np"
   ]
  },
  {
   "cell_type": "code",
   "execution_count": 2,
   "id": "0430754c",
   "metadata": {},
   "outputs": [],
   "source": [
    "# reads records.json file and return dictionary \n",
    "def read_file():\n",
    "    fw = open('Files/raw_data.json','r')\n",
    "    r = js.loads(fw.read())\n",
    "    fw.close()\n",
    "    return r\n",
    "\n",
    "#Write records.json file for given dictionaty input \n",
    "def write_file(var):\n",
    "    fw = open('records.json','w')\n",
    "    fw.write(js.dumps(var))\n",
    "    fw.close()"
   ]
  },
  {
   "cell_type": "code",
   "execution_count": 3,
   "id": "f65d1255",
   "metadata": {},
   "outputs": [
    {
     "data": {
      "text/plain": [
       "['dairy milk', 'chocalate', 25, 10, 10]"
      ]
     },
     "execution_count": 3,
     "metadata": {},
     "output_type": "execute_result"
    }
   ],
   "source": [
    "list(np.char.lower(list(read_file()['100'].values())[:2])) + list(read_file()['100'].values())[2:]"
   ]
  },
  {
   "cell_type": "code",
   "execution_count": 14,
   "id": "bac75345",
   "metadata": {},
   "outputs": [],
   "source": [
    "dct = read_file()\n",
    "\n",
    "temp_dct = {}\n",
    "\n",
    "for i in dct:\n",
    "    \n",
    "    data = list( dct[i].values())\n",
    "    \n",
    "    name_cate = list( np.char.lower( data[:2] ) )\n",
    "    \n",
    "    dct[i] = name_cate + data[2:]\n",
    "    \n",
    "    temp_dct[int(i)] = name_cate + data[2:]\n",
    "    \n",
    "write_file(temp_dct)"
   ]
  },
  {
   "cell_type": "code",
   "execution_count": 6,
   "id": "d17013a3",
   "metadata": {},
   "outputs": [
    {
     "name": "stdout",
     "output_type": "stream",
     "text": [
      "100\n"
     ]
    }
   ],
   "source": [
    "for i in dct:\n",
    "    print(i)\n",
    "    break"
   ]
  },
  {
   "cell_type": "code",
   "execution_count": 16,
   "id": "c4a5b37e",
   "metadata": {},
   "outputs": [
    {
     "data": {
      "text/plain": [
       "{100: ['dairy milk', 'chocalate', 25, 10, 10],\n",
       " 101: ['5-star', 'chocalate', 15, 6, 5],\n",
       " 102: ['kit-kat', 'chocalate', 20, 30, 15],\n",
       " 103: ['parle-g', 'biscuit', 10, 996, 0],\n",
       " 104: ['monaco', 'biscuit', 5, 1076, 0],\n",
       " 105: ['tiger', 'biscuit', 5, 10788, 0],\n",
       " 106: ['marie-gold', 'biscuit', 10, 10443, 0],\n",
       " 107: ['marie-lite', 'biscuit', 10, 1087, 5],\n",
       " 108: ['50-50', 'biscuit', 5, 1098, 0],\n",
       " 109: ['20-20', 'biscuit', 5, 1000, 0],\n",
       " 110: ['oreo', 'biscuit', 25, 2000, 0],\n",
       " 111: ['parle-gold', 'biscuit', 20, 460, 0],\n",
       " 112: ['mazha', 'soft drink', 25, 890, 0],\n",
       " 113: ['thums-up', 'soft drink', 25, 2350, 0],\n",
       " 114: ['mirinda', 'soft drink', 25, 1200, 15],\n",
       " 115: ['vanila flever', 'icecream', 20, 2349, 30],\n",
       " 116: ['mango flever', 'icecream', 20, 7890, 4],\n",
       " 117: ['chocalate flever', 'icecream', 20, 1230, 5],\n",
       " 118: ['kurkure', 'snake', 10, 4560, 6],\n",
       " 119: ['taka-tak', 'snake', 10, 1000, 6],\n",
       " 120: ['tedhe-medhe', 'snake', 10, 1010, 1],\n",
       " 121: ['maggie', 'snake', 10, 1500, 18],\n",
       " 122: ['uncle-chips', 'snake', 10, 500, 21],\n",
       " 123: ['tomato-chips', 'snake', 10, 600, 13],\n",
       " 124: ['fruiti', 'soft drink', 25, 700, 0],\n",
       " 125: ['spirit', 'soft drink', 25, 8000, 10],\n",
       " 126: ['cadbury', 'chocalate', 25, 5689, 10],\n",
       " 127: ['galaxy', 'chocalate', 25, 1230, 10],\n",
       " 128: ['nestle', 'chocalate', 25, 1483, 10],\n",
       " 129: ['amul', 'chocalate', 25, 6500, 10],\n",
       " 130: ['ferro rocher', 'chocalate', 25, 10, 10],\n",
       " 131: ['hershey', 'chocalate', 25, 10, 10],\n",
       " 132: ['eclair', 'chocalate', 2, 100, 0]}"
      ]
     },
     "execution_count": 16,
     "metadata": {},
     "output_type": "execute_result"
    }
   ],
   "source": [
    "temp_dct"
   ]
  },
  {
   "cell_type": "code",
   "execution_count": null,
   "id": "668f432b",
   "metadata": {},
   "outputs": [],
   "source": []
  }
 ],
 "metadata": {
  "kernelspec": {
   "display_name": "Python 3 (ipykernel)",
   "language": "python",
   "name": "python3"
  },
  "language_info": {
   "codemirror_mode": {
    "name": "ipython",
    "version": 3
   },
   "file_extension": ".py",
   "mimetype": "text/x-python",
   "name": "python",
   "nbconvert_exporter": "python",
   "pygments_lexer": "ipython3",
   "version": "3.9.12"
  }
 },
 "nbformat": 4,
 "nbformat_minor": 5
}
