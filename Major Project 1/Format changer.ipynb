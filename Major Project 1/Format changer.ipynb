{
 "cells": [
  {
   "cell_type": "code",
   "execution_count": 1,
   "id": "bbda4e26",
   "metadata": {},
   "outputs": [],
   "source": [
    "import json as js\n",
    "import numpy as np"
   ]
  },
  {
   "cell_type": "code",
   "execution_count": 2,
   "id": "0430754c",
   "metadata": {},
   "outputs": [],
   "source": [
    "# reads records.json file and return dictionary \n",
    "def read_file():\n",
    "    fw = open('Files/raw_data.json','r')\n",
    "    r = js.loads(fw.read())\n",
    "    fw.close()\n",
    "    return r\n",
    "\n",
    "#Write records.json file for given dictionaty input \n",
    "def write_file(var):\n",
    "    fw = open('records.json','w')\n",
    "    fw.write(js.dumps(var))\n",
    "    fw.close()"
   ]
  },
  {
   "cell_type": "code",
   "execution_count": 11,
   "id": "f65d1255",
   "metadata": {},
   "outputs": [
    {
     "name": "stdout",
     "output_type": "stream",
     "text": [
      "********************************************************************************\n"
     ]
    },
    {
     "data": {
      "text/plain": [
       "['dairy milk', 'chocalate', 25, 10, 10]"
      ]
     },
     "execution_count": 11,
     "metadata": {},
     "output_type": "execute_result"
    }
   ],
   "source": [
    "list(read_file()['100'].values())"
   ]
  },
  {
   "cell_type": "code",
   "execution_count": 14,
   "id": "bac75345",
   "metadata": {},
   "outputs": [
    {
     "name": "stdout",
     "output_type": "stream",
     "text": [
      "********************************************************************************\n"
     ]
    }
   ],
   "source": [
    "dct = read_file()\n",
    "\n",
    "for i in dct:\n",
    "    \n",
    "    dct[i] = list( dct[i].values() )\n",
    "    \n",
    "write_file(dct)"
   ]
  }
 ],
 "metadata": {
  "kernelspec": {
   "display_name": "Python 3 (ipykernel)",
   "language": "python",
   "name": "python3"
  },
  "language_info": {
   "codemirror_mode": {
    "name": "ipython",
    "version": 3
   },
   "file_extension": ".py",
   "mimetype": "text/x-python",
   "name": "python",
   "nbconvert_exporter": "python",
   "pygments_lexer": "ipython3",
   "version": "3.9.12"
  }
 },
 "nbformat": 4,
 "nbformat_minor": 5
}
